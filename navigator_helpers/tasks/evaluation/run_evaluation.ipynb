{
 "cells": [
  {
   "cell_type": "code",
   "execution_count": 5,
   "metadata": {},
   "outputs": [],
   "source": [
    "import sys\n",
    "import os\n",
    "\n",
    "# Get the current working directory of the notebook\n",
    "notebook_dir = os.getcwd()\n",
    "\n",
    "# Define the root directory\n",
    "root_dir = os.path.abspath(os.path.join(notebook_dir, '..', '..', '..'))\n",
    "\n",
    "# Add the root directory to sys.path\n",
    "sys.path.insert(0, root_dir)\n",
    "\n",
    "# set environment variable 'GRETEL_PROD_API_KEY'\n",
    "os.environ['GRETEL_PROD_API_KEY'] = 'your_api_key'\n",
    "os.environ['GRETEL_PROD_API_KEY'] = 'grtu68b986cbf7c03928928ef2086322b79639a4549725c8c118559aae954609db93'"
   ]
  },
  {
   "cell_type": "code",
   "execution_count": 16,
   "metadata": {},
   "outputs": [],
   "source": [
    "# I'm having trouble finding my virtual environment from within the notebook, so installing all the requirements here\n",
    "# !pip install -r /mnt/foundation-shared/nina_xu_gretel_ai/navigator-helpers/requirements.txt\n",
    "\n",
    "# Restart the kernel if needed"
   ]
  },
  {
   "cell_type": "code",
   "execution_count": null,
   "metadata": {},
   "outputs": [],
   "source": [
    "from navigator_helpers.llms.llm_suite import GretelLLMSuite\n",
    "\n",
    "from evaluation import BaseEvaluationTaskSuite, NL2SQLEvaluationTaskSuite\n",
    "\n",
    "from datasets import load_dataset"
   ]
  },
  {
   "cell_type": "code",
   "execution_count": 3,
   "metadata": {},
   "outputs": [],
   "source": [
    "## TODO: add dict of datasets to test\n",
    "dataset = load_dataset(\"gretelai/synthetic_text_to_sql\", split=\"train\")\n",
    "dataset_10 = dataset.select(range(1000))\n",
    "dataset_10_pd = dataset_10.to_pandas()\n",
    "\n",
    "dataset_1_pd = dataset.select(range(1)).to_pandas()"
   ]
  },
  {
   "cell_type": "code",
   "execution_count": null,
   "metadata": {},
   "outputs": [],
   "source": [
    "llm_suite = GretelLLMSuite()"
   ]
  },
  {
   "cell_type": "code",
   "execution_count": null,
   "metadata": {},
   "outputs": [],
   "source": [
    "\n",
    "results_1 = BaseEvaluationTaskSuite(llm_suite, dataset_10_pd).row_uniqueness()\n",
    "results_2 = BaseEvaluationTaskSuite(llm_suite, dataset_10_pd).feature_cardinality()\n",
    "results_3 = BaseEvaluationTaskSuite(llm_suite, dataset_10_pd).feature_distribution()\n",
    "results_4 = BaseEvaluationTaskSuite(llm_suite, dataset_10_pd).num_words_per_record()\n",
    "\n",
    "results_5 = NL2SQLEvaluationTaskSuite(\n",
    "    llm_suite=llm_suite, dataset=dataset_1_pd, code_lang=\"sql\"\n",
    "    ).llm_as_a_critic_evaluation(\n",
    "    instruction_col_name=\"sql_prompt\", code_col_name=\"sql\", context_col_name=\"sql_context\"\n",
    ")\n",
    "\n",
    "results_6 = BaseEvaluationTaskSuite(llm_suite, dataset_1_pd).llm_as_a_critic_evaluation(\n",
    "    instruction_col_name=\"sql_prompt\", code_col_name=\"sql\"\n",
    ")"
   ]
  },
  {
   "cell_type": "code",
   "execution_count": null,
   "metadata": {},
   "outputs": [],
   "source": [
    "print(results_1)\n",
    "print(results_2)\n",
    "print(results_3)\n",
    "print(results_4)\n",
    "print(results_5)\n",
    "print(results_6)\n",
    "\n",
    "# review specific records\n",
    "# print(dataset_10_pd.loc[results_1['non_semantically_unique_ids']])\n"
   ]
  },
  {
   "cell_type": "code",
   "execution_count": null,
   "metadata": {},
   "outputs": [],
   "source": []
  }
 ],
 "metadata": {
  "kernelspec": {
   "display_name": "navhelpers",
   "language": "python",
   "name": "python3"
  },
  "language_info": {
   "codemirror_mode": {
    "name": "ipython",
    "version": 3
   },
   "file_extension": ".py",
   "mimetype": "text/x-python",
   "name": "python",
   "nbconvert_exporter": "python",
   "pygments_lexer": "ipython3",
   "version": "3.9.17"
  }
 },
 "nbformat": 4,
 "nbformat_minor": 2
}
