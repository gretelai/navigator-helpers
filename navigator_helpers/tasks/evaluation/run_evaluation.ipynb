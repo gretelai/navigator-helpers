{
 "cells": [
  {
   "cell_type": "markdown",
   "metadata": {},
   "source": [
    "# Test evaluation task suite for AI data designer"
   ]
  },
  {
   "cell_type": "markdown",
   "metadata": {},
   "source": [
    "Setup API key to run tests below"
   ]
  },
  {
   "cell_type": "code",
   "execution_count": 1,
   "metadata": {},
   "outputs": [],
   "source": [
    "import sys\n",
    "import os\n",
    "\n",
    "# Get the current working directory of the notebook\n",
    "notebook_dir = os.getcwd()\n",
    "\n",
    "# Define the root directory and add it to the path\n",
    "root_dir = os.path.abspath(os.path.join(notebook_dir, '..', '..', '..'))\n",
    "sys.path.insert(0, root_dir)\n",
    "\n",
    "# set environment variable 'GRETEL_PROD_API_KEY' from https://console.gretel.ai/users/me/key\n",
    "os.environ['GRETEL_PROD_API_KEY'] = 'grtucca6490cbab557f7b190245703880475f2a5c4ca0820c37b6d236da479ec68bd'"
   ]
  },
  {
   "cell_type": "markdown",
   "metadata": {},
   "source": [
    "### Evaluate Synthetic Dataset"
   ]
  },
  {
   "cell_type": "code",
   "execution_count": 23,
   "metadata": {},
   "outputs": [],
   "source": [
    "# Reload packages if you've made changes to the evaluation.py file.\n",
    "# Alternatively you can restart the kernel to pick up changes\n",
    "\n",
    "from importlib import reload\n",
    "import evaluation\n",
    "reload(evaluation)\n",
    "\n",
    "import pandas as pd\n",
    "from pprint import pprint\n",
    "from navigator_helpers.llms.llm_suite import GretelLLMSuite\n",
    "from evaluation import BaseEvaluationTaskSuite, NL2PythonEvaluationTaskSuite, NL2SQLEvaluationTaskSuite\n",
    "from datasets import load_dataset"
   ]
  },
  {
   "cell_type": "code",
   "execution_count": null,
   "metadata": {},
   "outputs": [],
   "source": [
    "datasets_dict = {\n",
    "    \"synthetic_text_to_sql\": {\n",
    "        \"path\": \"gretelai/synthetic_text_to_sql\",\n",
    "        \"code_lang\": \"sql\",\n",
    "        \"kwargs\":{\n",
    "            \"instruction_col_name\": \"sql_prompt\",\n",
    "            \"code_col_name\": \"sql\",\n",
    "            \"context_col_name\": \"sql_context\"\n",
    "        }\n",
    "    },\n",
    "    \"gsm8k\": {\n",
    "        \"path\": \"openai/gsm8k\",\n",
    "        \"kwargs\": {\n",
    "            \"instruction_col_name\": \"question\",\n",
    "            \"code_col_name\": \"answer\",\n",
    "        }\n",
    "    },\n",
    "    \"synthetic_gsm8k\": {\n",
    "        \"path\": \"gretelai/synthetic-gsm8k-reflection-405b\",\n",
    "        \"kwargs\": {\n",
    "            \"instruction_col_name\": \"question\",\n",
    "            \"code_col_name\": \"answer\",\n",
    "        }\n",
    "    },\n",
    "    \"xlcost_text_to_code\": {\n",
    "        \"path\": \"codeparrot/xlcost-text-to-code\",\n",
    "        \"code_lang\": \"python\",\n",
    "        \"kwargs\": {\n",
    "            \"instruction_col_name\": \"text\",\n",
    "            \"code_col_name\": \"code\",\n",
    "        }\n",
    "    },\n",
    "}\n",
    "\n",
    "# Prompt user to select a dataset\n",
    "print(\"Available datasets:\")\n",
    "for key in datasets_dict.keys():\n",
    "    print(f\" - {key}\")\n",
    "\n",
    "selected_dataset = input(\"\\nEnter the name of the dataset to load: \").strip()\n",
    "\n",
    "# Load the selected dataset\n",
    "if selected_dataset in datasets_dict:\n",
    "    dataset_dict = datasets_dict[selected_dataset]\n",
    "    dataset_path = dataset_dict[\"path\"]\n",
    "    kwargs = dataset_dict[\"kwargs\"]\n",
    "    code_lang = dataset_dict[\"code_lang\"] if \"code_lang\" in dataset_dict.keys() else None\n",
    "    dataset = load_dataset(dataset_path, split=\"train\")\n",
    "    \n",
    "    # Optionally, select a subset and convert to pandas DataFrame\n",
    "    dataset_1000 = dataset.select(range(1000))\n",
    "    dataset_1000_pd = dataset_1000.to_pandas()\n",
    "    \n",
    "    print(f\"Loaded dataset '{selected_dataset}' successfully!\")\n",
    "else:\n",
    "    print(\"Error: Dataset not found. Please enter a valid dataset name.\")"
   ]
  },
  {
   "cell_type": "code",
   "execution_count": null,
   "metadata": {},
   "outputs": [],
   "source": [
    "llm_suite = GretelLLMSuite()"
   ]
  },
  {
   "cell_type": "code",
   "execution_count": null,
   "metadata": {},
   "outputs": [],
   "source": [
    "results_1 = BaseEvaluationTaskSuite(llm_suite, dataset_1000_pd).row_uniqueness()\n",
    "pprint(results_1)"
   ]
  },
  {
   "cell_type": "code",
   "execution_count": null,
   "metadata": {},
   "outputs": [],
   "source": [
    "\n",
    "results_2 = BaseEvaluationTaskSuite(llm_suite, dataset_1000_pd).feature_cardinality()\n",
    "pprint(results_2)"
   ]
  },
  {
   "cell_type": "code",
   "execution_count": null,
   "metadata": {},
   "outputs": [],
   "source": [
    "\n",
    "results_3 = BaseEvaluationTaskSuite(llm_suite, dataset_1000_pd).feature_distribution()\n",
    "pprint(results_3)"
   ]
  },
  {
   "cell_type": "code",
   "execution_count": null,
   "metadata": {},
   "outputs": [],
   "source": [
    "\n",
    "results_4 = BaseEvaluationTaskSuite(llm_suite, dataset_1000_pd).num_words_per_record()\n",
    "pprint(results_4)"
   ]
  },
  {
   "cell_type": "markdown",
   "metadata": {},
   "source": [
    "### Testing SQL Validation"
   ]
  },
  {
   "cell_type": "code",
   "execution_count": 26,
   "metadata": {},
   "outputs": [],
   "source": [
    "dataset_10_pd = dataset_1000_pd.head(10)"
   ]
  },
  {
   "cell_type": "code",
   "execution_count": null,
   "metadata": {},
   "outputs": [],
   "source": [
    "if code_lang == \"sql\":\n",
    "    task_5 = NL2SQLEvaluationTaskSuite(\n",
    "        llm_suite=llm_suite, dataset=dataset_10_pd, code_lang=\"sql\"\n",
    "    )\n",
    "elif code_lang == \"python\":\n",
    "    task_5 = NL2PythonEvaluationTaskSuite(\n",
    "        llm_suite=llm_suite, dataset=dataset_10_pd, code_lang=\"python\"\n",
    "    )\n",
    "else:\n",
    "    task_5 = BaseEvaluationTaskSuite(llm_suite, dataset_10_pd)\n",
    "results_5 = task_5.llm_as_a_judge_evaluation(**kwargs)\n",
    "table_5 = task_5.output_dataset"
   ]
  },
  {
   "cell_type": "code",
   "execution_count": null,
   "metadata": {},
   "outputs": [],
   "source": [
    "\n",
    "print(results_5)\n",
    "table_5.head()"
   ]
  },
  {
   "cell_type": "code",
   "execution_count": null,
   "metadata": {},
   "outputs": [],
   "source": []
  }
 ],
 "metadata": {
  "kernelspec": {
   "display_name": "navhelpers",
   "language": "python",
   "name": "python3"
  },
  "language_info": {
   "codemirror_mode": {
    "name": "ipython",
    "version": 3
   },
   "file_extension": ".py",
   "mimetype": "text/x-python",
   "name": "python",
   "nbconvert_exporter": "python",
   "pygments_lexer": "ipython3",
   "version": "3.9.17"
  }
 },
 "nbformat": 4,
 "nbformat_minor": 2
}
