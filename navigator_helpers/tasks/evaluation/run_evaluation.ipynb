{
 "cells": [
  {
   "cell_type": "markdown",
   "metadata": {},
   "source": [
    "# Test evaluation task suite for AI data designer"
   ]
  },
  {
   "cell_type": "markdown",
   "metadata": {},
   "source": [
    "## Setup API key and imports"
   ]
  },
  {
   "cell_type": "code",
   "execution_count": 467,
   "metadata": {},
   "outputs": [],
   "source": [
    "import sys\n",
    "import os\n",
    "\n",
    "# Define the root directory and add it to the path\n",
    "notebook_dir = os.getcwd()\n",
    "root_dir = os.path.abspath(os.path.join(notebook_dir, '..', '..', '..'))\n",
    "sys.path.insert(0, root_dir)\n",
    "\n",
    "# set environment variable 'GRETEL_PROD_API_KEY' from https://console.gretel.ai/users/me/key\n",
    "gretel_prod_api_key = input(\"Enter your Gretel API key from https://console.gretel.ai/users/me/key: \")\n",
    "os.environ['GRETEL_PROD_API_KEY'] = gretel_prod_api_key"
   ]
  },
  {
   "cell_type": "code",
   "execution_count": 468,
   "metadata": {},
   "outputs": [],
   "source": [
    "# Reload packages if you've made changes to the evaluation.py file.\n",
    "# Alternatively you can restart the kernel to pick up changes\n",
    "\n",
    "from importlib import reload\n",
    "import evaluation\n",
    "reload(evaluation)\n",
    "\n",
    "import pandas as pd\n",
    "from pprint import pprint\n",
    "from navigator_helpers.llms.llm_suite import GretelLLMSuite\n",
    "from evaluation import BaseEvaluationTaskSuite, NL2PythonEvaluationTaskSuite, NL2SQLEvaluationTaskSuite, VisualizationTaskSuite\n",
    "from datasets import load_dataset"
   ]
  },
  {
   "cell_type": "markdown",
   "metadata": {},
   "source": [
    "## Choose Dataset for Evaluation"
   ]
  },
  {
   "cell_type": "code",
   "execution_count": null,
   "metadata": {},
   "outputs": [],
   "source": [
    "# Set the number of samples to load from the dataset for testing\n",
    "# Set to None to use the full dataset\n",
    "NUM_SAMPLES = 500\n",
    "\n",
    "datasets_dict = {\n",
    "    \"synthetic_text_to_sql\": {\n",
    "        \"dataset_kwargs\": {\n",
    "            \"path\": \"gretelai/synthetic_text_to_sql\",\n",
    "            \"split\": \"train\"\n",
    "        },\n",
    "        \"code_lang\": \"sql\",\n",
    "        \"eval_kwargs\":{\n",
    "            \"instruction_col_name\": \"sql_prompt\",\n",
    "            \"code_col_name\": \"sql\",\n",
    "            \"context_col_name\": \"sql_context\"\n",
    "        }\n",
    "    },\n",
    "    \"gsm8k\": {\n",
    "        \"dataset_kwargs\": {\n",
    "            \"path\": \"openai/gsm8k\",\n",
    "            \"name\": \"main\",\n",
    "            \"split\": \"train\"\n",
    "        },\n",
    "        \"eval_kwargs\": {\n",
    "            \"instruction_col_name\": \"question\",\n",
    "            \"code_col_name\": \"answer\",\n",
    "        }\n",
    "    },\n",
    "    \"synthetic_gsm8k\": {\n",
    "        \"dataset_kwargs\": {\n",
    "            \"path\": \"gretelai/synthetic-gsm8k-reflection-405b\",\n",
    "            \"split\": \"train\"\n",
    "        },\n",
    "        \"eval_kwargs\": {\n",
    "            \"instruction_col_name\": \"question\",\n",
    "            \"code_col_name\": \"answer\",\n",
    "        }\n",
    "    },\n",
    "    \"xlcost_text_to_code\": {\n",
    "        \"dataset_kwargs\": {\n",
    "            \"path\": \"codeparrot/xlcost-text-to-code\",\n",
    "            \"split\": \"train\"\n",
    "        },\n",
    "        \"code_lang\": \"python\",\n",
    "        \"eval_kwargs\": {\n",
    "            \"instruction_col_name\": \"text\",\n",
    "            \"code_col_name\": \"code\",\n",
    "        }\n",
    "    },\n",
    "}\n",
    "\n",
    "# Prompt user to select a dataset\n",
    "print(\"Available datasets:\")\n",
    "for key in datasets_dict.keys():\n",
    "    print(f\" - {key}\")\n",
    "\n",
    "selected_dataset = input(\"\\nEnter the name of the dataset to load: \").strip()\n",
    "\n",
    "# Load the selected dataset\n",
    "if selected_dataset in datasets_dict:\n",
    "    dataset_dict = datasets_dict[selected_dataset]\n",
    "    eval_kwargs = dataset_dict[\"eval_kwargs\"]\n",
    "    code_lang = dataset_dict[\"code_lang\"] if \"code_lang\" in dataset_dict.keys() else None\n",
    "    dataset = load_dataset(**dataset_dict[\"dataset_kwargs\"])\n",
    "\n",
    "    # Optionally, select a subset if NUM_SAMPLES is specified\n",
    "    if NUM_SAMPLES is not None and NUM_SAMPLES < len(dataset):\n",
    "        dataset = dataset.select(range(NUM_SAMPLES))\n",
    "    \n",
    "    dataset_df = dataset.to_pandas()\n",
    "    \n",
    "    print(f\"Loaded dataset '{selected_dataset}' successfully!\")\n",
    "else:\n",
    "    print(\"Error: Dataset not found. Please enter a valid dataset name.\")"
   ]
  },
  {
   "cell_type": "markdown",
   "metadata": {},
   "source": [
    "## Run Evaluation on dataset"
   ]
  },
  {
   "cell_type": "code",
   "execution_count": null,
   "metadata": {},
   "outputs": [],
   "source": [
    "llm_suite = GretelLLMSuite()"
   ]
  },
  {
   "cell_type": "code",
   "execution_count": null,
   "metadata": {},
   "outputs": [],
   "source": [
    "# Define a dictionary to store evaluation results\n",
    "results = {}\n",
    "\n",
    "# Uncomment the following lines to run individual evaluation tasks\n",
    "# results.update(BaseEvaluationTaskSuite(llm_suite, dataset_pd).row_uniqueness())\n",
    "# results.update(BaseEvaluationTaskSuite(llm_suite, dataset_pd).feature_cardinality())\n",
    "# results.update(BaseEvaluationTaskSuite(llm_suite, dataset_pd).feature_distribution())\n",
    "# results.update(BaseEvaluationTaskSuite(llm_suite, dataset_pd).num_words_per_record())\n",
    "# pprint(results)\n",
    "\n",
    "results = BaseEvaluationTaskSuite(llm_suite, dataset_df, code_lang, eval_kwargs).evaluate_all()\n",
    "pprint(results)\n",
    "\n",
    "#results = NL2PythonEvaluationTaskSuite(llm_suite, dataset_pd, code_lang=\"python\").evaluate_all()\n",
    "#pprint(results)\n"
   ]
  },
  {
   "cell_type": "markdown",
   "metadata": {},
   "source": [
    "## Visualization of Evaluation Results"
   ]
  },
  {
   "cell_type": "code",
   "execution_count": null,
   "metadata": {},
   "outputs": [],
   "source": [
    "vis_suite = VisualizationTaskSuite(dataset_df, results)\n",
    "\n",
    "# Uncomment to visualize individual evaluation test plots\n",
    "#vis_suite.plot_feature_cardinality()\n",
    "#vis_suite.plot_row_uniqueness()\n",
    "#vis_suite.plot_feature_distribution()\n",
    "#vis_suite.plot_num_words_per_record()\n",
    "\n",
    "vis_suite.visualize_all()"
   ]
  },
  {
   "cell_type": "markdown",
   "metadata": {},
   "source": [
    "### Testing LLM-as-a-Judge Evaluation"
   ]
  },
  {
   "cell_type": "code",
   "execution_count": 477,
   "metadata": {},
   "outputs": [],
   "source": [
    "if code_lang == \"sql\":\n",
    "    task = NL2SQLEvaluationTaskSuite(\n",
    "        llm_suite=llm_suite, dataset=dataset_df, code_lang=\"sql\"\n",
    "    )\n",
    "elif code_lang == \"python\":\n",
    "    task = NL2PythonEvaluationTaskSuite(\n",
    "        llm_suite=llm_suite, dataset=dataset_df, code_lang=\"python\"\n",
    "    )\n",
    "else:\n",
    "    task = BaseEvaluationTaskSuite(llm_suite, dataset_df)\n",
    "results = task.llm_as_a_judge_evaluation(**eval_kwargs)\n",
    "table = task.output_dataset"
   ]
  }
 ],
 "metadata": {
  "kernelspec": {
   "display_name": "navhelpers",
   "language": "python",
   "name": "python3"
  },
  "language_info": {
   "codemirror_mode": {
    "name": "ipython",
    "version": 3
   },
   "file_extension": ".py",
   "mimetype": "text/x-python",
   "name": "python",
   "nbconvert_exporter": "python",
   "pygments_lexer": "ipython3",
   "version": "3.10.12"
  }
 },
 "nbformat": 4,
 "nbformat_minor": 2
}
