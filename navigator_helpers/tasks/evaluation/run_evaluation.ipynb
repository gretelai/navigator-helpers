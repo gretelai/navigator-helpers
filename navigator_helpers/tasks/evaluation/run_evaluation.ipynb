{
 "cells": [
  {
   "cell_type": "markdown",
   "metadata": {},
   "source": [
    "# Test evaluation task suite for AI data designer"
   ]
  },
  {
   "cell_type": "markdown",
   "metadata": {},
   "source": [
    "## Setup API key and imports"
   ]
  },
  {
   "cell_type": "code",
   "execution_count": 467,
   "metadata": {},
   "outputs": [],
   "source": [
    "import sys\n",
    "import os\n",
    "\n",
    "# Define the root directory and add it to the path\n",
    "notebook_dir = os.getcwd()\n",
    "root_dir = os.path.abspath(os.path.join(notebook_dir, '..', '..', '..'))\n",
    "sys.path.insert(0, root_dir)\n",
    "\n",
    "# set environment variable 'GRETEL_PROD_API_KEY' from https://console.gretel.ai/users/me/key\n",
    "gretel_prod_api_key = input(\"Enter your Gretel API key from https://console.gretel.ai/users/me/key: \")\n",
    "os.environ['GRETEL_PROD_API_KEY'] = gretel_prod_api_key"
   ]
  },
  {
   "cell_type": "code",
<<<<<<< HEAD
   "execution_count": 2,
=======
   "execution_count": 468,
>>>>>>> 021fba38f8bc259afeadce1d2ae5fa197d6f40aa
   "metadata": {},
   "outputs": [
    {
     "name": "stderr",
     "output_type": "stream",
     "text": [
      "/home/nina_xu_gretel_ai/.pyenv/versions/3.9.17/envs/navhelpers/lib/python3.9/site-packages/tqdm/auto.py:21: TqdmWarning: IProgress not found. Please update jupyter and ipywidgets. See https://ipywidgets.readthedocs.io/en/stable/user_install.html\n",
      "  from .autonotebook import tqdm as notebook_tqdm\n"
     ]
    }
   ],
   "source": [
    "# Reload packages if you've made changes to the evaluation.py file.\n",
    "# Alternatively you can restart the kernel to pick up changes\n",
    "\n",
    "from importlib import reload\n",
    "import evaluation\n",
    "reload(evaluation)\n",
    "\n",
    "import pandas as pd\n",
    "from pprint import pprint\n",
    "from navigator_helpers.llms.llm_suite import GretelLLMSuite\n",
    "from evaluation import BaseEvaluationTaskSuite, NL2PythonEvaluationTaskSuite, NL2SQLEvaluationTaskSuite, VisualizationTaskSuite\n",
    "from datasets import load_dataset"
   ]
  },
  {
   "cell_type": "markdown",
   "metadata": {},
   "source": [
    "## Choose Dataset for Evaluation"
   ]
  },
  {
   "cell_type": "code",
   "execution_count": 3,
   "metadata": {},
   "outputs": [
    {
     "name": "stdout",
     "output_type": "stream",
     "text": [
      "Available datasets:\n",
      " - synthetic_text_to_sql\n",
      " - gsm8k\n",
      " - synthetic_gsm8k\n",
      " - xlcost_text_to_code\n",
      "Loaded dataset 'synthetic_text_to_sql' successfully!\n"
     ]
    }
   ],
   "source": [
    "# Set the number of samples to load from the dataset for testing\n",
    "# Set to None to use the full dataset\n",
    "NUM_SAMPLES = 500\n",
    "\n",
    "datasets_dict = {\n",
    "    \"synthetic_text_to_sql\": {\n",
    "        \"dataset_kwargs\": {\n",
    "            \"path\": \"gretelai/synthetic_text_to_sql\",\n",
    "            \"split\": \"train\"\n",
    "        },\n",
    "        \"code_lang\": \"sql\",\n",
    "        \"eval_kwargs\":{\n",
    "            \"instruction_col_name\": \"sql_prompt\",\n",
    "            \"code_col_name\": \"sql\",\n",
    "            \"context_col_name\": \"sql_context\"\n",
    "        }\n",
    "    },\n",
    "    \"gsm8k\": {\n",
    "        \"dataset_kwargs\": {\n",
    "            \"path\": \"openai/gsm8k\",\n",
    "            \"name\": \"main\",\n",
    "            \"split\": \"train\"\n",
    "        },\n",
    "        \"eval_kwargs\": {\n",
    "            \"instruction_col_name\": \"question\",\n",
    "            \"code_col_name\": \"answer\",\n",
    "        }\n",
    "    },\n",
    "    \"synthetic_gsm8k\": {\n",
    "        \"dataset_kwargs\": {\n",
    "            \"path\": \"gretelai/synthetic-gsm8k-reflection-405b\",\n",
    "            \"split\": \"train\"\n",
    "        },\n",
    "        \"eval_kwargs\": {\n",
    "            \"instruction_col_name\": \"question\",\n",
    "            \"code_col_name\": \"answer\",\n",
    "        }\n",
    "    },\n",
    "    \"xlcost_text_to_code\": {\n",
    "        \"dataset_kwargs\": {\n",
    "            \"path\": \"codeparrot/xlcost-text-to-code\",\n",
    "            \"split\": \"train\"\n",
    "        },\n",
    "        \"code_lang\": \"python\",\n",
    "        \"eval_kwargs\": {\n",
    "            \"instruction_col_name\": \"text\",\n",
    "            \"code_col_name\": \"code\",\n",
    "        }\n",
    "    },\n",
    "}\n",
    "\n",
    "# Prompt user to select a dataset\n",
    "print(\"Available datasets:\")\n",
    "for key in datasets_dict.keys():\n",
    "    print(f\" - {key}\")\n",
    "\n",
    "selected_dataset = input(\"\\nEnter the name of the dataset to load: \").strip()\n",
    "\n",
    "# Load the selected dataset\n",
    "if selected_dataset in datasets_dict:\n",
    "    dataset_dict = datasets_dict[selected_dataset]\n",
    "    eval_kwargs = dataset_dict[\"eval_kwargs\"]\n",
    "    code_lang = dataset_dict[\"code_lang\"] if \"code_lang\" in dataset_dict.keys() else None\n",
    "    dataset = load_dataset(**dataset_dict[\"dataset_kwargs\"])\n",
    "\n",
    "    # Optionally, select a subset if NUM_SAMPLES is specified\n",
    "    if NUM_SAMPLES is not None and NUM_SAMPLES < len(dataset):\n",
    "        dataset = dataset.select(range(NUM_SAMPLES))\n",
    "    \n",
    "    dataset_df = dataset.to_pandas()\n",
    "    \n",
    "    print(f\"Loaded dataset '{selected_dataset}' successfully!\")\n",
    "else:\n",
    "    print(\"Error: Dataset not found. Please enter a valid dataset name.\")"
   ]
  },
  {
   "cell_type": "markdown",
   "metadata": {},
   "source": [
    "## Run Evaluation on dataset"
   ]
  },
  {
   "cell_type": "code",
   "execution_count": 4,
   "metadata": {},
   "outputs": [
    {
     "name": "stdout",
     "output_type": "stream",
     "text": [
      "2024-10-10 13:56:12.556 - INFO - 🦜 Initializing LLM suite\n",
      "2024-10-10 13:56:12.560 - INFO - 📖 Natural language LLM: gretelai-mistral-nemo-2407\n",
      "2024-10-10 13:56:12.563 - INFO - 💻 Code LLM: gretelai-mistral-nemo-2407\n",
      "2024-10-10 13:56:12.565 - INFO - ⚖️ Judge LLM: gretelai-mistral-nemo-2407\n"
     ]
    }
   ],
   "source": [
    "llm_suite = GretelLLMSuite()"
   ]
  },
  {
   "cell_type": "code",
   "execution_count": null,
   "metadata": {},
   "outputs": [],
   "source": [
    "# Define a dictionary to store evaluation results\n",
    "results = {}\n",
    "\n",
    "# Uncomment the following lines to run individual evaluation tasks\n",
    "# results.update(BaseEvaluationTaskSuite(llm_suite, dataset_pd).row_uniqueness())\n",
    "# results.update(BaseEvaluationTaskSuite(llm_suite, dataset_pd).feature_cardinality())\n",
    "# results.update(BaseEvaluationTaskSuite(llm_suite, dataset_pd).feature_distribution())\n",
    "# results.update(BaseEvaluationTaskSuite(llm_suite, dataset_pd).num_words_per_record())\n",
    "# pprint(results)\n",
    "\n",
    "results = BaseEvaluationTaskSuite(llm_suite, dataset_df, code_lang, eval_kwargs).evaluate_all()\n",
    "pprint(results)\n",
    "\n",
    "#results = NL2PythonEvaluationTaskSuite(llm_suite, dataset_pd, code_lang=\"python\").evaluate_all()\n",
    "#pprint(results)\n"
   ]
  },
  {
   "cell_type": "markdown",
   "metadata": {},
   "source": [
    "## Visualization of Evaluation Results"
   ]
  },
  {
   "cell_type": "code",
   "execution_count": null,
   "metadata": {},
   "outputs": [],
   "source": [
    "vis_suite = VisualizationTaskSuite(dataset_df, results)\n",
    "\n",
    "# Uncomment to visualize individual evaluation test plots\n",
    "#vis_suite.plot_feature_cardinality()\n",
    "#vis_suite.plot_row_uniqueness()\n",
    "#vis_suite.plot_feature_distribution()\n",
    "#vis_suite.plot_num_words_per_record()\n",
    "\n",
    "vis_suite.visualize_all()"
   ]
  },
  {
   "cell_type": "markdown",
   "metadata": {},
   "source": [
    "### Testing LLM-as-a-Judge Evaluation"
   ]
  },
  {
   "cell_type": "code",
   "execution_count": 477,
   "metadata": {},
   "outputs": [],
   "source": [
    "if code_lang == \"sql\":\n",
    "    task = NL2SQLEvaluationTaskSuite(\n",
    "        llm_suite=llm_suite, dataset=dataset_df, code_lang=\"sql\"\n",
    "    )\n",
    "elif code_lang == \"python\":\n",
    "    task = NL2PythonEvaluationTaskSuite(\n",
    "        llm_suite=llm_suite, dataset=dataset_df, code_lang=\"python\"\n",
    "    )\n",
    "else:\n",
    "    task = BaseEvaluationTaskSuite(llm_suite, dataset_df)\n",
    "results = task.llm_as_a_judge_evaluation(**eval_kwargs)\n",
    "table = task.output_dataset"
   ]
  },
  {
   "cell_type": "code",
   "execution_count": 37,
   "metadata": {},
   "outputs": [
    {
     "data": {
      "text/html": [
       "<div>\n",
       "<style scoped>\n",
       "    .dataframe tbody tr th:only-of-type {\n",
       "        vertical-align: middle;\n",
       "    }\n",
       "\n",
       "    .dataframe tbody tr th {\n",
       "        vertical-align: top;\n",
       "    }\n",
       "\n",
       "    .dataframe thead th {\n",
       "        text-align: right;\n",
       "    }\n",
       "</style>\n",
       "<table border=\"1\" class=\"dataframe\">\n",
       "  <thead>\n",
       "    <tr style=\"text-align: right;\">\n",
       "      <th></th>\n",
       "      <th>id</th>\n",
       "      <th>domain</th>\n",
       "      <th>domain_description</th>\n",
       "      <th>sql_complexity</th>\n",
       "      <th>sql_complexity_description</th>\n",
       "      <th>sql_task_type</th>\n",
       "      <th>sql_task_type_description</th>\n",
       "      <th>sql_prompt</th>\n",
       "      <th>sql_context</th>\n",
       "      <th>sql</th>\n",
       "      <th>sql_explanation</th>\n",
       "    </tr>\n",
       "  </thead>\n",
       "  <tbody>\n",
       "    <tr>\n",
       "      <th>0</th>\n",
       "      <td>5097</td>\n",
       "      <td>forestry</td>\n",
       "      <td>Comprehensive data on sustainable forest manag...</td>\n",
       "      <td>single join</td>\n",
       "      <td>only one join (specify inner, outer, cross)</td>\n",
       "      <td>analytics and reporting</td>\n",
       "      <td>generating reports, dashboards, and analytical...</td>\n",
       "      <td>What is the total volume of timber sold by eac...</td>\n",
       "      <td>CREATE TABLE salesperson (salesperson_id INT, ...</td>\n",
       "      <td>SELECT salesperson_id, name, SUM(volume) as to...</td>\n",
       "      <td>Joins timber_sales and salesperson tables, gro...</td>\n",
       "    </tr>\n",
       "    <tr>\n",
       "      <th>1</th>\n",
       "      <td>5098</td>\n",
       "      <td>defense industry</td>\n",
       "      <td>Defense contract data, military equipment main...</td>\n",
       "      <td>aggregation</td>\n",
       "      <td>aggregation functions (COUNT, SUM, AVG, MIN, M...</td>\n",
       "      <td>analytics and reporting</td>\n",
       "      <td>generating reports, dashboards, and analytical...</td>\n",
       "      <td>List all the unique equipment types and their ...</td>\n",
       "      <td>CREATE TABLE equipment_maintenance (equipment_...</td>\n",
       "      <td>SELECT equipment_type, SUM(maintenance_frequen...</td>\n",
       "      <td>This query groups the equipment_maintenance ta...</td>\n",
       "    </tr>\n",
       "    <tr>\n",
       "      <th>2</th>\n",
       "      <td>5099</td>\n",
       "      <td>marine biology</td>\n",
       "      <td>Comprehensive data on marine species, oceanogr...</td>\n",
       "      <td>basic SQL</td>\n",
       "      <td>basic SQL with a simple select statement</td>\n",
       "      <td>analytics and reporting</td>\n",
       "      <td>generating reports, dashboards, and analytical...</td>\n",
       "      <td>How many marine species are found in the South...</td>\n",
       "      <td>CREATE TABLE marine_species (name VARCHAR(50),...</td>\n",
       "      <td>SELECT COUNT(*) FROM marine_species WHERE loca...</td>\n",
       "      <td>This query counts the number of marine species...</td>\n",
       "    </tr>\n",
       "    <tr>\n",
       "      <th>3</th>\n",
       "      <td>5100</td>\n",
       "      <td>financial services</td>\n",
       "      <td>Detailed financial data including investment s...</td>\n",
       "      <td>aggregation</td>\n",
       "      <td>aggregation functions (COUNT, SUM, AVG, MIN, M...</td>\n",
       "      <td>analytics and reporting</td>\n",
       "      <td>generating reports, dashboards, and analytical...</td>\n",
       "      <td>What is the total trade value and average pric...</td>\n",
       "      <td>CREATE TABLE trade_history (id INT, trader_id ...</td>\n",
       "      <td>SELECT trader_id, stock, SUM(price * quantity)...</td>\n",
       "      <td>This query calculates the total trade value an...</td>\n",
       "    </tr>\n",
       "    <tr>\n",
       "      <th>4</th>\n",
       "      <td>5101</td>\n",
       "      <td>energy</td>\n",
       "      <td>Energy market data covering renewable energy s...</td>\n",
       "      <td>window functions</td>\n",
       "      <td>window functions (e.g., ROW_NUMBER, LEAD, LAG,...</td>\n",
       "      <td>analytics and reporting</td>\n",
       "      <td>generating reports, dashboards, and analytical...</td>\n",
       "      <td>Find the energy efficiency upgrades with the h...</td>\n",
       "      <td>CREATE TABLE upgrades (id INT, cost FLOAT, typ...</td>\n",
       "      <td>SELECT type, cost FROM (SELECT type, cost, ROW...</td>\n",
       "      <td>The SQL query uses the ROW_NUMBER function to ...</td>\n",
       "    </tr>\n",
       "  </tbody>\n",
       "</table>\n",
       "</div>"
      ],
      "text/plain": [
       "     id              domain  \\\n",
       "0  5097            forestry   \n",
       "1  5098    defense industry   \n",
       "2  5099      marine biology   \n",
       "3  5100  financial services   \n",
       "4  5101              energy   \n",
       "\n",
       "                                  domain_description    sql_complexity  \\\n",
       "0  Comprehensive data on sustainable forest manag...       single join   \n",
       "1  Defense contract data, military equipment main...       aggregation   \n",
       "2  Comprehensive data on marine species, oceanogr...         basic SQL   \n",
       "3  Detailed financial data including investment s...       aggregation   \n",
       "4  Energy market data covering renewable energy s...  window functions   \n",
       "\n",
       "                          sql_complexity_description            sql_task_type  \\\n",
       "0        only one join (specify inner, outer, cross)  analytics and reporting   \n",
       "1  aggregation functions (COUNT, SUM, AVG, MIN, M...  analytics and reporting   \n",
       "2           basic SQL with a simple select statement  analytics and reporting   \n",
       "3  aggregation functions (COUNT, SUM, AVG, MIN, M...  analytics and reporting   \n",
       "4  window functions (e.g., ROW_NUMBER, LEAD, LAG,...  analytics and reporting   \n",
       "\n",
       "                           sql_task_type_description  \\\n",
       "0  generating reports, dashboards, and analytical...   \n",
       "1  generating reports, dashboards, and analytical...   \n",
       "2  generating reports, dashboards, and analytical...   \n",
       "3  generating reports, dashboards, and analytical...   \n",
       "4  generating reports, dashboards, and analytical...   \n",
       "\n",
       "                                          sql_prompt  \\\n",
       "0  What is the total volume of timber sold by eac...   \n",
       "1  List all the unique equipment types and their ...   \n",
       "2  How many marine species are found in the South...   \n",
       "3  What is the total trade value and average pric...   \n",
       "4  Find the energy efficiency upgrades with the h...   \n",
       "\n",
       "                                         sql_context  \\\n",
       "0  CREATE TABLE salesperson (salesperson_id INT, ...   \n",
       "1  CREATE TABLE equipment_maintenance (equipment_...   \n",
       "2  CREATE TABLE marine_species (name VARCHAR(50),...   \n",
       "3  CREATE TABLE trade_history (id INT, trader_id ...   \n",
       "4  CREATE TABLE upgrades (id INT, cost FLOAT, typ...   \n",
       "\n",
       "                                                 sql  \\\n",
       "0  SELECT salesperson_id, name, SUM(volume) as to...   \n",
       "1  SELECT equipment_type, SUM(maintenance_frequen...   \n",
       "2  SELECT COUNT(*) FROM marine_species WHERE loca...   \n",
       "3  SELECT trader_id, stock, SUM(price * quantity)...   \n",
       "4  SELECT type, cost FROM (SELECT type, cost, ROW...   \n",
       "\n",
       "                                     sql_explanation  \n",
       "0  Joins timber_sales and salesperson tables, gro...  \n",
       "1  This query groups the equipment_maintenance ta...  \n",
       "2  This query counts the number of marine species...  \n",
       "3  This query calculates the total trade value an...  \n",
       "4  The SQL query uses the ROW_NUMBER function to ...  "
      ]
     },
     "execution_count": 37,
     "metadata": {},
     "output_type": "execute_result"
    }
   ],
   "source": [
    "dataset_1000_pd.head()"
   ]
  },
  {
   "cell_type": "code",
   "execution_count": 7,
   "metadata": {},
   "outputs": [
    {
     "name": "stdout",
     "output_type": "stream",
     "text": [
      "\n",
      "id\n",
      "Other\n",
      "\n",
      "domain\n",
      "Categorical\n",
      "\n",
      "domain_description\n",
      "Categorical\n",
      "\n",
      "sql_complexity\n",
      "Categorical\n",
      "\n",
      "sql_complexity_description\n",
      "Categorical\n",
      "\n",
      "sql_task_type\n",
      "Categorical\n",
      "\n",
      "sql_task_type_description\n",
      "Categorical\n",
      "\n",
      "sql_prompt\n",
      "Text\n",
      "\n",
      "sql_context\n",
      "Text\n",
      "\n",
      "sql\n",
      "Text\n",
      "\n",
      "sql_explanation\n",
      "Text\n"
     ]
    }
   ],
   "source": [
    "from pandas import Series\n",
    "\n",
    "def determine_column_data_type(data: Series) -> str:\n",
    "    \"\"\"\n",
    "    Similar to https://github.com/Gretellabs/monogretel/blob/110622b0c8131f0c1a1443a8e25722a92857c3d2/python/src/gretel_core/harbor/artifacts/analyzers/field_features.py#L208C1-L281C20\n",
    "    - Between the NavFT definition and the SQS Report definition of categorical variables, \n",
    "      here we adopt the SQS definition, where the key difference is the percentage of maximum allowed unique \n",
    "      values stays a constant 10% as dataset size increases, compared to the NavFT definition where that percentage \n",
    "      shrinks as the dataset size gets really large, like 1 million records. \n",
    "      The reasoning here is that the number of unique values, eg. data seeds, \n",
    "      should proportionally increase as the dataset size increases.\n",
    "    - Unlike the SQS def though, we only have categorical vs. free-text types, \n",
    "      not numerical/datetime etc. This is because \n",
    "      1) With Data Designer, there aren't many use cases where numerical data takes center stage; \n",
    "      2) For diversity calculation, we just want the entropy-type measurement. \n",
    "         The exact numerical values don't matter as much.\n",
    "    \"\"\"\n",
    "    _TEXT_FIELD_AVG_SPACE_COUNT_THRESHOLD = 0.1\n",
    "\n",
    "    non_na_data = data.dropna()\n",
    "    non_na_count = int(non_na_data.count())\n",
    "    unique_count = int(non_na_data.nunique())\n",
    "\n",
    "    if non_na_count == 0:\n",
    "        # empty field\n",
    "        return \"Other\"\n",
    "\n",
    "    diff = non_na_count - unique_count\n",
    "    diff_percent = diff / non_na_count\n",
    "\n",
    "    # ``entry`` needs to be a string here regardless\n",
    "    # in order to get the space count\n",
    "    space_count = sum(str(entry).strip().count(\" \") for entry in non_na_data) / non_na_count\n",
    "\n",
    "    if diff_percent >= 0.9 or (diff_percent >= 0.7 and len(non_na_data) <= 50):\n",
    "        return \"Categorical\"\n",
    "\n",
    "    if space_count / non_na_count > _TEXT_FIELD_AVG_SPACE_COUNT_THRESHOLD:\n",
    "        return \"Text\"\n",
    "\n",
    "    return \"Other\"\n",
    "\n",
    "\n",
    "for c in dataset_1000_pd.columns:\n",
    "    print(f'\\n{c}')\n",
    "    print(determine_column_data_type(dataset_1000_pd[c]))"
   ]
  },
  {
   "cell_type": "code",
   "execution_count": 48,
   "metadata": {},
   "outputs": [
    {
     "data": {
      "text/plain": [
       "100"
      ]
     },
     "execution_count": 48,
     "metadata": {},
     "output_type": "execute_result"
    }
   ],
   "source": [
    "len(dataset_1000_pd.domain.unique())"
   ]
  },
  {
   "cell_type": "code",
   "execution_count": null,
   "metadata": {},
   "outputs": [],
   "source": []
  }
 ],
 "metadata": {
  "kernelspec": {
   "display_name": "navhelpers",
   "language": "python",
   "name": "python3"
  },
  "language_info": {
   "codemirror_mode": {
    "name": "ipython",
    "version": 3
   },
   "file_extension": ".py",
   "mimetype": "text/x-python",
   "name": "python",
   "nbconvert_exporter": "python",
   "pygments_lexer": "ipython3",
   "version": "3.10.12"
  }
 },
 "nbformat": 4,
 "nbformat_minor": 2
}
