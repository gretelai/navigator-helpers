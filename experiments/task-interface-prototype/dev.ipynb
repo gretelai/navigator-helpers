{
 "cells": [
  {
   "cell_type": "code",
   "execution_count": 1,
   "metadata": {},
   "outputs": [],
   "source": [
    "from navigator_helpers.llms.llm_suite import GretelLLMSuite\n",
    "from interface_prototype import GenerateTask, JsonArrayParsingProcessor, PromptTemplateProcessor"
   ]
  },
  {
   "cell_type": "code",
   "execution_count": 2,
   "metadata": {},
   "outputs": [
    {
     "name": "stdout",
     "output_type": "stream",
     "text": [
      "2024-09-26 11:58:03.883 - INFO - 🦜 Initializing LLM suite\n",
      "2024-09-26 11:58:03.886 - INFO - 📖 Natural language LLM: gretelai-mistral-nemo-2407\n",
      "2024-09-26 11:58:03.887 - INFO - 💻 Code LLM: gretelai-mistral-nemo-2407\n",
      "2024-09-26 11:58:03.887 - INFO - ⚖️ Judge LLM: gretelai-mistral-nemo-2407\n"
     ]
    }
   ],
   "source": [
    "llm_suite = GretelLLMSuite()\n",
    "llm = llm_suite._nl"
   ]
  },
  {
   "cell_type": "code",
   "execution_count": 3,
   "metadata": {},
   "outputs": [],
   "source": [
    "prompt_template = \"\"\"\\\n",
    "Create a list of {num_domains} unique industries where you expect to find software engineers who code in Python. \n",
    "\n",
    "### Instructions:\n",
    "    * Do not use abbreviations.\n",
    "    * Keep each industry name to 1-5 words, preferring concise names.\n",
    "    * List the industries in a valid JSON array.\n",
    "\"\"\""
   ]
  },
  {
   "cell_type": "code",
   "execution_count": 4,
   "metadata": {},
   "outputs": [],
   "source": [
    "task = GenerateTask(\n",
    "    llm=llm, \n",
    "    input_processor=PromptTemplateProcessor(prompt_template),\n",
    "    output_processor=JsonArrayParsingProcessor()\n",
    ")"
   ]
  },
  {
   "cell_type": "code",
   "execution_count": 5,
   "metadata": {},
   "outputs": [
    {
     "name": "stdout",
     "output_type": "stream",
     "text": [
      "['Data Science', 'Machine Learning', 'Web Development', 'Automation Testing', 'Scientific Computing']\n"
     ]
    }
   ],
   "source": [
    "response = task.run({\"num_domains\": 5})\n",
    "print(response)"
   ]
  },
  {
   "cell_type": "code",
   "execution_count": null,
   "metadata": {},
   "outputs": [],
   "source": []
  }
 ],
 "metadata": {
  "kernelspec": {
   "display_name": "monogretel-dev",
   "language": "python",
   "name": "python3"
  },
  "language_info": {
   "codemirror_mode": {
    "name": "ipython",
    "version": 3
   },
   "file_extension": ".py",
   "mimetype": "text/x-python",
   "name": "python",
   "nbconvert_exporter": "python",
   "pygments_lexer": "ipython3",
   "version": "3.9.16"
  }
 },
 "nbformat": 4,
 "nbformat_minor": 2
}
