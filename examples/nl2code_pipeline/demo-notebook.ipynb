{
 "cells": [
  {
   "cell_type": "code",
   "execution_count": 1,
   "metadata": {},
   "outputs": [],
   "source": [
    "import json\n",
    "from navigator_helpers import NL2CodeTaskSuite, NL2CodePipeline\n",
    "from navigator_helpers.tasks.text_to_code.utils import display_nl2code_sample\n",
    "from navigator_helpers.tasks.prompt_templates.template_suite import load_prompt_template_suite\n",
    "from navigator_helpers.tasks.prompt_templates.text_to_code import (\n",
    "    NL_TYPE_PYTHON,\n",
    "    NL_TYPE_SQL,\n",
    ")"
   ]
  },
  {
   "cell_type": "markdown",
   "metadata": {},
   "source": [
    "### Configure your data generation pipeline\n",
    "\n",
    "Gretel's NL2Code Pipelines come with a well defined configuration to help generate the right dataset for you. This configuration allows you to define what characteristics for your dataset are important for you. These configurations are called Contextual Tags. This includes - \n",
    "1. Domains: These are broad categories of knowledge. Think of them as the departments you might find in a university. Examples include:\n",
    "  - Science and Technology\n",
    "  - Social Sciences\n",
    "  - Arts and Humanities\n",
    "  - Business and Economics\n",
    "\n",
    "2. Topics: Within each Domain, we have more specific areas of focus. These are like the specific courses or research areas within a department. For example:\n",
    "\n",
    "- Under \"Science and Technology\":\n",
    "  - Artificial Intelligence\n",
    "  - Neuroscience\n",
    "  - Quantum Physics\n",
    "\n",
    "- Under \"Social Sciences\":\n",
    "  - Psychology\n",
    "  - Anthropology\n",
    "  - Sociology\n",
    "\n",
    "3. Complexity Levels: For each prompt, you can define the complexity of the code you want generated.\n",
    "\n",
    "When you're defining your interests, you can be as broad or as specific as you like. \n",
    "\n",
    "\n",
    "When defining your Pipeline, you can let Gretel create a configuration for you with automatically generated Domains and Topics, or you can specify them yourself. Here is an example of a configuration that makes Gretel generate Domains, Topics, and complexity levels for you.\n",
    "\n",
    "```\n",
    "code_lang: python\n",
    "llm_as_a_judge: true\n",
    "llm_suite_type: open_license\n",
    "num_complexity_levels: 4\n",
    "num_domains: 10\n",
    "num_topics_per_domain: 10\n",
    "syntax_validation: true\n",
    "```\n",
    "\n",
    "You can also specify your own configuration with specific Domains, Topics, and complexity levels you want.\n",
    "\n",
    "```\n",
    "code_language: python\n",
    "llm_suite_type: open_license\n",
    "domain_and_topics: \n",
    "    Astronomy: \n",
    "        - Exoplanets\n",
    "    Artificial Intelligence: \n",
    "        - Deep Learning\n",
    "    Web App Development:\n",
    "        - Frontend Development\n",
    "        - Backend Development\n",
    "  complexity_levels:\n",
    "    - \"Novice: Basic syntax, variables, and data types\"\n",
    "    - \"Intermediate: Control structures, loops, and functions\"\n",
    "    - \"Expert: Asynchronous programming, decorators, and metaclasses\"\n",
    "llm_as_a_judge: true\n",
    "syntax_validation: true\n",
    "```"
   ]
  },
  {
   "cell_type": "code",
   "execution_count": 2,
   "metadata": {},
   "outputs": [
    {
     "name": "stdout",
     "output_type": "stream",
     "text": [
      "2024-09-05 11:56:55.889 - INFO - ⚙️ Setting up Text-to-Python pipeline\n",
      "2024-09-05 11:56:55.889 - INFO - 📦 Artifact path: nl2code-artifacts/python\n",
      "2024-09-05 11:56:56.607 - INFO - 🦜 Initializing LLM suite\n",
      "2024-09-05 11:56:56.609 - INFO - 📖 Natural language LLM: gretelai/gpt-mixtral-8x-22b\n",
      "2024-09-05 11:56:57.062 - INFO - 💻 Code LLM: gretelai/gpt-codestral-mamba\n",
      "2024-09-05 11:56:57.465 - INFO - ⚖️ Judge LLM: gretelai/gpt-groq-llama-3-1-8b\n"
     ]
    }
   ],
   "source": [
    "### Use the auto_config.yml file to let Gretel generate the contextual tags.\n",
    "pipeline = NL2CodePipeline(config=\"configs/auto_config.yml\")\n"
   ]
  },
  {
   "cell_type": "markdown",
   "metadata": {},
   "source": [
    "### Run Specific Tasks\n",
    "\n",
    "You can run specific Tasks within the Pipeline"
   ]
  },
  {
   "cell_type": "code",
   "execution_count": 3,
   "metadata": {},
   "outputs": [
    {
     "name": "stdout",
     "output_type": "stream",
     "text": [
      "2024-09-05 11:56:57.975 - INFO - 🏷️ Generating domains\n",
      "2024-09-05 11:56:59.920 - INFO - 🏷️ Generating topics for each domain\n",
      "2024-09-05 11:57:17.548 - INFO - 🏷️ Generating levels of Python complexity\n"
     ]
    }
   ],
   "source": [
    "contextual_tags = pipeline.create_contextual_tags()"
   ]
  },
  {
   "cell_type": "markdown",
   "metadata": {},
   "source": [
    "### Generate data\n",
    "You can run the pipeline and generate the desired number of data samples"
   ]
  },
  {
   "cell_type": "code",
   "execution_count": 4,
   "metadata": {},
   "outputs": [
    {
     "name": "stdout",
     "output_type": "stream",
     "text": [
      "2024-09-05 11:57:18.975 - INFO - 🚀 Starting Text-to-Python synthetic data pipeline\n"
     ]
    },
    {
     "name": "stderr",
     "output_type": "stream",
     "text": [
      "⌛️ Running Pipeline [current task: syntax validation]: 100%|██████████| 5/5 [00:46, 0.11sample/s]       "
     ]
    },
    {
     "name": "stdout",
     "output_type": "stream",
     "text": [
      "2024-09-05 11:58:05.883 - INFO - 🥳 Synthetic dataset generation complete!\n"
     ]
    },
    {
     "name": "stderr",
     "output_type": "stream",
     "text": [
      "\n"
     ]
    }
   ],
   "source": [
    "results = pipeline.run(num_samples=5)"
   ]
  },
  {
   "cell_type": "code",
   "execution_count": 5,
   "metadata": {},
   "outputs": [
    {
     "data": {
      "text/html": [
       "<pre style=\"white-space:pre;overflow-x:auto;line-height:normal;font-family:Menlo,'DejaVu Sans Mono',consolas,'Courier New',monospace\"><span style=\"font-style: italic\">                                                  Contextual Tags                                                  </span>\n",
       "┏━━━━━━━━━━━━━━━━━━━━━━━┳━━━━━━━━━━━━━━━━━━━━━━━━━━━━┳━━━━━━━━━━━━━━━━━━━━━━━━━━━━━┳━━━━━━━━━━━━━━━━━━━━━━━━━━━━━━┓\n",
       "┃<span style=\"font-weight: bold\"> Domain                </span>┃<span style=\"font-weight: bold\"> Topic                      </span>┃<span style=\"font-weight: bold\"> Complexity                  </span>┃<span style=\"font-weight: bold\"> Suggested Packages           </span>┃\n",
       "┡━━━━━━━━━━━━━━━━━━━━━━━╇━━━━━━━━━━━━━━━━━━━━━━━━━━━━╇━━━━━━━━━━━━━━━━━━━━━━━━━━━━━╇━━━━━━━━━━━━━━━━━━━━━━━━━━━━━━┩\n",
       "│ Aerospace Engineering │ Propulsion System Software │ Intermediate: Data          │ matplotlib, scipy, pandas,   │\n",
       "│                       │                            │ structures and file         │ numpy, tensorflow, sklearn   │\n",
       "│                       │                            │ handling                    │                              │\n",
       "└───────────────────────┴────────────────────────────┴─────────────────────────────┴──────────────────────────────┘\n",
       "</pre>\n"
      ],
      "text/plain": [
       "\u001b[3m                                                  Contextual Tags                                                  \u001b[0m\n",
       "┏━━━━━━━━━━━━━━━━━━━━━━━┳━━━━━━━━━━━━━━━━━━━━━━━━━━━━┳━━━━━━━━━━━━━━━━━━━━━━━━━━━━━┳━━━━━━━━━━━━━━━━━━━━━━━━━━━━━━┓\n",
       "┃\u001b[1m \u001b[0m\u001b[1mDomain               \u001b[0m\u001b[1m \u001b[0m┃\u001b[1m \u001b[0m\u001b[1mTopic                     \u001b[0m\u001b[1m \u001b[0m┃\u001b[1m \u001b[0m\u001b[1mComplexity                 \u001b[0m\u001b[1m \u001b[0m┃\u001b[1m \u001b[0m\u001b[1mSuggested Packages          \u001b[0m\u001b[1m \u001b[0m┃\n",
       "┡━━━━━━━━━━━━━━━━━━━━━━━╇━━━━━━━━━━━━━━━━━━━━━━━━━━━━╇━━━━━━━━━━━━━━━━━━━━━━━━━━━━━╇━━━━━━━━━━━━━━━━━━━━━━━━━━━━━━┩\n",
       "│ Aerospace Engineering │ Propulsion System Software │ Intermediate: Data          │ matplotlib, scipy, pandas,   │\n",
       "│                       │                            │ structures and file         │ numpy, tensorflow, sklearn   │\n",
       "│                       │                            │ handling                    │                              │\n",
       "└───────────────────────┴────────────────────────────┴─────────────────────────────┴──────────────────────────────┘\n"
      ]
     },
     "metadata": {},
     "output_type": "display_data"
    },
    {
     "data": {
      "text/html": [
       "<pre style=\"white-space:pre;overflow-x:auto;line-height:normal;font-family:Menlo,'DejaVu Sans Mono',consolas,'Courier New',monospace\">╭──────────────────────────────────────────── Natural Language Prompt ────────────────────────────────────────────╮\n",
       "│ Write a Python program to analyze and process a dataset containing various parameters of different aircraft     │\n",
       "│ propulsion systems. The dataset is stored in a CSV file with columns: 'Aircraft', 'Engine Type', 'Thrust (kN)', │\n",
       "│ 'Fuel Consumption (kg/h)', 'Specific Fuel Consumption (kg/kN*hr)'. Your task is to create a Python program that │\n",
       "│ does the following:                                                                                             │\n",
       "│                                                                                                                 │\n",
       "│ 1. Reads the CSV file and loads the data into a suitable data structure (like a list of dictionaries or a       │\n",
       "│ pandas DataFrame).                                                                                              │\n",
       "│ 2. Calculates and adds a new column to the data structure containing the 'Efficiency' of each propulsion        │\n",
       "│ system, computed as 'Thrust' divided by 'Fuel Consumption'.                                                     │\n",
       "│ 3. Filters the data structure to include only turbofan engines and stores the filtered data in a new data       │\n",
       "│ structure.                                                                                                      │\n",
       "│ 4. Calculates the average 'Specific Fuel Consumption' of turbofan engines and prints the result.                │\n",
       "│ 5. Sorts the filtered data structure based on 'Efficiency' in descending order and prints the top 5 aircraft    │\n",
       "│ with the most efficient turbofan engines.                                                                       │\n",
       "│                                                                                                                 │\n",
       "│ Make sure to include comments explaining what each part of your code is doing.                                  │\n",
       "╰─────────────────────────────────────────────────────────────────────────────────────────────────────────────────╯\n",
       "</pre>\n"
      ],
      "text/plain": [
       "╭──────────────────────────────────────────── Natural Language Prompt ────────────────────────────────────────────╮\n",
       "│ Write a Python program to analyze and process a dataset containing various parameters of different aircraft     │\n",
       "│ propulsion systems. The dataset is stored in a CSV file with columns: 'Aircraft', 'Engine Type', 'Thrust (kN)', │\n",
       "│ 'Fuel Consumption (kg/h)', 'Specific Fuel Consumption (kg/kN*hr)'. Your task is to create a Python program that │\n",
       "│ does the following:                                                                                             │\n",
       "│                                                                                                                 │\n",
       "│ 1. Reads the CSV file and loads the data into a suitable data structure (like a list of dictionaries or a       │\n",
       "│ pandas DataFrame).                                                                                              │\n",
       "│ 2. Calculates and adds a new column to the data structure containing the 'Efficiency' of each propulsion        │\n",
       "│ system, computed as 'Thrust' divided by 'Fuel Consumption'.                                                     │\n",
       "│ 3. Filters the data structure to include only turbofan engines and stores the filtered data in a new data       │\n",
       "│ structure.                                                                                                      │\n",
       "│ 4. Calculates the average 'Specific Fuel Consumption' of turbofan engines and prints the result.                │\n",
       "│ 5. Sorts the filtered data structure based on 'Efficiency' in descending order and prints the top 5 aircraft    │\n",
       "│ with the most efficient turbofan engines.                                                                       │\n",
       "│                                                                                                                 │\n",
       "│ Make sure to include comments explaining what each part of your code is doing.                                  │\n",
       "╰─────────────────────────────────────────────────────────────────────────────────────────────────────────────────╯\n"
      ]
     },
     "metadata": {},
     "output_type": "display_data"
    },
    {
     "data": {
      "text/html": [
       "<pre style=\"white-space:pre;overflow-x:auto;line-height:normal;font-family:Menlo,'DejaVu Sans Mono',consolas,'Courier New',monospace\">╭───────────────────────────────────────────────────── Code ──────────────────────────────────────────────────────╮\n",
       "│ <span style=\"color: #ff79c6; text-decoration-color: #ff79c6; background-color: #282a36\">import</span><span style=\"color: #f8f8f2; text-decoration-color: #f8f8f2; background-color: #282a36\"> pandas </span><span style=\"color: #ff79c6; text-decoration-color: #ff79c6; background-color: #282a36\">as</span><span style=\"color: #f8f8f2; text-decoration-color: #f8f8f2; background-color: #282a36\"> pd</span><span style=\"background-color: #282a36\">                                                                                            </span> │\n",
       "│ <span style=\"background-color: #282a36\">                                                                                                               </span> │\n",
       "│ <span style=\"color: #6272a4; text-decoration-color: #6272a4; background-color: #282a36\"># 1. Reads the CSV file and loads the data into a suitable data structure (like a list of dictionaries or a </span><span style=\"background-color: #282a36\">   </span> │\n",
       "│ <span style=\"color: #6272a4; text-decoration-color: #6272a4; background-color: #282a36\">pandas DataFrame)</span><span style=\"background-color: #282a36\">                                                                                              </span> │\n",
       "│ <span style=\"color: #f8f8f2; text-decoration-color: #f8f8f2; background-color: #282a36\">data </span><span style=\"color: #ff79c6; text-decoration-color: #ff79c6; background-color: #282a36\">=</span><span style=\"color: #f8f8f2; text-decoration-color: #f8f8f2; background-color: #282a36\"> pd</span><span style=\"color: #ff79c6; text-decoration-color: #ff79c6; background-color: #282a36\">.</span><span style=\"color: #f8f8f2; text-decoration-color: #f8f8f2; background-color: #282a36\">read_csv(</span><span style=\"color: #bd93f9; text-decoration-color: #bd93f9; background-color: #282a36\">'aircraft_propulsion_data.csv'</span><span style=\"color: #f8f8f2; text-decoration-color: #f8f8f2; background-color: #282a36\">)</span><span style=\"background-color: #282a36\">                                                             </span> │\n",
       "│ <span style=\"background-color: #282a36\">                                                                                                               </span> │\n",
       "│ <span style=\"color: #6272a4; text-decoration-color: #6272a4; background-color: #282a36\"># 2. Calculates and adds a new column to the data structure containing the 'Efficiency' of each propulsion </span><span style=\"background-color: #282a36\">    </span> │\n",
       "│ <span style=\"color: #6272a4; text-decoration-color: #6272a4; background-color: #282a36\">system</span><span style=\"background-color: #282a36\">                                                                                                         </span> │\n",
       "│ <span style=\"color: #f8f8f2; text-decoration-color: #f8f8f2; background-color: #282a36\">data[</span><span style=\"color: #bd93f9; text-decoration-color: #bd93f9; background-color: #282a36\">'Efficiency'</span><span style=\"color: #f8f8f2; text-decoration-color: #f8f8f2; background-color: #282a36\">] </span><span style=\"color: #ff79c6; text-decoration-color: #ff79c6; background-color: #282a36\">=</span><span style=\"color: #f8f8f2; text-decoration-color: #f8f8f2; background-color: #282a36\"> data[</span><span style=\"color: #bd93f9; text-decoration-color: #bd93f9; background-color: #282a36\">'Thrust (kN)'</span><span style=\"color: #f8f8f2; text-decoration-color: #f8f8f2; background-color: #282a36\">] </span><span style=\"color: #ff79c6; text-decoration-color: #ff79c6; background-color: #282a36\">/</span><span style=\"color: #f8f8f2; text-decoration-color: #f8f8f2; background-color: #282a36\"> data[</span><span style=\"color: #bd93f9; text-decoration-color: #bd93f9; background-color: #282a36\">'Fuel Consumption (kg/h)'</span><span style=\"color: #f8f8f2; text-decoration-color: #f8f8f2; background-color: #282a36\">]</span><span style=\"background-color: #282a36\">                                     </span> │\n",
       "│ <span style=\"background-color: #282a36\">                                                                                                               </span> │\n",
       "│ <span style=\"color: #6272a4; text-decoration-color: #6272a4; background-color: #282a36\"># 3. Filters the data structure to include only turbofan engines and stores the filtered data in a new data </span><span style=\"background-color: #282a36\">   </span> │\n",
       "│ <span style=\"color: #6272a4; text-decoration-color: #6272a4; background-color: #282a36\">structure</span><span style=\"background-color: #282a36\">                                                                                                      </span> │\n",
       "│ <span style=\"color: #f8f8f2; text-decoration-color: #f8f8f2; background-color: #282a36\">turbofan_data </span><span style=\"color: #ff79c6; text-decoration-color: #ff79c6; background-color: #282a36\">=</span><span style=\"color: #f8f8f2; text-decoration-color: #f8f8f2; background-color: #282a36\"> data[data[</span><span style=\"color: #bd93f9; text-decoration-color: #bd93f9; background-color: #282a36\">'Engine Type'</span><span style=\"color: #f8f8f2; text-decoration-color: #f8f8f2; background-color: #282a36\">] </span><span style=\"color: #ff79c6; text-decoration-color: #ff79c6; background-color: #282a36\">==</span><span style=\"color: #f8f8f2; text-decoration-color: #f8f8f2; background-color: #282a36\"> </span><span style=\"color: #bd93f9; text-decoration-color: #bd93f9; background-color: #282a36\">'Turbofan'</span><span style=\"color: #f8f8f2; text-decoration-color: #f8f8f2; background-color: #282a36\">]</span><span style=\"background-color: #282a36\">                                                        </span> │\n",
       "│ <span style=\"background-color: #282a36\">                                                                                                               </span> │\n",
       "│ <span style=\"color: #6272a4; text-decoration-color: #6272a4; background-color: #282a36\"># 4. Calculates the average 'Specific Fuel Consumption' of turbofan engines and prints the result</span><span style=\"background-color: #282a36\">              </span> │\n",
       "│ <span style=\"color: #f8f8f2; text-decoration-color: #f8f8f2; background-color: #282a36\">average_sfc </span><span style=\"color: #ff79c6; text-decoration-color: #ff79c6; background-color: #282a36\">=</span><span style=\"color: #f8f8f2; text-decoration-color: #f8f8f2; background-color: #282a36\"> turbofan_data[</span><span style=\"color: #bd93f9; text-decoration-color: #bd93f9; background-color: #282a36\">'Specific Fuel Consumption (kg/kN*hr)'</span><span style=\"color: #f8f8f2; text-decoration-color: #f8f8f2; background-color: #282a36\">]</span><span style=\"color: #ff79c6; text-decoration-color: #ff79c6; background-color: #282a36\">.</span><span style=\"color: #f8f8f2; text-decoration-color: #f8f8f2; background-color: #282a36\">mean()</span><span style=\"background-color: #282a36\">                                     </span> │\n",
       "│ <span style=\"color: #8be9fd; text-decoration-color: #8be9fd; background-color: #282a36; font-style: italic\">print</span><span style=\"color: #f8f8f2; text-decoration-color: #f8f8f2; background-color: #282a36\">(</span><span style=\"color: #bd93f9; text-decoration-color: #bd93f9; background-color: #282a36\">\"Average Specific Fuel Consumption of Turbofan Engines:\"</span><span style=\"color: #f8f8f2; text-decoration-color: #f8f8f2; background-color: #282a36\">, average_sfc)</span><span style=\"background-color: #282a36\">                                   </span> │\n",
       "│ <span style=\"background-color: #282a36\">                                                                                                               </span> │\n",
       "│ <span style=\"color: #6272a4; text-decoration-color: #6272a4; background-color: #282a36\"># 5. Sorts the filtered data structure based on 'Efficiency' in descending order and prints the top 5 aircraft </span> │\n",
       "│ <span style=\"color: #6272a4; text-decoration-color: #6272a4; background-color: #282a36\">with the most efficient turbofan engines</span><span style=\"background-color: #282a36\">                                                                       </span> │\n",
       "│ <span style=\"color: #f8f8f2; text-decoration-color: #f8f8f2; background-color: #282a36\">top_5_efficient_engines </span><span style=\"color: #ff79c6; text-decoration-color: #ff79c6; background-color: #282a36\">=</span><span style=\"color: #f8f8f2; text-decoration-color: #f8f8f2; background-color: #282a36\"> turbofan_data</span><span style=\"color: #ff79c6; text-decoration-color: #ff79c6; background-color: #282a36\">.</span><span style=\"color: #f8f8f2; text-decoration-color: #f8f8f2; background-color: #282a36\">sort_values(by</span><span style=\"color: #ff79c6; text-decoration-color: #ff79c6; background-color: #282a36\">=</span><span style=\"color: #bd93f9; text-decoration-color: #bd93f9; background-color: #282a36\">'Efficiency'</span><span style=\"color: #f8f8f2; text-decoration-color: #f8f8f2; background-color: #282a36\">, ascending</span><span style=\"color: #ff79c6; text-decoration-color: #ff79c6; background-color: #282a36\">=False</span><span style=\"color: #f8f8f2; text-decoration-color: #f8f8f2; background-color: #282a36\">)</span><span style=\"color: #ff79c6; text-decoration-color: #ff79c6; background-color: #282a36\">.</span><span style=\"color: #f8f8f2; text-decoration-color: #f8f8f2; background-color: #282a36\">head(</span><span style=\"color: #ffb86c; text-decoration-color: #ffb86c; background-color: #282a36\">5</span><span style=\"color: #f8f8f2; text-decoration-color: #f8f8f2; background-color: #282a36\">)</span><span style=\"background-color: #282a36\">                  </span> │\n",
       "│ <span style=\"color: #8be9fd; text-decoration-color: #8be9fd; background-color: #282a36; font-style: italic\">print</span><span style=\"color: #f8f8f2; text-decoration-color: #f8f8f2; background-color: #282a36\">(</span><span style=\"color: #bd93f9; text-decoration-color: #bd93f9; background-color: #282a36\">\"Top 5 Aircraft with the Most Efficient Turbofan Engines:\"</span><span style=\"color: #f8f8f2; text-decoration-color: #f8f8f2; background-color: #282a36\">)</span><span style=\"background-color: #282a36\">                                              </span> │\n",
       "│ <span style=\"color: #8be9fd; text-decoration-color: #8be9fd; background-color: #282a36; font-style: italic\">print</span><span style=\"color: #f8f8f2; text-decoration-color: #f8f8f2; background-color: #282a36\">(top_5_efficient_engines[[</span><span style=\"color: #bd93f9; text-decoration-color: #bd93f9; background-color: #282a36\">'Aircraft'</span><span style=\"color: #f8f8f2; text-decoration-color: #f8f8f2; background-color: #282a36\">, </span><span style=\"color: #bd93f9; text-decoration-color: #bd93f9; background-color: #282a36\">'Efficiency'</span><span style=\"color: #f8f8f2; text-decoration-color: #f8f8f2; background-color: #282a36\">]])</span><span style=\"background-color: #282a36\">                                                     </span> │\n",
       "╰─────────────────────────────────────────────────────────────────────────────────────────────────────────────────╯\n",
       "</pre>\n"
      ],
      "text/plain": [
       "╭───────────────────────────────────────────────────── Code ──────────────────────────────────────────────────────╮\n",
       "│ \u001b[38;2;255;121;198;48;2;40;42;54mimport\u001b[0m\u001b[38;2;248;248;242;48;2;40;42;54m \u001b[0m\u001b[38;2;248;248;242;48;2;40;42;54mpandas\u001b[0m\u001b[38;2;248;248;242;48;2;40;42;54m \u001b[0m\u001b[38;2;255;121;198;48;2;40;42;54mas\u001b[0m\u001b[38;2;248;248;242;48;2;40;42;54m \u001b[0m\u001b[38;2;248;248;242;48;2;40;42;54mpd\u001b[0m\u001b[48;2;40;42;54m                                                                                            \u001b[0m │\n",
       "│ \u001b[48;2;40;42;54m                                                                                                               \u001b[0m │\n",
       "│ \u001b[38;2;98;114;164;48;2;40;42;54m# 1. Reads the CSV file and loads the data into a suitable data structure (like a list of dictionaries or a \u001b[0m\u001b[48;2;40;42;54m   \u001b[0m │\n",
       "│ \u001b[38;2;98;114;164;48;2;40;42;54mpandas DataFrame)\u001b[0m\u001b[48;2;40;42;54m                                                                                              \u001b[0m │\n",
       "│ \u001b[38;2;248;248;242;48;2;40;42;54mdata\u001b[0m\u001b[38;2;248;248;242;48;2;40;42;54m \u001b[0m\u001b[38;2;255;121;198;48;2;40;42;54m=\u001b[0m\u001b[38;2;248;248;242;48;2;40;42;54m \u001b[0m\u001b[38;2;248;248;242;48;2;40;42;54mpd\u001b[0m\u001b[38;2;255;121;198;48;2;40;42;54m.\u001b[0m\u001b[38;2;248;248;242;48;2;40;42;54mread_csv\u001b[0m\u001b[38;2;248;248;242;48;2;40;42;54m(\u001b[0m\u001b[38;2;189;147;249;48;2;40;42;54m'\u001b[0m\u001b[38;2;189;147;249;48;2;40;42;54maircraft_propulsion_data.csv\u001b[0m\u001b[38;2;189;147;249;48;2;40;42;54m'\u001b[0m\u001b[38;2;248;248;242;48;2;40;42;54m)\u001b[0m\u001b[48;2;40;42;54m                                                             \u001b[0m │\n",
       "│ \u001b[48;2;40;42;54m                                                                                                               \u001b[0m │\n",
       "│ \u001b[38;2;98;114;164;48;2;40;42;54m# 2. Calculates and adds a new column to the data structure containing the 'Efficiency' of each propulsion \u001b[0m\u001b[48;2;40;42;54m    \u001b[0m │\n",
       "│ \u001b[38;2;98;114;164;48;2;40;42;54msystem\u001b[0m\u001b[48;2;40;42;54m                                                                                                         \u001b[0m │\n",
       "│ \u001b[38;2;248;248;242;48;2;40;42;54mdata\u001b[0m\u001b[38;2;248;248;242;48;2;40;42;54m[\u001b[0m\u001b[38;2;189;147;249;48;2;40;42;54m'\u001b[0m\u001b[38;2;189;147;249;48;2;40;42;54mEfficiency\u001b[0m\u001b[38;2;189;147;249;48;2;40;42;54m'\u001b[0m\u001b[38;2;248;248;242;48;2;40;42;54m]\u001b[0m\u001b[38;2;248;248;242;48;2;40;42;54m \u001b[0m\u001b[38;2;255;121;198;48;2;40;42;54m=\u001b[0m\u001b[38;2;248;248;242;48;2;40;42;54m \u001b[0m\u001b[38;2;248;248;242;48;2;40;42;54mdata\u001b[0m\u001b[38;2;248;248;242;48;2;40;42;54m[\u001b[0m\u001b[38;2;189;147;249;48;2;40;42;54m'\u001b[0m\u001b[38;2;189;147;249;48;2;40;42;54mThrust (kN)\u001b[0m\u001b[38;2;189;147;249;48;2;40;42;54m'\u001b[0m\u001b[38;2;248;248;242;48;2;40;42;54m]\u001b[0m\u001b[38;2;248;248;242;48;2;40;42;54m \u001b[0m\u001b[38;2;255;121;198;48;2;40;42;54m/\u001b[0m\u001b[38;2;248;248;242;48;2;40;42;54m \u001b[0m\u001b[38;2;248;248;242;48;2;40;42;54mdata\u001b[0m\u001b[38;2;248;248;242;48;2;40;42;54m[\u001b[0m\u001b[38;2;189;147;249;48;2;40;42;54m'\u001b[0m\u001b[38;2;189;147;249;48;2;40;42;54mFuel Consumption (kg/h)\u001b[0m\u001b[38;2;189;147;249;48;2;40;42;54m'\u001b[0m\u001b[38;2;248;248;242;48;2;40;42;54m]\u001b[0m\u001b[48;2;40;42;54m                                     \u001b[0m │\n",
       "│ \u001b[48;2;40;42;54m                                                                                                               \u001b[0m │\n",
       "│ \u001b[38;2;98;114;164;48;2;40;42;54m# 3. Filters the data structure to include only turbofan engines and stores the filtered data in a new data \u001b[0m\u001b[48;2;40;42;54m   \u001b[0m │\n",
       "│ \u001b[38;2;98;114;164;48;2;40;42;54mstructure\u001b[0m\u001b[48;2;40;42;54m                                                                                                      \u001b[0m │\n",
       "│ \u001b[38;2;248;248;242;48;2;40;42;54mturbofan_data\u001b[0m\u001b[38;2;248;248;242;48;2;40;42;54m \u001b[0m\u001b[38;2;255;121;198;48;2;40;42;54m=\u001b[0m\u001b[38;2;248;248;242;48;2;40;42;54m \u001b[0m\u001b[38;2;248;248;242;48;2;40;42;54mdata\u001b[0m\u001b[38;2;248;248;242;48;2;40;42;54m[\u001b[0m\u001b[38;2;248;248;242;48;2;40;42;54mdata\u001b[0m\u001b[38;2;248;248;242;48;2;40;42;54m[\u001b[0m\u001b[38;2;189;147;249;48;2;40;42;54m'\u001b[0m\u001b[38;2;189;147;249;48;2;40;42;54mEngine Type\u001b[0m\u001b[38;2;189;147;249;48;2;40;42;54m'\u001b[0m\u001b[38;2;248;248;242;48;2;40;42;54m]\u001b[0m\u001b[38;2;248;248;242;48;2;40;42;54m \u001b[0m\u001b[38;2;255;121;198;48;2;40;42;54m==\u001b[0m\u001b[38;2;248;248;242;48;2;40;42;54m \u001b[0m\u001b[38;2;189;147;249;48;2;40;42;54m'\u001b[0m\u001b[38;2;189;147;249;48;2;40;42;54mTurbofan\u001b[0m\u001b[38;2;189;147;249;48;2;40;42;54m'\u001b[0m\u001b[38;2;248;248;242;48;2;40;42;54m]\u001b[0m\u001b[48;2;40;42;54m                                                        \u001b[0m │\n",
       "│ \u001b[48;2;40;42;54m                                                                                                               \u001b[0m │\n",
       "│ \u001b[38;2;98;114;164;48;2;40;42;54m# 4. Calculates the average 'Specific Fuel Consumption' of turbofan engines and prints the result\u001b[0m\u001b[48;2;40;42;54m              \u001b[0m │\n",
       "│ \u001b[38;2;248;248;242;48;2;40;42;54maverage_sfc\u001b[0m\u001b[38;2;248;248;242;48;2;40;42;54m \u001b[0m\u001b[38;2;255;121;198;48;2;40;42;54m=\u001b[0m\u001b[38;2;248;248;242;48;2;40;42;54m \u001b[0m\u001b[38;2;248;248;242;48;2;40;42;54mturbofan_data\u001b[0m\u001b[38;2;248;248;242;48;2;40;42;54m[\u001b[0m\u001b[38;2;189;147;249;48;2;40;42;54m'\u001b[0m\u001b[38;2;189;147;249;48;2;40;42;54mSpecific Fuel Consumption (kg/kN*hr)\u001b[0m\u001b[38;2;189;147;249;48;2;40;42;54m'\u001b[0m\u001b[38;2;248;248;242;48;2;40;42;54m]\u001b[0m\u001b[38;2;255;121;198;48;2;40;42;54m.\u001b[0m\u001b[38;2;248;248;242;48;2;40;42;54mmean\u001b[0m\u001b[38;2;248;248;242;48;2;40;42;54m(\u001b[0m\u001b[38;2;248;248;242;48;2;40;42;54m)\u001b[0m\u001b[48;2;40;42;54m                                     \u001b[0m │\n",
       "│ \u001b[3;38;2;139;233;253;48;2;40;42;54mprint\u001b[0m\u001b[38;2;248;248;242;48;2;40;42;54m(\u001b[0m\u001b[38;2;189;147;249;48;2;40;42;54m\"\u001b[0m\u001b[38;2;189;147;249;48;2;40;42;54mAverage Specific Fuel Consumption of Turbofan Engines:\u001b[0m\u001b[38;2;189;147;249;48;2;40;42;54m\"\u001b[0m\u001b[38;2;248;248;242;48;2;40;42;54m,\u001b[0m\u001b[38;2;248;248;242;48;2;40;42;54m \u001b[0m\u001b[38;2;248;248;242;48;2;40;42;54maverage_sfc\u001b[0m\u001b[38;2;248;248;242;48;2;40;42;54m)\u001b[0m\u001b[48;2;40;42;54m                                   \u001b[0m │\n",
       "│ \u001b[48;2;40;42;54m                                                                                                               \u001b[0m │\n",
       "│ \u001b[38;2;98;114;164;48;2;40;42;54m# 5. Sorts the filtered data structure based on 'Efficiency' in descending order and prints the top 5 aircraft \u001b[0m │\n",
       "│ \u001b[38;2;98;114;164;48;2;40;42;54mwith the most efficient turbofan engines\u001b[0m\u001b[48;2;40;42;54m                                                                       \u001b[0m │\n",
       "│ \u001b[38;2;248;248;242;48;2;40;42;54mtop_5_efficient_engines\u001b[0m\u001b[38;2;248;248;242;48;2;40;42;54m \u001b[0m\u001b[38;2;255;121;198;48;2;40;42;54m=\u001b[0m\u001b[38;2;248;248;242;48;2;40;42;54m \u001b[0m\u001b[38;2;248;248;242;48;2;40;42;54mturbofan_data\u001b[0m\u001b[38;2;255;121;198;48;2;40;42;54m.\u001b[0m\u001b[38;2;248;248;242;48;2;40;42;54msort_values\u001b[0m\u001b[38;2;248;248;242;48;2;40;42;54m(\u001b[0m\u001b[38;2;248;248;242;48;2;40;42;54mby\u001b[0m\u001b[38;2;255;121;198;48;2;40;42;54m=\u001b[0m\u001b[38;2;189;147;249;48;2;40;42;54m'\u001b[0m\u001b[38;2;189;147;249;48;2;40;42;54mEfficiency\u001b[0m\u001b[38;2;189;147;249;48;2;40;42;54m'\u001b[0m\u001b[38;2;248;248;242;48;2;40;42;54m,\u001b[0m\u001b[38;2;248;248;242;48;2;40;42;54m \u001b[0m\u001b[38;2;248;248;242;48;2;40;42;54mascending\u001b[0m\u001b[38;2;255;121;198;48;2;40;42;54m=\u001b[0m\u001b[38;2;255;121;198;48;2;40;42;54mFalse\u001b[0m\u001b[38;2;248;248;242;48;2;40;42;54m)\u001b[0m\u001b[38;2;255;121;198;48;2;40;42;54m.\u001b[0m\u001b[38;2;248;248;242;48;2;40;42;54mhead\u001b[0m\u001b[38;2;248;248;242;48;2;40;42;54m(\u001b[0m\u001b[38;2;255;184;108;48;2;40;42;54m5\u001b[0m\u001b[38;2;248;248;242;48;2;40;42;54m)\u001b[0m\u001b[48;2;40;42;54m                  \u001b[0m │\n",
       "│ \u001b[3;38;2;139;233;253;48;2;40;42;54mprint\u001b[0m\u001b[38;2;248;248;242;48;2;40;42;54m(\u001b[0m\u001b[38;2;189;147;249;48;2;40;42;54m\"\u001b[0m\u001b[38;2;189;147;249;48;2;40;42;54mTop 5 Aircraft with the Most Efficient Turbofan Engines:\u001b[0m\u001b[38;2;189;147;249;48;2;40;42;54m\"\u001b[0m\u001b[38;2;248;248;242;48;2;40;42;54m)\u001b[0m\u001b[48;2;40;42;54m                                              \u001b[0m │\n",
       "│ \u001b[3;38;2;139;233;253;48;2;40;42;54mprint\u001b[0m\u001b[38;2;248;248;242;48;2;40;42;54m(\u001b[0m\u001b[38;2;248;248;242;48;2;40;42;54mtop_5_efficient_engines\u001b[0m\u001b[38;2;248;248;242;48;2;40;42;54m[\u001b[0m\u001b[38;2;248;248;242;48;2;40;42;54m[\u001b[0m\u001b[38;2;189;147;249;48;2;40;42;54m'\u001b[0m\u001b[38;2;189;147;249;48;2;40;42;54mAircraft\u001b[0m\u001b[38;2;189;147;249;48;2;40;42;54m'\u001b[0m\u001b[38;2;248;248;242;48;2;40;42;54m,\u001b[0m\u001b[38;2;248;248;242;48;2;40;42;54m \u001b[0m\u001b[38;2;189;147;249;48;2;40;42;54m'\u001b[0m\u001b[38;2;189;147;249;48;2;40;42;54mEfficiency\u001b[0m\u001b[38;2;189;147;249;48;2;40;42;54m'\u001b[0m\u001b[38;2;248;248;242;48;2;40;42;54m]\u001b[0m\u001b[38;2;248;248;242;48;2;40;42;54m]\u001b[0m\u001b[38;2;248;248;242;48;2;40;42;54m)\u001b[0m\u001b[48;2;40;42;54m                                                     \u001b[0m │\n",
       "╰─────────────────────────────────────────────────────────────────────────────────────────────────────────────────╯\n"
      ]
     },
     "metadata": {},
     "output_type": "display_data"
    },
    {
     "data": {
      "text/html": [
       "<pre style=\"white-space:pre;overflow-x:auto;line-height:normal;font-family:Menlo,'DejaVu Sans Mono',consolas,'Courier New',monospace\"><span style=\"font-style: italic\">                                         Evaluation and Syntax Validation                                          </span>\n",
       "┏━━━━━━━━━━━━━━━━━┳━━━━━━━━━━━━━━━━━━━┳━━━━━━━━━━━━━━━━━━━┳━━━━━━━━━━━━━━━━━━┳━━━━━━━━━━━━━━━━┳━━━━━━━━━━━━━━━━━━━┓\n",
       "┃<span style=\"font-weight: bold\"> Relevance Score </span>┃<span style=\"font-weight: bold\"> Correctness Score </span>┃<span style=\"font-weight: bold\"> Readability Score </span>┃<span style=\"font-weight: bold\"> Efficiency Score </span>┃<span style=\"font-weight: bold\"> Pythonic Score </span>┃<span style=\"font-weight: bold\"> Syntax Validation </span>┃\n",
       "┡━━━━━━━━━━━━━━━━━╇━━━━━━━━━━━━━━━━━━━╇━━━━━━━━━━━━━━━━━━━╇━━━━━━━━━━━━━━━━━━╇━━━━━━━━━━━━━━━━╇━━━━━━━━━━━━━━━━━━━┩\n",
       "│               4 │                 4 │                 3 │                3 │              3 │            PASSED │\n",
       "└─────────────────┴───────────────────┴───────────────────┴──────────────────┴────────────────┴───────────────────┘\n",
       "<span style=\"color: #7f7f7f; text-decoration-color: #7f7f7f; font-style: italic\">Scoring is from 0-4, with 4 being the highest score.                                                               </span>\n",
       "</pre>\n"
      ],
      "text/plain": [
       "\u001b[3m                                         Evaluation and Syntax Validation                                          \u001b[0m\n",
       "┏━━━━━━━━━━━━━━━━━┳━━━━━━━━━━━━━━━━━━━┳━━━━━━━━━━━━━━━━━━━┳━━━━━━━━━━━━━━━━━━┳━━━━━━━━━━━━━━━━┳━━━━━━━━━━━━━━━━━━━┓\n",
       "┃\u001b[1m \u001b[0m\u001b[1mRelevance Score\u001b[0m\u001b[1m \u001b[0m┃\u001b[1m \u001b[0m\u001b[1mCorrectness Score\u001b[0m\u001b[1m \u001b[0m┃\u001b[1m \u001b[0m\u001b[1mReadability Score\u001b[0m\u001b[1m \u001b[0m┃\u001b[1m \u001b[0m\u001b[1mEfficiency Score\u001b[0m\u001b[1m \u001b[0m┃\u001b[1m \u001b[0m\u001b[1mPythonic Score\u001b[0m\u001b[1m \u001b[0m┃\u001b[1m \u001b[0m\u001b[1mSyntax Validation\u001b[0m\u001b[1m \u001b[0m┃\n",
       "┡━━━━━━━━━━━━━━━━━╇━━━━━━━━━━━━━━━━━━━╇━━━━━━━━━━━━━━━━━━━╇━━━━━━━━━━━━━━━━━━╇━━━━━━━━━━━━━━━━╇━━━━━━━━━━━━━━━━━━━┩\n",
       "│               4 │                 4 │                 3 │                3 │              3 │            PASSED │\n",
       "└─────────────────┴───────────────────┴───────────────────┴──────────────────┴────────────────┴───────────────────┘\n",
       "\u001b[2;3mScoring is from 0-4, with 4 being the highest score.                                                               \u001b[0m\n"
      ]
     },
     "metadata": {},
     "output_type": "display_data"
    }
   ],
   "source": [
    "results.display_sample(index = 0)"
   ]
  },
  {
   "cell_type": "code",
   "execution_count": 7,
   "metadata": {},
   "outputs": [
    {
     "name": "stdout",
     "output_type": "stream",
     "text": [
      "import pandas as pd\n",
      "\n",
      "# 1. Reads the CSV file and loads the data into a suitable data structure (like a list of dictionaries or a pandas DataFrame)\n",
      "data = pd.read_csv('aircraft_propulsion_data.csv')\n",
      "\n",
      "# 2. Calculates and adds a new column to the data structure containing the 'Efficiency' of each propulsion system\n",
      "data['Efficiency'] = data['Thrust (kN)'] / data['Fuel Consumption (kg/h)']\n",
      "\n",
      "# 3. Filters the data structure to include only turbofan engines and stores the filtered data in a new data structure\n",
      "turbofan_data = data[data['Engine Type'] == 'Turbofan']\n",
      "\n",
      "# 4. Calculates the average 'Specific Fuel Consumption' of turbofan engines and prints the result\n",
      "average_sfc = turbofan_data['Specific Fuel Consumption (kg/kN*hr)'].mean()\n",
      "print(\"Average Specific Fuel Consumption of Turbofan Engines:\", average_sfc)\n",
      "\n",
      "# 5. Sorts the filtered data structure based on 'Efficiency' in descending order and prints the top 5 aircraft with the most efficient turbofan engines\n",
      "top_5_efficient_engines = turbofan_data.sort_values(by='Efficiency', ascending=False).head(5)\n",
      "print(\"Top 5 Aircraft with the Most Efficient Turbofan Engines:\")\n",
      "print(top_5_efficient_engines[['Aircraft', 'Efficiency']])\n"
     ]
    }
   ],
   "source": [
    "print(results.dataframe.code[0])"
   ]
  },
  {
   "cell_type": "code",
   "execution_count": null,
   "metadata": {},
   "outputs": [],
   "source": []
  }
 ],
 "metadata": {
  "kernelspec": {
   "display_name": "base_env",
   "language": "python",
   "name": "python3"
  },
  "language_info": {
   "codemirror_mode": {
    "name": "ipython",
    "version": 3
   },
   "file_extension": ".py",
   "mimetype": "text/x-python",
   "name": "python",
   "nbconvert_exporter": "python",
   "pygments_lexer": "ipython3",
   "version": "3.12.4"
  }
 },
 "nbformat": 4,
 "nbformat_minor": 2
}
