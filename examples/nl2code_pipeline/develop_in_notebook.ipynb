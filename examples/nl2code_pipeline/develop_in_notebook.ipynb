{
 "cells": [
  {
   "cell_type": "code",
   "execution_count": 8,
   "metadata": {},
   "outputs": [],
   "source": [
    "from navigator_helpers import NL2CodeTaskSuite\n",
    "from navigator_helpers.tasks.text_to_code.utils import display_nl2code_sample\n",
    "from navigator_helpers.tasks.prompt_templates.template_suite import load_prompt_template_suite"
   ]
  },
  {
   "cell_type": "code",
   "execution_count": 9,
   "metadata": {},
   "outputs": [
    {
     "name": "stdout",
     "output_type": "stream",
     "text": [
      "2024-09-04 11:37:19.717 - INFO - 🦜 Initializing LLM suite\n",
      "2024-09-04 11:37:19.717 - INFO - 📖 Natural language LLM: gretelai/gpt-mixtral-8x-22b\n",
      "2024-09-04 11:37:19.990 - INFO - 💻 Code LLM: gretelai/gpt-codestral-mamba\n",
      "2024-09-04 11:37:20.270 - INFO - ⚖️ Judge LLM: gretelai/gpt-groq-llama-3-1-8b\n"
     ]
    }
   ],
   "source": [
    "tasks = NL2CodeTaskSuite()"
   ]
  },
  {
   "cell_type": "code",
   "execution_count": 10,
   "metadata": {},
   "outputs": [],
   "source": [
    "record = tasks.create_record(\n",
    "    domain=\"Physics\", \n",
    "    topic=\"Particle Physics\", \n",
    "    complexity=\"Novice: Basic syntax, variables, and data types\", \n",
    "    llm_as_a_judge=False, \n",
    "    syntax_validation=False\n",
    ")"
   ]
  },
  {
   "cell_type": "code",
   "execution_count": 11,
   "metadata": {},
   "outputs": [
    {
     "data": {
      "text/html": [
       "<pre style=\"white-space:pre;overflow-x:auto;line-height:normal;font-family:Menlo,'DejaVu Sans Mono',consolas,'Courier New',monospace\"><span style=\"font-style: italic\">                                                  Contextual Tags                                                  </span>\n",
       "┏━━━━━━━━━┳━━━━━━━━━━━━━━━━━━┳━━━━━━━━━━━━━━━━━━━━━━━━━━━━━━━━━━━━━━━━━━┳━━━━━━━━━━━━━━━━━━━━━━━━━━━━━━━━━━━━━━━━━┓\n",
       "┃<span style=\"font-weight: bold\"> Domain  </span>┃<span style=\"font-weight: bold\"> Topic            </span>┃<span style=\"font-weight: bold\"> Complexity                               </span>┃<span style=\"font-weight: bold\"> Suggested Packages                      </span>┃\n",
       "┡━━━━━━━━━╇━━━━━━━━━━━━━━━━━━╇━━━━━━━━━━━━━━━━━━━━━━━━━━━━━━━━━━━━━━━━━━╇━━━━━━━━━━━━━━━━━━━━━━━━━━━━━━━━━━━━━━━━━┩\n",
       "│ Physics │ Particle Physics │ Novice: Basic syntax, variables, and     │ numpy, sympy, matplotlib, pandas, scipy │\n",
       "│         │                  │ data types                               │                                         │\n",
       "└─────────┴──────────────────┴──────────────────────────────────────────┴─────────────────────────────────────────┘\n",
       "</pre>\n"
      ],
      "text/plain": [
       "\u001b[3m                                                  Contextual Tags                                                  \u001b[0m\n",
       "┏━━━━━━━━━┳━━━━━━━━━━━━━━━━━━┳━━━━━━━━━━━━━━━━━━━━━━━━━━━━━━━━━━━━━━━━━━┳━━━━━━━━━━━━━━━━━━━━━━━━━━━━━━━━━━━━━━━━━┓\n",
       "┃\u001b[1m \u001b[0m\u001b[1mDomain \u001b[0m\u001b[1m \u001b[0m┃\u001b[1m \u001b[0m\u001b[1mTopic           \u001b[0m\u001b[1m \u001b[0m┃\u001b[1m \u001b[0m\u001b[1mComplexity                              \u001b[0m\u001b[1m \u001b[0m┃\u001b[1m \u001b[0m\u001b[1mSuggested Packages                     \u001b[0m\u001b[1m \u001b[0m┃\n",
       "┡━━━━━━━━━╇━━━━━━━━━━━━━━━━━━╇━━━━━━━━━━━━━━━━━━━━━━━━━━━━━━━━━━━━━━━━━━╇━━━━━━━━━━━━━━━━━━━━━━━━━━━━━━━━━━━━━━━━━┩\n",
       "│ Physics │ Particle Physics │ Novice: Basic syntax, variables, and     │ numpy, sympy, matplotlib, pandas, scipy │\n",
       "│         │                  │ data types                               │                                         │\n",
       "└─────────┴──────────────────┴──────────────────────────────────────────┴─────────────────────────────────────────┘\n"
      ]
     },
     "metadata": {},
     "output_type": "display_data"
    },
    {
     "data": {
      "text/html": [
       "<pre style=\"white-space:pre;overflow-x:auto;line-height:normal;font-family:Menlo,'DejaVu Sans Mono',consolas,'Courier New',monospace\">╭───────────────────────────────────────── Natural Language Instruction ──────────────────────────────────────────╮\n",
       "│ Write a Python code to calculate the kinetic energy of a particle given its mass (in kg) and velocity (in m/s). │\n",
       "│ The formula to calculate kinetic energy is (1/2) * mass * velocity^2. Make sure to store the calculated kinetic │\n",
       "│ energy in a variable named `kinetic_energy`.                                                                    │\n",
       "╰─────────────────────────────────────────────────────────────────────────────────────────────────────────────────╯\n",
       "</pre>\n"
      ],
      "text/plain": [
       "╭───────────────────────────────────────── Natural Language Instruction ──────────────────────────────────────────╮\n",
       "│ Write a Python code to calculate the kinetic energy of a particle given its mass (in kg) and velocity (in m/s). │\n",
       "│ The formula to calculate kinetic energy is (1/2) * mass * velocity^2. Make sure to store the calculated kinetic │\n",
       "│ energy in a variable named `kinetic_energy`.                                                                    │\n",
       "╰─────────────────────────────────────────────────────────────────────────────────────────────────────────────────╯\n"
      ]
     },
     "metadata": {},
     "output_type": "display_data"
    },
    {
     "data": {
      "text/html": [
       "<pre style=\"white-space:pre;overflow-x:auto;line-height:normal;font-family:Menlo,'DejaVu Sans Mono',consolas,'Courier New',monospace\">╭───────────────────────────────────────────────────── Code ──────────────────────────────────────────────────────╮\n",
       "│ <span style=\"color: #ff79c6; text-decoration-color: #ff79c6; background-color: #282a36\">import</span><span style=\"color: #f8f8f2; text-decoration-color: #f8f8f2; background-color: #282a36\"> numpy </span><span style=\"color: #ff79c6; text-decoration-color: #ff79c6; background-color: #282a36\">as</span><span style=\"color: #f8f8f2; text-decoration-color: #f8f8f2; background-color: #282a36\"> np</span><span style=\"background-color: #282a36\">                                                                                             </span> │\n",
       "│ <span style=\"background-color: #282a36\">                                                                                                               </span> │\n",
       "│ <span style=\"color: #ff79c6; text-decoration-color: #ff79c6; background-color: #282a36\">def</span><span style=\"color: #f8f8f2; text-decoration-color: #f8f8f2; background-color: #282a36\"> </span><span style=\"color: #50fa7b; text-decoration-color: #50fa7b; background-color: #282a36\">calculate_kinetic_energy</span><span style=\"color: #f8f8f2; text-decoration-color: #f8f8f2; background-color: #282a36\">(mass, velocity):</span><span style=\"background-color: #282a36\">                                                                  </span> │\n",
       "│ <span style=\"color: #f8f8f2; text-decoration-color: #f8f8f2; background-color: #282a36\">    kinetic_energy </span><span style=\"color: #ff79c6; text-decoration-color: #ff79c6; background-color: #282a36\">=</span><span style=\"color: #f8f8f2; text-decoration-color: #f8f8f2; background-color: #282a36\"> </span><span style=\"color: #ffb86c; text-decoration-color: #ffb86c; background-color: #282a36\">0.5</span><span style=\"color: #f8f8f2; text-decoration-color: #f8f8f2; background-color: #282a36\"> </span><span style=\"color: #ff79c6; text-decoration-color: #ff79c6; background-color: #282a36\">*</span><span style=\"color: #f8f8f2; text-decoration-color: #f8f8f2; background-color: #282a36\"> mass </span><span style=\"color: #ff79c6; text-decoration-color: #ff79c6; background-color: #282a36\">*</span><span style=\"color: #f8f8f2; text-decoration-color: #f8f8f2; background-color: #282a36\"> velocity</span><span style=\"color: #ff79c6; text-decoration-color: #ff79c6; background-color: #282a36\">**</span><span style=\"color: #ffb86c; text-decoration-color: #ffb86c; background-color: #282a36\">2</span><span style=\"background-color: #282a36\">                                                                  </span> │\n",
       "│ <span style=\"color: #f8f8f2; text-decoration-color: #f8f8f2; background-color: #282a36\">    </span><span style=\"color: #ff79c6; text-decoration-color: #ff79c6; background-color: #282a36\">return</span><span style=\"color: #f8f8f2; text-decoration-color: #f8f8f2; background-color: #282a36\"> kinetic_energy</span><span style=\"background-color: #282a36\">                                                                                      </span> │\n",
       "│ <span style=\"background-color: #282a36\">                                                                                                               </span> │\n",
       "│ <span style=\"color: #f8f8f2; text-decoration-color: #f8f8f2; background-color: #282a36\">mass </span><span style=\"color: #ff79c6; text-decoration-color: #ff79c6; background-color: #282a36\">=</span><span style=\"color: #f8f8f2; text-decoration-color: #f8f8f2; background-color: #282a36\"> </span><span style=\"color: #ffb86c; text-decoration-color: #ffb86c; background-color: #282a36\">1.0</span><span style=\"color: #f8f8f2; text-decoration-color: #f8f8f2; background-color: #282a36\">  </span><span style=\"color: #6272a4; text-decoration-color: #6272a4; background-color: #282a36\"># kg</span><span style=\"background-color: #282a36\">                                                                                               </span> │\n",
       "│ <span style=\"color: #f8f8f2; text-decoration-color: #f8f8f2; background-color: #282a36\">velocity </span><span style=\"color: #ff79c6; text-decoration-color: #ff79c6; background-color: #282a36\">=</span><span style=\"color: #f8f8f2; text-decoration-color: #f8f8f2; background-color: #282a36\"> </span><span style=\"color: #ffb86c; text-decoration-color: #ffb86c; background-color: #282a36\">2.0</span><span style=\"color: #f8f8f2; text-decoration-color: #f8f8f2; background-color: #282a36\">  </span><span style=\"color: #6272a4; text-decoration-color: #6272a4; background-color: #282a36\"># m/s</span><span style=\"background-color: #282a36\">                                                                                          </span> │\n",
       "│ <span style=\"color: #f8f8f2; text-decoration-color: #f8f8f2; background-color: #282a36\">kinetic_energy </span><span style=\"color: #ff79c6; text-decoration-color: #ff79c6; background-color: #282a36\">=</span><span style=\"color: #f8f8f2; text-decoration-color: #f8f8f2; background-color: #282a36\"> calculate_kinetic_energy(mass, velocity)</span><span style=\"background-color: #282a36\">                                                      </span> │\n",
       "│ <span style=\"color: #8be9fd; text-decoration-color: #8be9fd; background-color: #282a36; font-style: italic\">print</span><span style=\"color: #f8f8f2; text-decoration-color: #f8f8f2; background-color: #282a36\">(kinetic_energy)</span><span style=\"background-color: #282a36\">                                                                                          </span> │\n",
       "╰─────────────────────────────────────────────────────────────────────────────────────────────────────────────────╯\n",
       "</pre>\n"
      ],
      "text/plain": [
       "╭───────────────────────────────────────────────────── Code ──────────────────────────────────────────────────────╮\n",
       "│ \u001b[38;2;255;121;198;48;2;40;42;54mimport\u001b[0m\u001b[38;2;248;248;242;48;2;40;42;54m \u001b[0m\u001b[38;2;248;248;242;48;2;40;42;54mnumpy\u001b[0m\u001b[38;2;248;248;242;48;2;40;42;54m \u001b[0m\u001b[38;2;255;121;198;48;2;40;42;54mas\u001b[0m\u001b[38;2;248;248;242;48;2;40;42;54m \u001b[0m\u001b[38;2;248;248;242;48;2;40;42;54mnp\u001b[0m\u001b[48;2;40;42;54m                                                                                             \u001b[0m │\n",
       "│ \u001b[48;2;40;42;54m                                                                                                               \u001b[0m │\n",
       "│ \u001b[38;2;255;121;198;48;2;40;42;54mdef\u001b[0m\u001b[38;2;248;248;242;48;2;40;42;54m \u001b[0m\u001b[38;2;80;250;123;48;2;40;42;54mcalculate_kinetic_energy\u001b[0m\u001b[38;2;248;248;242;48;2;40;42;54m(\u001b[0m\u001b[38;2;248;248;242;48;2;40;42;54mmass\u001b[0m\u001b[38;2;248;248;242;48;2;40;42;54m,\u001b[0m\u001b[38;2;248;248;242;48;2;40;42;54m \u001b[0m\u001b[38;2;248;248;242;48;2;40;42;54mvelocity\u001b[0m\u001b[38;2;248;248;242;48;2;40;42;54m)\u001b[0m\u001b[38;2;248;248;242;48;2;40;42;54m:\u001b[0m\u001b[48;2;40;42;54m                                                                  \u001b[0m │\n",
       "│ \u001b[38;2;248;248;242;48;2;40;42;54m    \u001b[0m\u001b[38;2;248;248;242;48;2;40;42;54mkinetic_energy\u001b[0m\u001b[38;2;248;248;242;48;2;40;42;54m \u001b[0m\u001b[38;2;255;121;198;48;2;40;42;54m=\u001b[0m\u001b[38;2;248;248;242;48;2;40;42;54m \u001b[0m\u001b[38;2;255;184;108;48;2;40;42;54m0.5\u001b[0m\u001b[38;2;248;248;242;48;2;40;42;54m \u001b[0m\u001b[38;2;255;121;198;48;2;40;42;54m*\u001b[0m\u001b[38;2;248;248;242;48;2;40;42;54m \u001b[0m\u001b[38;2;248;248;242;48;2;40;42;54mmass\u001b[0m\u001b[38;2;248;248;242;48;2;40;42;54m \u001b[0m\u001b[38;2;255;121;198;48;2;40;42;54m*\u001b[0m\u001b[38;2;248;248;242;48;2;40;42;54m \u001b[0m\u001b[38;2;248;248;242;48;2;40;42;54mvelocity\u001b[0m\u001b[38;2;255;121;198;48;2;40;42;54m*\u001b[0m\u001b[38;2;255;121;198;48;2;40;42;54m*\u001b[0m\u001b[38;2;255;184;108;48;2;40;42;54m2\u001b[0m\u001b[48;2;40;42;54m                                                                  \u001b[0m │\n",
       "│ \u001b[38;2;248;248;242;48;2;40;42;54m    \u001b[0m\u001b[38;2;255;121;198;48;2;40;42;54mreturn\u001b[0m\u001b[38;2;248;248;242;48;2;40;42;54m \u001b[0m\u001b[38;2;248;248;242;48;2;40;42;54mkinetic_energy\u001b[0m\u001b[48;2;40;42;54m                                                                                      \u001b[0m │\n",
       "│ \u001b[48;2;40;42;54m                                                                                                               \u001b[0m │\n",
       "│ \u001b[38;2;248;248;242;48;2;40;42;54mmass\u001b[0m\u001b[38;2;248;248;242;48;2;40;42;54m \u001b[0m\u001b[38;2;255;121;198;48;2;40;42;54m=\u001b[0m\u001b[38;2;248;248;242;48;2;40;42;54m \u001b[0m\u001b[38;2;255;184;108;48;2;40;42;54m1.0\u001b[0m\u001b[38;2;248;248;242;48;2;40;42;54m  \u001b[0m\u001b[38;2;98;114;164;48;2;40;42;54m# kg\u001b[0m\u001b[48;2;40;42;54m                                                                                               \u001b[0m │\n",
       "│ \u001b[38;2;248;248;242;48;2;40;42;54mvelocity\u001b[0m\u001b[38;2;248;248;242;48;2;40;42;54m \u001b[0m\u001b[38;2;255;121;198;48;2;40;42;54m=\u001b[0m\u001b[38;2;248;248;242;48;2;40;42;54m \u001b[0m\u001b[38;2;255;184;108;48;2;40;42;54m2.0\u001b[0m\u001b[38;2;248;248;242;48;2;40;42;54m  \u001b[0m\u001b[38;2;98;114;164;48;2;40;42;54m# m/s\u001b[0m\u001b[48;2;40;42;54m                                                                                          \u001b[0m │\n",
       "│ \u001b[38;2;248;248;242;48;2;40;42;54mkinetic_energy\u001b[0m\u001b[38;2;248;248;242;48;2;40;42;54m \u001b[0m\u001b[38;2;255;121;198;48;2;40;42;54m=\u001b[0m\u001b[38;2;248;248;242;48;2;40;42;54m \u001b[0m\u001b[38;2;248;248;242;48;2;40;42;54mcalculate_kinetic_energy\u001b[0m\u001b[38;2;248;248;242;48;2;40;42;54m(\u001b[0m\u001b[38;2;248;248;242;48;2;40;42;54mmass\u001b[0m\u001b[38;2;248;248;242;48;2;40;42;54m,\u001b[0m\u001b[38;2;248;248;242;48;2;40;42;54m \u001b[0m\u001b[38;2;248;248;242;48;2;40;42;54mvelocity\u001b[0m\u001b[38;2;248;248;242;48;2;40;42;54m)\u001b[0m\u001b[48;2;40;42;54m                                                      \u001b[0m │\n",
       "│ \u001b[3;38;2;139;233;253;48;2;40;42;54mprint\u001b[0m\u001b[38;2;248;248;242;48;2;40;42;54m(\u001b[0m\u001b[38;2;248;248;242;48;2;40;42;54mkinetic_energy\u001b[0m\u001b[38;2;248;248;242;48;2;40;42;54m)\u001b[0m\u001b[48;2;40;42;54m                                                                                          \u001b[0m │\n",
       "╰─────────────────────────────────────────────────────────────────────────────────────────────────────────────────╯\n"
      ]
     },
     "metadata": {},
     "output_type": "display_data"
    }
   ],
   "source": [
    "display_nl2code_sample(record)"
   ]
  },
  {
   "cell_type": "code",
   "execution_count": 12,
   "metadata": {},
   "outputs": [
    {
     "name": "stdout",
     "output_type": "stream",
     "text": [
      "2024-09-04 11:37:26.429 - INFO - 🏷️ Generating domains\n",
      "2024-09-04 11:37:27.441 - INFO - 🏷️ Generating topics for each domain\n",
      "2024-09-04 11:37:31.421 - INFO - 🏷️ Generating levels of Python complexity\n"
     ]
    }
   ],
   "source": [
    "tags = tasks.generate_contextual_tags(\n",
    "    num_domains=3,\n",
    "    num_topics_per_domain=5,\n",
    "    num_complexity_levels=4,\n",
    ")"
   ]
  },
  {
   "cell_type": "code",
   "execution_count": 13,
   "metadata": {},
   "outputs": [
    {
     "data": {
      "text/plain": [
       "ContextualTags({\n",
       "    \"domain_and_topics\": {\n",
       "        \"Financial Technology\": [\n",
       "            \"Payment Processing\",\n",
       "            \"Risk Management\",\n",
       "            \"Investment Analysis\",\n",
       "            \"Fraud Detection\",\n",
       "            \"Accounting Automation\"\n",
       "        ],\n",
       "        \"Artificial Intelligence Research\": [\n",
       "            \"Neural Network Architectures\",\n",
       "            \"Natural Language Processing\",\n",
       "            \"Reinforcement Learning\",\n",
       "            \"Computer Vision\",\n",
       "            \"Robotics\"\n",
       "        ],\n",
       "        \"Web Development\": [\n",
       "            \"Frontend Frameworks\",\n",
       "            \"Backend Languages\",\n",
       "            \"Version Control\",\n",
       "            \"Web Security\",\n",
       "            \"Responsive Design\"\n",
       "        ]\n",
       "    },\n",
       "    \"complexity_levels\": [\n",
       "        \"Novice: Basic commands, variables, and data types\",\n",
       "        \"Intermediate: Control structures, functions, and data manipulation\",\n",
       "        \"Advanced: Object-oriented programming, error handling, and algorithm design\",\n",
       "        \"Expert: Concurrency, metaprogramming, and system design\"\n",
       "    ]\n",
       "})"
      ]
     },
     "execution_count": 13,
     "metadata": {},
     "output_type": "execute_result"
    }
   ],
   "source": [
    "tags"
   ]
  },
  {
   "cell_type": "code",
   "execution_count": 14,
   "metadata": {},
   "outputs": [
    {
     "data": {
      "text/plain": [
       "PromptTemplateSuite(\n",
       "    domains: ('num_domains',)\n",
       "    topics_from_domains: ('num_topics', 'domain')\n",
       "    complexity: ('num_levels',)\n",
       "    python_natural_language: ('nl_type_description', 'nl_type', 'complexity', 'nl_type', 'domain', 'topic')\n",
       "    python_code_generation: ('python_natural_language', 'complexity', 'domain', 'topic', 'suggested_packages')\n",
       "    python_suggested_packages: ('domain', 'max_dependencies', 'domain')\n",
       ")"
      ]
     },
     "execution_count": 14,
     "metadata": {},
     "output_type": "execute_result"
    }
   ],
   "source": [
    "prompt_templates = load_prompt_template_suite(\"python\")\n",
    "\n",
    "prompt_templates"
   ]
  },
  {
   "cell_type": "code",
   "execution_count": 15,
   "metadata": {},
   "outputs": [
    {
     "name": "stdout",
     "output_type": "stream",
     "text": [
      "Create a list of 3 unique industries where you expect to find software engineers who code in Python. \n",
      "\n",
      "### Instructions:\n",
      "    * Do not use abbreviations.\n",
      "    * Keep each industry name to 1-5 words, preferring concise names.\n",
      "    * List the industries in a valid JSON array.\n",
      "\n"
     ]
    }
   ],
   "source": [
    "print(prompt_templates.domains(num_domains=3))"
   ]
  }
 ],
 "metadata": {
  "kernelspec": {
   "display_name": "monogretel-dev",
   "language": "python",
   "name": "python3"
  },
  "language_info": {
   "codemirror_mode": {
    "name": "ipython",
    "version": 3
   },
   "file_extension": ".py",
   "mimetype": "text/x-python",
   "name": "python",
   "nbconvert_exporter": "python",
   "pygments_lexer": "ipython3",
   "version": "3.9.16"
  }
 },
 "nbformat": 4,
 "nbformat_minor": 2
}
