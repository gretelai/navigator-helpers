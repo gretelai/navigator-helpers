{
 "cells": [
  {
   "cell_type": "code",
   "execution_count": 1,
   "metadata": {},
   "outputs": [],
   "source": [
    "import os\n",
    "import yaml\n",
    "from getpass import getpass\n",
    "\n",
    "from navigator_helpers import NL2PythonTaskSuite, GretelLLMSuite\n",
    "from navigator_helpers.tasks.text_to_code.utils import display_nl2code_sample\n",
    "from navigator_helpers.tasks.prompt_templates.template_suite import load_prompt_template_suite"
   ]
  },
  {
   "cell_type": "code",
   "execution_count": 2,
   "metadata": {},
   "outputs": [
    {
     "name": "stdout",
     "output_type": "stream",
     "text": [
      "2024-09-24 10:55:17.900 - INFO - 🦜 Initializing LLM suite\n",
      "2024-09-24 10:55:17.901 - INFO - 📖 Natural language LLM: gretelai-gpt-llama3-1-8b\n",
      "2024-09-24 10:55:17.901 - INFO - 💻 Code LLM: gretelai-gpt-llama3-1-8b\n",
      "2024-09-24 10:55:17.902 - INFO - ⚖️ Judge LLM: gretelai-gpt-llama3-1-8b\n"
     ]
    }
   ],
   "source": [
    "gretel_api_key = os.environ.get(\"GRETEL_PROD_API_KEY\") or getpass(\"Enter your Gretel API key: \")\n",
    "\n",
    "llm_config = yaml.safe_load(f\"\"\"\\\n",
    "- model_name: gretelai-gpt-llama3-1-8b\n",
    "  litellm_params:\n",
    "    model: gretelai/gpt-llama3-1-8b\n",
    "    api_key: {gretel_api_key}\n",
    "    api_base: https://api.gretel.ai\n",
    "  tags:\n",
    "  - open_license\n",
    "  - nl\n",
    "  - code\n",
    "  - judge\n",
    "\"\"\"\n",
    ")\n",
    "\n",
    "llm_suite = GretelLLMSuite(llm_config=llm_config)"
   ]
  },
  {
   "cell_type": "code",
   "execution_count": 3,
   "metadata": {},
   "outputs": [],
   "source": [
    "tasks = NL2PythonTaskSuite(llm_suite)"
   ]
  },
  {
   "cell_type": "code",
   "execution_count": 4,
   "metadata": {},
   "outputs": [],
   "source": [
    "record = tasks.create_record(\n",
    "    domain=\"Physics\", \n",
    "    topic=\"Particle Physics\", \n",
    "    complexity=\"Novice: Basic syntax, variables, and data types\", \n",
    "    llm_as_a_judge=False, \n",
    "    syntax_validation=False\n",
    "    semantic_validation=False\n",
    ")"
   ]
  },
  {
   "cell_type": "code",
   "execution_count": 5,
   "metadata": {},
   "outputs": [
    {
     "data": {
      "text/html": [
       "<pre style=\"white-space:pre;overflow-x:auto;line-height:normal;font-family:Menlo,'DejaVu Sans Mono',consolas,'Courier New',monospace\"><span style=\"font-style: italic\">                                                  Contextual Tags                                                  </span>\n",
       "┏━━━━━━━━━┳━━━━━━━━━━━━━━━━━━┳━━━━━━━━━━━━━━━━━━━━━━━━━━━━━━━━━━━━━━━━━┳━━━━━━━━━━━━━━━━━━━━━━━━━━━━━━━━━━━━━━━━━━┓\n",
       "┃<span style=\"font-weight: bold\"> Domain  </span>┃<span style=\"font-weight: bold\"> Topic            </span>┃<span style=\"font-weight: bold\"> Complexity                              </span>┃<span style=\"font-weight: bold\"> Suggested Packages                       </span>┃\n",
       "┡━━━━━━━━━╇━━━━━━━━━━━━━━━━━━╇━━━━━━━━━━━━━━━━━━━━━━━━━━━━━━━━━━━━━━━━━╇━━━━━━━━━━━━━━━━━━━━━━━━━━━━━━━━━━━━━━━━━━┩\n",
       "│ Physics │ Particle Physics │ Novice: Basic syntax, variables, and    │ scikit-learn, pandas, matplotlib, scipy, │\n",
       "│         │                  │ data types                              │ numpy, astropy                           │\n",
       "└─────────┴──────────────────┴─────────────────────────────────────────┴──────────────────────────────────────────┘\n",
       "</pre>\n"
      ],
      "text/plain": [
       "\u001b[3m                                                  Contextual Tags                                                  \u001b[0m\n",
       "┏━━━━━━━━━┳━━━━━━━━━━━━━━━━━━┳━━━━━━━━━━━━━━━━━━━━━━━━━━━━━━━━━━━━━━━━━┳━━━━━━━━━━━━━━━━━━━━━━━━━━━━━━━━━━━━━━━━━━┓\n",
       "┃\u001b[1m \u001b[0m\u001b[1mDomain \u001b[0m\u001b[1m \u001b[0m┃\u001b[1m \u001b[0m\u001b[1mTopic           \u001b[0m\u001b[1m \u001b[0m┃\u001b[1m \u001b[0m\u001b[1mComplexity                             \u001b[0m\u001b[1m \u001b[0m┃\u001b[1m \u001b[0m\u001b[1mSuggested Packages                      \u001b[0m\u001b[1m \u001b[0m┃\n",
       "┡━━━━━━━━━╇━━━━━━━━━━━━━━━━━━╇━━━━━━━━━━━━━━━━━━━━━━━━━━━━━━━━━━━━━━━━━╇━━━━━━━━━━━━━━━━━━━━━━━━━━━━━━━━━━━━━━━━━━┩\n",
       "│ Physics │ Particle Physics │ Novice: Basic syntax, variables, and    │ scikit-learn, pandas, matplotlib, scipy, │\n",
       "│         │                  │ data types                              │ numpy, astropy                           │\n",
       "└─────────┴──────────────────┴─────────────────────────────────────────┴──────────────────────────────────────────┘\n"
      ]
     },
     "metadata": {},
     "output_type": "display_data"
    },
    {
     "data": {
      "text/html": [
       "<pre style=\"white-space:pre;overflow-x:auto;line-height:normal;font-family:Menlo,'DejaVu Sans Mono',consolas,'Courier New',monospace\">╭───────────────────────────────────────── Natural Language Instruction ──────────────────────────────────────────╮\n",
       "│ Write a Python script that asks the user for the mass and charge of an electron and then calculates and         │\n",
       "│ displays its momentum using the formula momentum = mass * velocity, assuming the velocity of an electron is     │\n",
       "│ approximately 2.2 x 10^8 m/s.                                                                                   │\n",
       "╰─────────────────────────────────────────────────────────────────────────────────────────────────────────────────╯\n",
       "</pre>\n"
      ],
      "text/plain": [
       "╭───────────────────────────────────────── Natural Language Instruction ──────────────────────────────────────────╮\n",
       "│ Write a Python script that asks the user for the mass and charge of an electron and then calculates and         │\n",
       "│ displays its momentum using the formula momentum = mass * velocity, assuming the velocity of an electron is     │\n",
       "│ approximately 2.2 x 10^8 m/s.                                                                                   │\n",
       "╰─────────────────────────────────────────────────────────────────────────────────────────────────────────────────╯\n"
      ]
     },
     "metadata": {},
     "output_type": "display_data"
    },
    {
     "data": {
      "text/html": [
       "<pre style=\"white-space:pre;overflow-x:auto;line-height:normal;font-family:Menlo,'DejaVu Sans Mono',consolas,'Courier New',monospace\">╭───────────────────────────────────────────────────── Code ──────────────────────────────────────────────────────╮\n",
       "│ <span style=\"color: #ff79c6; text-decoration-color: #ff79c6; background-color: #282a36\">import</span><span style=\"color: #f8f8f2; text-decoration-color: #f8f8f2; background-color: #282a36\"> numpy </span><span style=\"color: #ff79c6; text-decoration-color: #ff79c6; background-color: #282a36\">as</span><span style=\"color: #f8f8f2; text-decoration-color: #f8f8f2; background-color: #282a36\"> np</span><span style=\"background-color: #282a36\">                                                                                             </span> │\n",
       "│ <span style=\"background-color: #282a36\">                                                                                                               </span> │\n",
       "│ <span style=\"color: #f8f8f2; text-decoration-color: #f8f8f2; background-color: #282a36\">mass </span><span style=\"color: #ff79c6; text-decoration-color: #ff79c6; background-color: #282a36\">=</span><span style=\"color: #f8f8f2; text-decoration-color: #f8f8f2; background-color: #282a36\"> </span><span style=\"color: #8be9fd; text-decoration-color: #8be9fd; background-color: #282a36; font-style: italic\">float</span><span style=\"color: #f8f8f2; text-decoration-color: #f8f8f2; background-color: #282a36\">(</span><span style=\"color: #8be9fd; text-decoration-color: #8be9fd; background-color: #282a36; font-style: italic\">input</span><span style=\"color: #f8f8f2; text-decoration-color: #f8f8f2; background-color: #282a36\">(</span><span style=\"color: #bd93f9; text-decoration-color: #bd93f9; background-color: #282a36\">\"Enter the mass of an electron in kg: \"</span><span style=\"color: #f8f8f2; text-decoration-color: #f8f8f2; background-color: #282a36\">))</span><span style=\"background-color: #282a36\">                                                   </span> │\n",
       "│ <span style=\"color: #f8f8f2; text-decoration-color: #f8f8f2; background-color: #282a36\">charge </span><span style=\"color: #ff79c6; text-decoration-color: #ff79c6; background-color: #282a36\">=</span><span style=\"color: #f8f8f2; text-decoration-color: #f8f8f2; background-color: #282a36\"> </span><span style=\"color: #8be9fd; text-decoration-color: #8be9fd; background-color: #282a36; font-style: italic\">float</span><span style=\"color: #f8f8f2; text-decoration-color: #f8f8f2; background-color: #282a36\">(</span><span style=\"color: #8be9fd; text-decoration-color: #8be9fd; background-color: #282a36; font-style: italic\">input</span><span style=\"color: #f8f8f2; text-decoration-color: #f8f8f2; background-color: #282a36\">(</span><span style=\"color: #bd93f9; text-decoration-color: #bd93f9; background-color: #282a36\">\"Enter the charge of an electron in C: \"</span><span style=\"color: #f8f8f2; text-decoration-color: #f8f8f2; background-color: #282a36\">))</span><span style=\"background-color: #282a36\">                                                </span> │\n",
       "│ <span style=\"color: #f8f8f2; text-decoration-color: #f8f8f2; background-color: #282a36\">velocity </span><span style=\"color: #ff79c6; text-decoration-color: #ff79c6; background-color: #282a36\">=</span><span style=\"color: #f8f8f2; text-decoration-color: #f8f8f2; background-color: #282a36\"> </span><span style=\"color: #ffb86c; text-decoration-color: #ffb86c; background-color: #282a36\">2.2e8</span><span style=\"color: #f8f8f2; text-decoration-color: #f8f8f2; background-color: #282a36\">  </span><span style=\"color: #6272a4; text-decoration-color: #6272a4; background-color: #282a36\"># m/s</span><span style=\"background-color: #282a36\">                                                                                        </span> │\n",
       "│ <span style=\"background-color: #282a36\">                                                                                                               </span> │\n",
       "│ <span style=\"color: #f8f8f2; text-decoration-color: #f8f8f2; background-color: #282a36\">momentum </span><span style=\"color: #ff79c6; text-decoration-color: #ff79c6; background-color: #282a36\">=</span><span style=\"color: #f8f8f2; text-decoration-color: #f8f8f2; background-color: #282a36\"> mass </span><span style=\"color: #ff79c6; text-decoration-color: #ff79c6; background-color: #282a36\">*</span><span style=\"color: #f8f8f2; text-decoration-color: #f8f8f2; background-color: #282a36\"> velocity</span><span style=\"background-color: #282a36\">                                                                                     </span> │\n",
       "│ <span style=\"color: #8be9fd; text-decoration-color: #8be9fd; background-color: #282a36; font-style: italic\">print</span><span style=\"color: #f8f8f2; text-decoration-color: #f8f8f2; background-color: #282a36\">(</span><span style=\"color: #bd93f9; text-decoration-color: #bd93f9; background-color: #282a36\">f\"The momentum of an electron is {</span><span style=\"color: #f8f8f2; text-decoration-color: #f8f8f2; background-color: #282a36\">momentum</span><span style=\"color: #bd93f9; text-decoration-color: #bd93f9; background-color: #282a36\">} kg m/s\"</span><span style=\"color: #f8f8f2; text-decoration-color: #f8f8f2; background-color: #282a36\">)</span><span style=\"background-color: #282a36\">                                                     </span> │\n",
       "╰─────────────────────────────────────────────────────────────────────────────────────────────────────────────────╯\n",
       "</pre>\n"
      ],
      "text/plain": [
       "╭───────────────────────────────────────────────────── Code ──────────────────────────────────────────────────────╮\n",
       "│ \u001b[38;2;255;121;198;48;2;40;42;54mimport\u001b[0m\u001b[38;2;248;248;242;48;2;40;42;54m \u001b[0m\u001b[38;2;248;248;242;48;2;40;42;54mnumpy\u001b[0m\u001b[38;2;248;248;242;48;2;40;42;54m \u001b[0m\u001b[38;2;255;121;198;48;2;40;42;54mas\u001b[0m\u001b[38;2;248;248;242;48;2;40;42;54m \u001b[0m\u001b[38;2;248;248;242;48;2;40;42;54mnp\u001b[0m\u001b[48;2;40;42;54m                                                                                             \u001b[0m │\n",
       "│ \u001b[48;2;40;42;54m                                                                                                               \u001b[0m │\n",
       "│ \u001b[38;2;248;248;242;48;2;40;42;54mmass\u001b[0m\u001b[38;2;248;248;242;48;2;40;42;54m \u001b[0m\u001b[38;2;255;121;198;48;2;40;42;54m=\u001b[0m\u001b[38;2;248;248;242;48;2;40;42;54m \u001b[0m\u001b[3;38;2;139;233;253;48;2;40;42;54mfloat\u001b[0m\u001b[38;2;248;248;242;48;2;40;42;54m(\u001b[0m\u001b[3;38;2;139;233;253;48;2;40;42;54minput\u001b[0m\u001b[38;2;248;248;242;48;2;40;42;54m(\u001b[0m\u001b[38;2;189;147;249;48;2;40;42;54m\"\u001b[0m\u001b[38;2;189;147;249;48;2;40;42;54mEnter the mass of an electron in kg: \u001b[0m\u001b[38;2;189;147;249;48;2;40;42;54m\"\u001b[0m\u001b[38;2;248;248;242;48;2;40;42;54m)\u001b[0m\u001b[38;2;248;248;242;48;2;40;42;54m)\u001b[0m\u001b[48;2;40;42;54m                                                   \u001b[0m │\n",
       "│ \u001b[38;2;248;248;242;48;2;40;42;54mcharge\u001b[0m\u001b[38;2;248;248;242;48;2;40;42;54m \u001b[0m\u001b[38;2;255;121;198;48;2;40;42;54m=\u001b[0m\u001b[38;2;248;248;242;48;2;40;42;54m \u001b[0m\u001b[3;38;2;139;233;253;48;2;40;42;54mfloat\u001b[0m\u001b[38;2;248;248;242;48;2;40;42;54m(\u001b[0m\u001b[3;38;2;139;233;253;48;2;40;42;54minput\u001b[0m\u001b[38;2;248;248;242;48;2;40;42;54m(\u001b[0m\u001b[38;2;189;147;249;48;2;40;42;54m\"\u001b[0m\u001b[38;2;189;147;249;48;2;40;42;54mEnter the charge of an electron in C: \u001b[0m\u001b[38;2;189;147;249;48;2;40;42;54m\"\u001b[0m\u001b[38;2;248;248;242;48;2;40;42;54m)\u001b[0m\u001b[38;2;248;248;242;48;2;40;42;54m)\u001b[0m\u001b[48;2;40;42;54m                                                \u001b[0m │\n",
       "│ \u001b[38;2;248;248;242;48;2;40;42;54mvelocity\u001b[0m\u001b[38;2;248;248;242;48;2;40;42;54m \u001b[0m\u001b[38;2;255;121;198;48;2;40;42;54m=\u001b[0m\u001b[38;2;248;248;242;48;2;40;42;54m \u001b[0m\u001b[38;2;255;184;108;48;2;40;42;54m2.2e8\u001b[0m\u001b[38;2;248;248;242;48;2;40;42;54m  \u001b[0m\u001b[38;2;98;114;164;48;2;40;42;54m# m/s\u001b[0m\u001b[48;2;40;42;54m                                                                                        \u001b[0m │\n",
       "│ \u001b[48;2;40;42;54m                                                                                                               \u001b[0m │\n",
       "│ \u001b[38;2;248;248;242;48;2;40;42;54mmomentum\u001b[0m\u001b[38;2;248;248;242;48;2;40;42;54m \u001b[0m\u001b[38;2;255;121;198;48;2;40;42;54m=\u001b[0m\u001b[38;2;248;248;242;48;2;40;42;54m \u001b[0m\u001b[38;2;248;248;242;48;2;40;42;54mmass\u001b[0m\u001b[38;2;248;248;242;48;2;40;42;54m \u001b[0m\u001b[38;2;255;121;198;48;2;40;42;54m*\u001b[0m\u001b[38;2;248;248;242;48;2;40;42;54m \u001b[0m\u001b[38;2;248;248;242;48;2;40;42;54mvelocity\u001b[0m\u001b[48;2;40;42;54m                                                                                     \u001b[0m │\n",
       "│ \u001b[3;38;2;139;233;253;48;2;40;42;54mprint\u001b[0m\u001b[38;2;248;248;242;48;2;40;42;54m(\u001b[0m\u001b[38;2;189;147;249;48;2;40;42;54mf\u001b[0m\u001b[38;2;189;147;249;48;2;40;42;54m\"\u001b[0m\u001b[38;2;189;147;249;48;2;40;42;54mThe momentum of an electron is \u001b[0m\u001b[38;2;189;147;249;48;2;40;42;54m{\u001b[0m\u001b[38;2;248;248;242;48;2;40;42;54mmomentum\u001b[0m\u001b[38;2;189;147;249;48;2;40;42;54m}\u001b[0m\u001b[38;2;189;147;249;48;2;40;42;54m kg m/s\u001b[0m\u001b[38;2;189;147;249;48;2;40;42;54m\"\u001b[0m\u001b[38;2;248;248;242;48;2;40;42;54m)\u001b[0m\u001b[48;2;40;42;54m                                                     \u001b[0m │\n",
       "╰─────────────────────────────────────────────────────────────────────────────────────────────────────────────────╯\n"
      ]
     },
     "metadata": {},
     "output_type": "display_data"
    }
   ],
   "source": [
    "display_nl2code_sample(record)"
   ]
  },
  {
   "cell_type": "code",
   "execution_count": 6,
   "metadata": {},
   "outputs": [
    {
     "name": "stdout",
     "output_type": "stream",
     "text": [
      "2024-09-24 10:55:22.103 - INFO - 🏷️ Generating domains\n",
      "2024-09-24 10:55:23.209 - INFO - 🏷️ Generating topics for each domain\n",
      "2024-09-24 10:55:26.994 - INFO - 🏷️ Generating levels of Python complexity\n"
     ]
    }
   ],
   "source": [
    "tags = tasks.generate_contextual_tags(\n",
    "    num_domains=3,\n",
    "    num_topics_per_domain=5,\n",
    "    num_complexity_levels=4,\n",
    ")"
   ]
  },
  {
   "cell_type": "code",
   "execution_count": 7,
   "metadata": {},
   "outputs": [
    {
     "data": {
      "text/plain": [
       "ContextualTags({\n",
       "    \"domain_and_topics\": {\n",
       "        \"Data Science Research Institutes\": [\n",
       "            \"Machine Learning Algorithms\",\n",
       "            \"Data Mining Techniques\",\n",
       "            \"Predictive Analytics Tools\",\n",
       "            \"Data Visualization Software\",\n",
       "            \"Statistical Modeling Methods\"\n",
       "        ],\n",
       "        \"Financial Services Firms\": [\n",
       "            \"Accounting and Bookkeeping\",\n",
       "            \"Risk Management Systems\",\n",
       "            \"Portfolio Management Tools\",\n",
       "            \"Investment Portfolio Analysis\",\n",
       "            \"Financial Reporting Software\"\n",
       "        ],\n",
       "        \"Automotive Technology Companies\": [\n",
       "            \"Automotive Software Development\",\n",
       "            \"Vehicle Operating Systems\",\n",
       "            \"Autonomous Vehicle Technology\",\n",
       "            \"Electric Vehicle Charging Systems\",\n",
       "            \"Connected Car Platforms\"\n",
       "        ]\n",
       "    },\n",
       "    \"complexity_levels\": [\n",
       "        \"Beginner: Basic syntax and data types\",\n",
       "        \"Intermediate: Functions and control structures\",\n",
       "        \"Advanced: Object-oriented programming and error handling\",\n",
       "        \"Expert: Concurrency and optimization\"\n",
       "    ]\n",
       "})"
      ]
     },
     "execution_count": 7,
     "metadata": {},
     "output_type": "execute_result"
    }
   ],
   "source": [
    "tags"
   ]
  },
  {
   "cell_type": "code",
   "execution_count": 8,
   "metadata": {},
   "outputs": [
    {
     "data": {
      "text/plain": [
       "PromptTemplateSuite(\n",
       "    domains: ('num_domains',)\n",
       "    topics_from_domains: ('num_topics', 'domain')\n",
       "    complexity: ('num_levels',)\n",
       "    python_natural_language: ('nl_type_description', 'nl_type', 'complexity', 'nl_type', 'domain', 'topic')\n",
       "    python_code_generation: ('python_natural_language', 'complexity', 'domain', 'topic', 'suggested_packages')\n",
       "    python_suggested_packages: ('domain', 'max_dependencies', 'domain')\n",
       ")"
      ]
     },
     "execution_count": 8,
     "metadata": {},
     "output_type": "execute_result"
    }
   ],
   "source": [
    "prompt_templates = load_prompt_template_suite(\"python\")\n",
    "\n",
    "prompt_templates"
   ]
  },
  {
   "cell_type": "code",
   "execution_count": 9,
   "metadata": {},
   "outputs": [
    {
     "name": "stdout",
     "output_type": "stream",
     "text": [
      "Create a list of 3 unique industries where you expect to find software engineers who code in Python. \n",
      "\n",
      "### Instructions:\n",
      "    * Do not use abbreviations.\n",
      "    * Keep each industry name to 1-5 words, preferring concise names.\n",
      "    * List the industries in a valid JSON array.\n",
      "\n"
     ]
    }
   ],
   "source": [
    "print(prompt_templates.domains(num_domains=3))"
   ]
  }
 ],
 "metadata": {
  "kernelspec": {
   "display_name": "monogretel-dev",
   "language": "python",
   "name": "python3"
  },
  "language_info": {
   "codemirror_mode": {
    "name": "ipython",
    "version": 3
   },
   "file_extension": ".py",
   "mimetype": "text/x-python",
   "name": "python",
   "nbconvert_exporter": "python",
   "pygments_lexer": "ipython3",
   "version": "3.9.16"
  }
 },
 "nbformat": 4,
 "nbformat_minor": 2
}
