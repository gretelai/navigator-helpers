{
 "cells": [
  {
   "cell_type": "code",
   "execution_count": 1,
   "metadata": {},
   "outputs": [],
   "source": [
    "from navigator_helpers import NL2CodeTaskSuite\n",
    "from navigator_helpers.tasks.text_to_code.utils import display_nl2code_sample"
   ]
  },
  {
   "cell_type": "code",
   "execution_count": 2,
   "metadata": {},
   "outputs": [
    {
     "name": "stdout",
     "output_type": "stream",
     "text": [
      "2024-09-04 11:22:54.154 - INFO - 🦜 Initializing LLM suite\n",
      "2024-09-04 11:22:54.155 - INFO - 📖 Natural language LLM: gretelai/gpt-mixtral-8x-22b\n",
      "2024-09-04 11:22:54.451 - INFO - 💻 Code LLM: gretelai/gpt-codestral-mamba\n",
      "2024-09-04 11:22:54.742 - INFO - ⚖️ Judge LLM: gretelai/gpt-groq-llama-3-1-8b\n"
     ]
    }
   ],
   "source": [
    "tasks = NL2CodeTaskSuite()"
   ]
  },
  {
   "cell_type": "code",
   "execution_count": 3,
   "metadata": {},
   "outputs": [],
   "source": [
    "record = tasks.create_record(\n",
    "    domain=\"Physics\", \n",
    "    topic=\"Particle Physics\", \n",
    "    complexity=\"Novice: Basic syntax, variables, and data types\", \n",
    "    llm_as_a_judge=False, \n",
    "    syntax_validation=False\n",
    ")"
   ]
  },
  {
   "cell_type": "code",
   "execution_count": 4,
   "metadata": {},
   "outputs": [
    {
     "data": {
      "text/html": [
       "<pre style=\"white-space:pre;overflow-x:auto;line-height:normal;font-family:Menlo,'DejaVu Sans Mono',consolas,'Courier New',monospace\"><span style=\"font-style: italic\">                                                  Contextual Tags                                                  </span>\n",
       "┏━━━━━━━━━┳━━━━━━━━━━━━━━━━━━┳━━━━━━━━━━━━━━━━━━━━━━━━━━━━━━━━━━━━━━━━━━┳━━━━━━━━━━━━━━━━━━━━━━━━━━━━━━━━━━━━━━━━━┓\n",
       "┃<span style=\"font-weight: bold\"> Domain  </span>┃<span style=\"font-weight: bold\"> Topic            </span>┃<span style=\"font-weight: bold\"> Complexity                               </span>┃<span style=\"font-weight: bold\"> Suggested Packages                      </span>┃\n",
       "┡━━━━━━━━━╇━━━━━━━━━━━━━━━━━━╇━━━━━━━━━━━━━━━━━━━━━━━━━━━━━━━━━━━━━━━━━━╇━━━━━━━━━━━━━━━━━━━━━━━━━━━━━━━━━━━━━━━━━┩\n",
       "│ Physics │ Particle Physics │ Novice: Basic syntax, variables, and     │ matplotlib, scipy, numpy, sympy, pandas │\n",
       "│         │                  │ data types                               │                                         │\n",
       "└─────────┴──────────────────┴──────────────────────────────────────────┴─────────────────────────────────────────┘\n",
       "</pre>\n"
      ],
      "text/plain": [
       "\u001b[3m                                                  Contextual Tags                                                  \u001b[0m\n",
       "┏━━━━━━━━━┳━━━━━━━━━━━━━━━━━━┳━━━━━━━━━━━━━━━━━━━━━━━━━━━━━━━━━━━━━━━━━━┳━━━━━━━━━━━━━━━━━━━━━━━━━━━━━━━━━━━━━━━━━┓\n",
       "┃\u001b[1m \u001b[0m\u001b[1mDomain \u001b[0m\u001b[1m \u001b[0m┃\u001b[1m \u001b[0m\u001b[1mTopic           \u001b[0m\u001b[1m \u001b[0m┃\u001b[1m \u001b[0m\u001b[1mComplexity                              \u001b[0m\u001b[1m \u001b[0m┃\u001b[1m \u001b[0m\u001b[1mSuggested Packages                     \u001b[0m\u001b[1m \u001b[0m┃\n",
       "┡━━━━━━━━━╇━━━━━━━━━━━━━━━━━━╇━━━━━━━━━━━━━━━━━━━━━━━━━━━━━━━━━━━━━━━━━━╇━━━━━━━━━━━━━━━━━━━━━━━━━━━━━━━━━━━━━━━━━┩\n",
       "│ Physics │ Particle Physics │ Novice: Basic syntax, variables, and     │ matplotlib, scipy, numpy, sympy, pandas │\n",
       "│         │                  │ data types                               │                                         │\n",
       "└─────────┴──────────────────┴──────────────────────────────────────────┴─────────────────────────────────────────┘\n"
      ]
     },
     "metadata": {},
     "output_type": "display_data"
    },
    {
     "data": {
      "text/html": [
       "<pre style=\"white-space:pre;overflow-x:auto;line-height:normal;font-family:Menlo,'DejaVu Sans Mono',consolas,'Courier New',monospace\">╭──────────────────────────────────────────── Natural Language Prompt ────────────────────────────────────────────╮\n",
       "│ Calculate the kinetic energy of a particle given its mass (in kg) and velocity (in m/s) using the formula KE =  │\n",
       "│ 0.5 * m * v^2. Assume the particle is moving at a constant velocity.                                            │\n",
       "╰─────────────────────────────────────────────────────────────────────────────────────────────────────────────────╯\n",
       "</pre>\n"
      ],
      "text/plain": [
       "╭──────────────────────────────────────────── Natural Language Prompt ────────────────────────────────────────────╮\n",
       "│ Calculate the kinetic energy of a particle given its mass (in kg) and velocity (in m/s) using the formula KE =  │\n",
       "│ 0.5 * m * v^2. Assume the particle is moving at a constant velocity.                                            │\n",
       "╰─────────────────────────────────────────────────────────────────────────────────────────────────────────────────╯\n"
      ]
     },
     "metadata": {},
     "output_type": "display_data"
    },
    {
     "data": {
      "text/html": [
       "<pre style=\"white-space:pre;overflow-x:auto;line-height:normal;font-family:Menlo,'DejaVu Sans Mono',consolas,'Courier New',monospace\">╭───────────────────────────────────────────────────── Code ──────────────────────────────────────────────────────╮\n",
       "│ <span style=\"color: #ff79c6; text-decoration-color: #ff79c6; background-color: #282a36\">import</span><span style=\"color: #f8f8f2; text-decoration-color: #f8f8f2; background-color: #282a36\"> numpy </span><span style=\"color: #ff79c6; text-decoration-color: #ff79c6; background-color: #282a36\">as</span><span style=\"color: #f8f8f2; text-decoration-color: #f8f8f2; background-color: #282a36\"> np</span><span style=\"background-color: #282a36\">                                                                                             </span> │\n",
       "│ <span style=\"background-color: #282a36\">                                                                                                               </span> │\n",
       "│ <span style=\"color: #ff79c6; text-decoration-color: #ff79c6; background-color: #282a36\">def</span><span style=\"color: #f8f8f2; text-decoration-color: #f8f8f2; background-color: #282a36\"> </span><span style=\"color: #50fa7b; text-decoration-color: #50fa7b; background-color: #282a36\">kinetic_energy</span><span style=\"color: #f8f8f2; text-decoration-color: #f8f8f2; background-color: #282a36\">(mass, velocity):</span><span style=\"background-color: #282a36\">                                                                            </span> │\n",
       "│ <span style=\"color: #f8f8f2; text-decoration-color: #f8f8f2; background-color: #282a36\">    </span><span style=\"color: #ff79c6; text-decoration-color: #ff79c6; background-color: #282a36\">return</span><span style=\"color: #f8f8f2; text-decoration-color: #f8f8f2; background-color: #282a36\"> </span><span style=\"color: #ffb86c; text-decoration-color: #ffb86c; background-color: #282a36\">0.5</span><span style=\"color: #f8f8f2; text-decoration-color: #f8f8f2; background-color: #282a36\"> </span><span style=\"color: #ff79c6; text-decoration-color: #ff79c6; background-color: #282a36\">*</span><span style=\"color: #f8f8f2; text-decoration-color: #f8f8f2; background-color: #282a36\"> mass </span><span style=\"color: #ff79c6; text-decoration-color: #ff79c6; background-color: #282a36\">*</span><span style=\"color: #f8f8f2; text-decoration-color: #f8f8f2; background-color: #282a36\"> np</span><span style=\"color: #ff79c6; text-decoration-color: #ff79c6; background-color: #282a36\">.</span><span style=\"color: #f8f8f2; text-decoration-color: #f8f8f2; background-color: #282a36\">square(velocity)</span><span style=\"background-color: #282a36\">                                                                    </span> │\n",
       "│ <span style=\"background-color: #282a36\">                                                                                                               </span> │\n",
       "│ <span style=\"color: #f8f8f2; text-decoration-color: #f8f8f2; background-color: #282a36\">mass </span><span style=\"color: #ff79c6; text-decoration-color: #ff79c6; background-color: #282a36\">=</span><span style=\"color: #f8f8f2; text-decoration-color: #f8f8f2; background-color: #282a36\"> </span><span style=\"color: #ffb86c; text-decoration-color: #ffb86c; background-color: #282a36\">5.0</span><span style=\"color: #f8f8f2; text-decoration-color: #f8f8f2; background-color: #282a36\">  </span><span style=\"color: #6272a4; text-decoration-color: #6272a4; background-color: #282a36\"># kg</span><span style=\"background-color: #282a36\">                                                                                               </span> │\n",
       "│ <span style=\"color: #f8f8f2; text-decoration-color: #f8f8f2; background-color: #282a36\">velocity </span><span style=\"color: #ff79c6; text-decoration-color: #ff79c6; background-color: #282a36\">=</span><span style=\"color: #f8f8f2; text-decoration-color: #f8f8f2; background-color: #282a36\"> </span><span style=\"color: #ffb86c; text-decoration-color: #ffb86c; background-color: #282a36\">10.0</span><span style=\"color: #f8f8f2; text-decoration-color: #f8f8f2; background-color: #282a36\">  </span><span style=\"color: #6272a4; text-decoration-color: #6272a4; background-color: #282a36\"># m/s</span><span style=\"background-color: #282a36\">                                                                                         </span> │\n",
       "│ <span style=\"background-color: #282a36\">                                                                                                               </span> │\n",
       "│ <span style=\"color: #f8f8f2; text-decoration-color: #f8f8f2; background-color: #282a36\">kinetic_energy(mass, velocity)</span><span style=\"background-color: #282a36\">                                                                                 </span> │\n",
       "╰─────────────────────────────────────────────────────────────────────────────────────────────────────────────────╯\n",
       "</pre>\n"
      ],
      "text/plain": [
       "╭───────────────────────────────────────────────────── Code ──────────────────────────────────────────────────────╮\n",
       "│ \u001b[38;2;255;121;198;48;2;40;42;54mimport\u001b[0m\u001b[38;2;248;248;242;48;2;40;42;54m \u001b[0m\u001b[38;2;248;248;242;48;2;40;42;54mnumpy\u001b[0m\u001b[38;2;248;248;242;48;2;40;42;54m \u001b[0m\u001b[38;2;255;121;198;48;2;40;42;54mas\u001b[0m\u001b[38;2;248;248;242;48;2;40;42;54m \u001b[0m\u001b[38;2;248;248;242;48;2;40;42;54mnp\u001b[0m\u001b[48;2;40;42;54m                                                                                             \u001b[0m │\n",
       "│ \u001b[48;2;40;42;54m                                                                                                               \u001b[0m │\n",
       "│ \u001b[38;2;255;121;198;48;2;40;42;54mdef\u001b[0m\u001b[38;2;248;248;242;48;2;40;42;54m \u001b[0m\u001b[38;2;80;250;123;48;2;40;42;54mkinetic_energy\u001b[0m\u001b[38;2;248;248;242;48;2;40;42;54m(\u001b[0m\u001b[38;2;248;248;242;48;2;40;42;54mmass\u001b[0m\u001b[38;2;248;248;242;48;2;40;42;54m,\u001b[0m\u001b[38;2;248;248;242;48;2;40;42;54m \u001b[0m\u001b[38;2;248;248;242;48;2;40;42;54mvelocity\u001b[0m\u001b[38;2;248;248;242;48;2;40;42;54m)\u001b[0m\u001b[38;2;248;248;242;48;2;40;42;54m:\u001b[0m\u001b[48;2;40;42;54m                                                                            \u001b[0m │\n",
       "│ \u001b[38;2;248;248;242;48;2;40;42;54m    \u001b[0m\u001b[38;2;255;121;198;48;2;40;42;54mreturn\u001b[0m\u001b[38;2;248;248;242;48;2;40;42;54m \u001b[0m\u001b[38;2;255;184;108;48;2;40;42;54m0.5\u001b[0m\u001b[38;2;248;248;242;48;2;40;42;54m \u001b[0m\u001b[38;2;255;121;198;48;2;40;42;54m*\u001b[0m\u001b[38;2;248;248;242;48;2;40;42;54m \u001b[0m\u001b[38;2;248;248;242;48;2;40;42;54mmass\u001b[0m\u001b[38;2;248;248;242;48;2;40;42;54m \u001b[0m\u001b[38;2;255;121;198;48;2;40;42;54m*\u001b[0m\u001b[38;2;248;248;242;48;2;40;42;54m \u001b[0m\u001b[38;2;248;248;242;48;2;40;42;54mnp\u001b[0m\u001b[38;2;255;121;198;48;2;40;42;54m.\u001b[0m\u001b[38;2;248;248;242;48;2;40;42;54msquare\u001b[0m\u001b[38;2;248;248;242;48;2;40;42;54m(\u001b[0m\u001b[38;2;248;248;242;48;2;40;42;54mvelocity\u001b[0m\u001b[38;2;248;248;242;48;2;40;42;54m)\u001b[0m\u001b[48;2;40;42;54m                                                                    \u001b[0m │\n",
       "│ \u001b[48;2;40;42;54m                                                                                                               \u001b[0m │\n",
       "│ \u001b[38;2;248;248;242;48;2;40;42;54mmass\u001b[0m\u001b[38;2;248;248;242;48;2;40;42;54m \u001b[0m\u001b[38;2;255;121;198;48;2;40;42;54m=\u001b[0m\u001b[38;2;248;248;242;48;2;40;42;54m \u001b[0m\u001b[38;2;255;184;108;48;2;40;42;54m5.0\u001b[0m\u001b[38;2;248;248;242;48;2;40;42;54m  \u001b[0m\u001b[38;2;98;114;164;48;2;40;42;54m# kg\u001b[0m\u001b[48;2;40;42;54m                                                                                               \u001b[0m │\n",
       "│ \u001b[38;2;248;248;242;48;2;40;42;54mvelocity\u001b[0m\u001b[38;2;248;248;242;48;2;40;42;54m \u001b[0m\u001b[38;2;255;121;198;48;2;40;42;54m=\u001b[0m\u001b[38;2;248;248;242;48;2;40;42;54m \u001b[0m\u001b[38;2;255;184;108;48;2;40;42;54m10.0\u001b[0m\u001b[38;2;248;248;242;48;2;40;42;54m  \u001b[0m\u001b[38;2;98;114;164;48;2;40;42;54m# m/s\u001b[0m\u001b[48;2;40;42;54m                                                                                         \u001b[0m │\n",
       "│ \u001b[48;2;40;42;54m                                                                                                               \u001b[0m │\n",
       "│ \u001b[38;2;248;248;242;48;2;40;42;54mkinetic_energy\u001b[0m\u001b[38;2;248;248;242;48;2;40;42;54m(\u001b[0m\u001b[38;2;248;248;242;48;2;40;42;54mmass\u001b[0m\u001b[38;2;248;248;242;48;2;40;42;54m,\u001b[0m\u001b[38;2;248;248;242;48;2;40;42;54m \u001b[0m\u001b[38;2;248;248;242;48;2;40;42;54mvelocity\u001b[0m\u001b[38;2;248;248;242;48;2;40;42;54m)\u001b[0m\u001b[48;2;40;42;54m                                                                                 \u001b[0m │\n",
       "╰─────────────────────────────────────────────────────────────────────────────────────────────────────────────────╯\n"
      ]
     },
     "metadata": {},
     "output_type": "display_data"
    }
   ],
   "source": [
    "display_nl2code_sample(record)"
   ]
  },
  {
   "cell_type": "code",
   "execution_count": 5,
   "metadata": {},
   "outputs": [
    {
     "name": "stdout",
     "output_type": "stream",
     "text": [
      "2024-09-04 11:22:59.908 - INFO - 🏷️ Generating domains\n",
      "2024-09-04 11:23:01.436 - INFO - 🏷️ Generating topics for each domain\n",
      "2024-09-04 11:23:06.736 - INFO - 🏷️ Generating levels of Python complexity\n"
     ]
    }
   ],
   "source": [
    "tags = tasks.generate_contextual_tags(\n",
    "    num_domains=3,\n",
    "    num_topics_per_domain=5,\n",
    "    num_complexity_levels=4,\n",
    ")"
   ]
  },
  {
   "cell_type": "code",
   "execution_count": 6,
   "metadata": {},
   "outputs": [
    {
     "data": {
      "text/plain": [
       "ContextualTags({\n",
       "    \"domain_and_topics\": {\n",
       "        \"Financial Technology\": [\n",
       "            \"Payment Processing\",\n",
       "            \"Risk Management\",\n",
       "            \"Investment Analytics\",\n",
       "            \"Fraud Detection\",\n",
       "            \"Blockchain Technology\"\n",
       "        ],\n",
       "        \"Artificial Intelligence Research\": [\n",
       "            \"Machine Learning Algorithms\",\n",
       "            \"Natural Language Processing\",\n",
       "            \"Computer Vision\",\n",
       "            \"Neural Network Architectures\",\n",
       "            \"Reinforcement Learning\"\n",
       "        ],\n",
       "        \"Web Development\": [\n",
       "            \"Frontend Frameworks\",\n",
       "            \"Backend Languages\",\n",
       "            \"Web Security\",\n",
       "            \"Responsive Design\",\n",
       "            \"Web APIs\"\n",
       "        ]\n",
       "    },\n",
       "    \"complexity_levels\": [\n",
       "        \"Beginner: Basic syntax, data types, and variables\",\n",
       "        \"Intermediate: Control structures, functions, and modules\",\n",
       "        \"Advanced: Object-oriented programming and exception handling\",\n",
       "        \"Expert: Concurrency, metaprogramming, and performance optimization\"\n",
       "    ]\n",
       "})"
      ]
     },
     "execution_count": 6,
     "metadata": {},
     "output_type": "execute_result"
    }
   ],
   "source": [
    "tags"
   ]
  }
 ],
 "metadata": {
  "kernelspec": {
   "display_name": "monogretel-dev",
   "language": "python",
   "name": "python3"
  },
  "language_info": {
   "codemirror_mode": {
    "name": "ipython",
    "version": 3
   },
   "file_extension": ".py",
   "mimetype": "text/x-python",
   "name": "python",
   "nbconvert_exporter": "python",
   "pygments_lexer": "ipython3",
   "version": "3.9.16"
  }
 },
 "nbformat": 4,
 "nbformat_minor": 2
}
