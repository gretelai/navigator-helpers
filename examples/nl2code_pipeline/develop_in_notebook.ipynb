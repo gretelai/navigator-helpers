{
 "cells": [
  {
   "cell_type": "code",
   "execution_count": 1,
   "metadata": {},
   "outputs": [],
   "source": [
    "from navigator_helpers import NL2CodeTaskSuite\n",
    "from navigator_helpers.tasks.text_to_code.utils import display_nl2code_sample\n",
    "from navigator_helpers.tasks.prompt_templates.template_suite import load_prompt_template_suite"
   ]
  },
  {
   "cell_type": "code",
   "execution_count": 2,
   "metadata": {},
   "outputs": [
    {
     "name": "stdout",
     "output_type": "stream",
     "text": [
      "2024-09-04 11:39:45.762 - INFO - 🦜 Initializing LLM suite\n",
      "2024-09-04 11:39:45.763 - INFO - 📖 Natural language LLM: gretelai/gpt-mixtral-8x-22b\n",
      "2024-09-04 11:39:46.032 - INFO - 💻 Code LLM: gretelai/gpt-codestral-mamba\n",
      "2024-09-04 11:39:46.300 - INFO - ⚖️ Judge LLM: gretelai/gpt-groq-llama-3-1-8b\n"
     ]
    }
   ],
   "source": [
    "tasks = NL2CodeTaskSuite()"
   ]
  },
  {
   "cell_type": "code",
   "execution_count": 3,
   "metadata": {},
   "outputs": [],
   "source": [
    "record = tasks.create_record(\n",
    "    domain=\"Physics\", \n",
    "    topic=\"Particle Physics\", \n",
    "    complexity=\"Novice: Basic syntax, variables, and data types\", \n",
    "    llm_as_a_judge=False, \n",
    "    syntax_validation=False\n",
    ")"
   ]
  },
  {
   "cell_type": "code",
   "execution_count": 4,
   "metadata": {},
   "outputs": [
    {
     "data": {
      "text/html": [
       "<pre style=\"white-space:pre;overflow-x:auto;line-height:normal;font-family:Menlo,'DejaVu Sans Mono',consolas,'Courier New',monospace\"><span style=\"font-style: italic\">                                                  Contextual Tags                                                  </span>\n",
       "┏━━━━━━━━━┳━━━━━━━━━━━━━━━━━━┳━━━━━━━━━━━━━━━━━━━━━━━━━━━━━━━━━━━━━━━━━┳━━━━━━━━━━━━━━━━━━━━━━━━━━━━━━━━━━━━━━━━━━┓\n",
       "┃<span style=\"font-weight: bold\"> Domain  </span>┃<span style=\"font-weight: bold\"> Topic            </span>┃<span style=\"font-weight: bold\"> Complexity                              </span>┃<span style=\"font-weight: bold\"> Suggested Packages                       </span>┃\n",
       "┡━━━━━━━━━╇━━━━━━━━━━━━━━━━━━╇━━━━━━━━━━━━━━━━━━━━━━━━━━━━━━━━━━━━━━━━━╇━━━━━━━━━━━━━━━━━━━━━━━━━━━━━━━━━━━━━━━━━━┩\n",
       "│ Physics │ Particle Physics │ Novice: Basic syntax, variables, and    │ sklearn, pandas, numpy, scipy, seaborn,  │\n",
       "│         │                  │ data types                              │ sympy, matplotlib                        │\n",
       "└─────────┴──────────────────┴─────────────────────────────────────────┴──────────────────────────────────────────┘\n",
       "</pre>\n"
      ],
      "text/plain": [
       "\u001b[3m                                                  Contextual Tags                                                  \u001b[0m\n",
       "┏━━━━━━━━━┳━━━━━━━━━━━━━━━━━━┳━━━━━━━━━━━━━━━━━━━━━━━━━━━━━━━━━━━━━━━━━┳━━━━━━━━━━━━━━━━━━━━━━━━━━━━━━━━━━━━━━━━━━┓\n",
       "┃\u001b[1m \u001b[0m\u001b[1mDomain \u001b[0m\u001b[1m \u001b[0m┃\u001b[1m \u001b[0m\u001b[1mTopic           \u001b[0m\u001b[1m \u001b[0m┃\u001b[1m \u001b[0m\u001b[1mComplexity                             \u001b[0m\u001b[1m \u001b[0m┃\u001b[1m \u001b[0m\u001b[1mSuggested Packages                      \u001b[0m\u001b[1m \u001b[0m┃\n",
       "┡━━━━━━━━━╇━━━━━━━━━━━━━━━━━━╇━━━━━━━━━━━━━━━━━━━━━━━━━━━━━━━━━━━━━━━━━╇━━━━━━━━━━━━━━━━━━━━━━━━━━━━━━━━━━━━━━━━━━┩\n",
       "│ Physics │ Particle Physics │ Novice: Basic syntax, variables, and    │ sklearn, pandas, numpy, scipy, seaborn,  │\n",
       "│         │                  │ data types                              │ sympy, matplotlib                        │\n",
       "└─────────┴──────────────────┴─────────────────────────────────────────┴──────────────────────────────────────────┘\n"
      ]
     },
     "metadata": {},
     "output_type": "display_data"
    },
    {
     "data": {
      "text/html": [
       "<pre style=\"white-space:pre;overflow-x:auto;line-height:normal;font-family:Menlo,'DejaVu Sans Mono',consolas,'Courier New',monospace\">╭───────────────────────────────────────── Natural Language Description ──────────────────────────────────────────╮\n",
       "│ This Python program simulates the behavior of subatomic particles in a simplified particle accelerator. The     │\n",
       "│ user can input the initial positions, velocities, and charges of two particles, and the program will calculate  │\n",
       "│ their trajectories over time as they interact through electric forces. The results are then displayed           │\n",
       "│ graphically, with each particle represented by a different color. This can help users visualize the complex     │\n",
       "│ interactions between particles in a particle accelerator.                                                       │\n",
       "╰─────────────────────────────────────────────────────────────────────────────────────────────────────────────────╯\n",
       "</pre>\n"
      ],
      "text/plain": [
       "╭───────────────────────────────────────── Natural Language Description ──────────────────────────────────────────╮\n",
       "│ This Python program simulates the behavior of subatomic particles in a simplified particle accelerator. The     │\n",
       "│ user can input the initial positions, velocities, and charges of two particles, and the program will calculate  │\n",
       "│ their trajectories over time as they interact through electric forces. The results are then displayed           │\n",
       "│ graphically, with each particle represented by a different color. This can help users visualize the complex     │\n",
       "│ interactions between particles in a particle accelerator.                                                       │\n",
       "╰─────────────────────────────────────────────────────────────────────────────────────────────────────────────────╯\n"
      ]
     },
     "metadata": {},
     "output_type": "display_data"
    },
    {
     "data": {
      "text/html": [
       "<pre style=\"white-space:pre;overflow-x:auto;line-height:normal;font-family:Menlo,'DejaVu Sans Mono',consolas,'Courier New',monospace\">╭───────────────────────────────────────────────────── Code ──────────────────────────────────────────────────────╮\n",
       "│ <span style=\"color: #ff79c6; text-decoration-color: #ff79c6; background-color: #282a36\">import</span><span style=\"color: #f8f8f2; text-decoration-color: #f8f8f2; background-color: #282a36\"> matplotlib.pyplot </span><span style=\"color: #ff79c6; text-decoration-color: #ff79c6; background-color: #282a36\">as</span><span style=\"color: #f8f8f2; text-decoration-color: #f8f8f2; background-color: #282a36\"> plt</span><span style=\"background-color: #282a36\">                                                                                </span> │\n",
       "│ <span style=\"color: #ff79c6; text-decoration-color: #ff79c6; background-color: #282a36\">import</span><span style=\"color: #f8f8f2; text-decoration-color: #f8f8f2; background-color: #282a36\"> numpy </span><span style=\"color: #ff79c6; text-decoration-color: #ff79c6; background-color: #282a36\">as</span><span style=\"color: #f8f8f2; text-decoration-color: #f8f8f2; background-color: #282a36\"> np</span><span style=\"background-color: #282a36\">                                                                                             </span> │\n",
       "│ <span style=\"background-color: #282a36\">                                                                                                               </span> │\n",
       "│ <span style=\"color: #6272a4; text-decoration-color: #6272a4; background-color: #282a36\"># Constants</span><span style=\"background-color: #282a36\">                                                                                                    </span> │\n",
       "│ <span style=\"color: #f8f8f2; text-decoration-color: #f8f8f2; background-color: #282a36\">mass </span><span style=\"color: #ff79c6; text-decoration-color: #ff79c6; background-color: #282a36\">=</span><span style=\"color: #f8f8f2; text-decoration-color: #f8f8f2; background-color: #282a36\"> </span><span style=\"color: #ffb86c; text-decoration-color: #ffb86c; background-color: #282a36\">1.0</span><span style=\"color: #f8f8f2; text-decoration-color: #f8f8f2; background-color: #282a36\">  </span><span style=\"color: #6272a4; text-decoration-color: #6272a4; background-color: #282a36\"># mass of the particles</span><span style=\"background-color: #282a36\">                                                                            </span> │\n",
       "│ <span style=\"color: #f8f8f2; text-decoration-color: #f8f8f2; background-color: #282a36\">time_step </span><span style=\"color: #ff79c6; text-decoration-color: #ff79c6; background-color: #282a36\">=</span><span style=\"color: #f8f8f2; text-decoration-color: #f8f8f2; background-color: #282a36\"> </span><span style=\"color: #ffb86c; text-decoration-color: #ffb86c; background-color: #282a36\">0.01</span><span style=\"color: #f8f8f2; text-decoration-color: #f8f8f2; background-color: #282a36\">  </span><span style=\"color: #6272a4; text-decoration-color: #6272a4; background-color: #282a36\"># small time step for the simulation</span><span style=\"background-color: #282a36\">                                                         </span> │\n",
       "│ <span style=\"color: #f8f8f2; text-decoration-color: #f8f8f2; background-color: #282a36\">num_steps </span><span style=\"color: #ff79c6; text-decoration-color: #ff79c6; background-color: #282a36\">=</span><span style=\"color: #f8f8f2; text-decoration-color: #f8f8f2; background-color: #282a36\"> </span><span style=\"color: #ffb86c; text-decoration-color: #ffb86c; background-color: #282a36\">1000</span><span style=\"color: #f8f8f2; text-decoration-color: #f8f8f2; background-color: #282a36\">  </span><span style=\"color: #6272a4; text-decoration-color: #6272a4; background-color: #282a36\"># number of time steps</span><span style=\"background-color: #282a36\">                                                                       </span> │\n",
       "│ <span style=\"background-color: #282a36\">                                                                                                               </span> │\n",
       "│ <span style=\"color: #6272a4; text-decoration-color: #6272a4; background-color: #282a36\"># Initial conditions</span><span style=\"background-color: #282a36\">                                                                                           </span> │\n",
       "│ <span style=\"color: #f8f8f2; text-decoration-color: #f8f8f2; background-color: #282a36\">initial_position1 </span><span style=\"color: #ff79c6; text-decoration-color: #ff79c6; background-color: #282a36\">=</span><span style=\"color: #f8f8f2; text-decoration-color: #f8f8f2; background-color: #282a36\"> np</span><span style=\"color: #ff79c6; text-decoration-color: #ff79c6; background-color: #282a36\">.</span><span style=\"color: #f8f8f2; text-decoration-color: #f8f8f2; background-color: #282a36\">array([</span><span style=\"color: #ffb86c; text-decoration-color: #ffb86c; background-color: #282a36\">0.0</span><span style=\"color: #f8f8f2; text-decoration-color: #f8f8f2; background-color: #282a36\">, </span><span style=\"color: #ffb86c; text-decoration-color: #ffb86c; background-color: #282a36\">0.0</span><span style=\"color: #f8f8f2; text-decoration-color: #f8f8f2; background-color: #282a36\">])</span><span style=\"background-color: #282a36\">                                                                       </span> │\n",
       "│ <span style=\"color: #f8f8f2; text-decoration-color: #f8f8f2; background-color: #282a36\">initial_position2 </span><span style=\"color: #ff79c6; text-decoration-color: #ff79c6; background-color: #282a36\">=</span><span style=\"color: #f8f8f2; text-decoration-color: #f8f8f2; background-color: #282a36\"> np</span><span style=\"color: #ff79c6; text-decoration-color: #ff79c6; background-color: #282a36\">.</span><span style=\"color: #f8f8f2; text-decoration-color: #f8f8f2; background-color: #282a36\">array([</span><span style=\"color: #ffb86c; text-decoration-color: #ffb86c; background-color: #282a36\">1.0</span><span style=\"color: #f8f8f2; text-decoration-color: #f8f8f2; background-color: #282a36\">, </span><span style=\"color: #ffb86c; text-decoration-color: #ffb86c; background-color: #282a36\">0.0</span><span style=\"color: #f8f8f2; text-decoration-color: #f8f8f2; background-color: #282a36\">])</span><span style=\"background-color: #282a36\">                                                                       </span> │\n",
       "│ <span style=\"color: #f8f8f2; text-decoration-color: #f8f8f2; background-color: #282a36\">initial_velocity1 </span><span style=\"color: #ff79c6; text-decoration-color: #ff79c6; background-color: #282a36\">=</span><span style=\"color: #f8f8f2; text-decoration-color: #f8f8f2; background-color: #282a36\"> np</span><span style=\"color: #ff79c6; text-decoration-color: #ff79c6; background-color: #282a36\">.</span><span style=\"color: #f8f8f2; text-decoration-color: #f8f8f2; background-color: #282a36\">array([</span><span style=\"color: #ffb86c; text-decoration-color: #ffb86c; background-color: #282a36\">1.0</span><span style=\"color: #f8f8f2; text-decoration-color: #f8f8f2; background-color: #282a36\">, </span><span style=\"color: #ffb86c; text-decoration-color: #ffb86c; background-color: #282a36\">0.0</span><span style=\"color: #f8f8f2; text-decoration-color: #f8f8f2; background-color: #282a36\">])</span><span style=\"background-color: #282a36\">                                                                       </span> │\n",
       "│ <span style=\"color: #f8f8f2; text-decoration-color: #f8f8f2; background-color: #282a36\">initial_velocity2 </span><span style=\"color: #ff79c6; text-decoration-color: #ff79c6; background-color: #282a36\">=</span><span style=\"color: #f8f8f2; text-decoration-color: #f8f8f2; background-color: #282a36\"> np</span><span style=\"color: #ff79c6; text-decoration-color: #ff79c6; background-color: #282a36\">.</span><span style=\"color: #f8f8f2; text-decoration-color: #f8f8f2; background-color: #282a36\">array([</span><span style=\"color: #ff79c6; text-decoration-color: #ff79c6; background-color: #282a36\">-</span><span style=\"color: #ffb86c; text-decoration-color: #ffb86c; background-color: #282a36\">1.0</span><span style=\"color: #f8f8f2; text-decoration-color: #f8f8f2; background-color: #282a36\">, </span><span style=\"color: #ffb86c; text-decoration-color: #ffb86c; background-color: #282a36\">0.0</span><span style=\"color: #f8f8f2; text-decoration-color: #f8f8f2; background-color: #282a36\">])</span><span style=\"background-color: #282a36\">                                                                      </span> │\n",
       "│ <span style=\"background-color: #282a36\">                                                                                                               </span> │\n",
       "│ <span style=\"color: #6272a4; text-decoration-color: #6272a4; background-color: #282a36\"># Lists to store the positions over time</span><span style=\"background-color: #282a36\">                                                                       </span> │\n",
       "│ <span style=\"color: #f8f8f2; text-decoration-color: #f8f8f2; background-color: #282a36\">positions1 </span><span style=\"color: #ff79c6; text-decoration-color: #ff79c6; background-color: #282a36\">=</span><span style=\"color: #f8f8f2; text-decoration-color: #f8f8f2; background-color: #282a36\"> [initial_position1]</span><span style=\"background-color: #282a36\">                                                                               </span> │\n",
       "│ <span style=\"color: #f8f8f2; text-decoration-color: #f8f8f2; background-color: #282a36\">positions2 </span><span style=\"color: #ff79c6; text-decoration-color: #ff79c6; background-color: #282a36\">=</span><span style=\"color: #f8f8f2; text-decoration-color: #f8f8f2; background-color: #282a36\"> [initial_position2]</span><span style=\"background-color: #282a36\">                                                                               </span> │\n",
       "│ <span style=\"background-color: #282a36\">                                                                                                               </span> │\n",
       "│ <span style=\"color: #6272a4; text-decoration-color: #6272a4; background-color: #282a36\"># Simulate the motion of the particles</span><span style=\"background-color: #282a36\">                                                                         </span> │\n",
       "│ <span style=\"color: #ff79c6; text-decoration-color: #ff79c6; background-color: #282a36\">for</span><span style=\"color: #f8f8f2; text-decoration-color: #f8f8f2; background-color: #282a36\"> _ </span><span style=\"color: #ff79c6; text-decoration-color: #ff79c6; background-color: #282a36\">in</span><span style=\"color: #f8f8f2; text-decoration-color: #f8f8f2; background-color: #282a36\"> </span><span style=\"color: #8be9fd; text-decoration-color: #8be9fd; background-color: #282a36; font-style: italic\">range</span><span style=\"color: #f8f8f2; text-decoration-color: #f8f8f2; background-color: #282a36\">(num_steps):</span><span style=\"background-color: #282a36\">                                                                                     </span> │\n",
       "│ <span style=\"color: #f8f8f2; text-decoration-color: #f8f8f2; background-color: #282a36\">    </span><span style=\"color: #6272a4; text-decoration-color: #6272a4; background-color: #282a36\"># Calculate the forces between the particles</span><span style=\"background-color: #282a36\">                                                               </span> │\n",
       "│ <span style=\"color: #f8f8f2; text-decoration-color: #f8f8f2; background-color: #282a36\">    force1 </span><span style=\"color: #ff79c6; text-decoration-color: #ff79c6; background-color: #282a36\">=</span><span style=\"color: #f8f8f2; text-decoration-color: #f8f8f2; background-color: #282a36\"> mass </span><span style=\"color: #ff79c6; text-decoration-color: #ff79c6; background-color: #282a36\">*</span><span style=\"color: #f8f8f2; text-decoration-color: #f8f8f2; background-color: #282a36\"> (initial_velocity1 </span><span style=\"color: #ff79c6; text-decoration-color: #ff79c6; background-color: #282a36\">-</span><span style=\"color: #f8f8f2; text-decoration-color: #f8f8f2; background-color: #282a36\"> initial_velocity2)</span><span style=\"background-color: #282a36\">                                                    </span> │\n",
       "│ <span style=\"color: #f8f8f2; text-decoration-color: #f8f8f2; background-color: #282a36\">    force2 </span><span style=\"color: #ff79c6; text-decoration-color: #ff79c6; background-color: #282a36\">=</span><span style=\"color: #f8f8f2; text-decoration-color: #f8f8f2; background-color: #282a36\"> mass </span><span style=\"color: #ff79c6; text-decoration-color: #ff79c6; background-color: #282a36\">*</span><span style=\"color: #f8f8f2; text-decoration-color: #f8f8f2; background-color: #282a36\"> (initial_velocity2 </span><span style=\"color: #ff79c6; text-decoration-color: #ff79c6; background-color: #282a36\">-</span><span style=\"color: #f8f8f2; text-decoration-color: #f8f8f2; background-color: #282a36\"> initial_velocity1)</span><span style=\"background-color: #282a36\">                                                    </span> │\n",
       "│ <span style=\"background-color: #282a36\">                                                                                                               </span> │\n",
       "│ <span style=\"color: #f8f8f2; text-decoration-color: #f8f8f2; background-color: #282a36\">    </span><span style=\"color: #6272a4; text-decoration-color: #6272a4; background-color: #282a36\"># Update the velocities of the particles</span><span style=\"background-color: #282a36\">                                                                   </span> │\n",
       "│ <span style=\"color: #f8f8f2; text-decoration-color: #f8f8f2; background-color: #282a36\">    initial_velocity1 </span><span style=\"color: #ff79c6; text-decoration-color: #ff79c6; background-color: #282a36\">+=</span><span style=\"color: #f8f8f2; text-decoration-color: #f8f8f2; background-color: #282a36\"> force1 </span><span style=\"color: #ff79c6; text-decoration-color: #ff79c6; background-color: #282a36\">/</span><span style=\"color: #f8f8f2; text-decoration-color: #f8f8f2; background-color: #282a36\"> mass </span><span style=\"color: #ff79c6; text-decoration-color: #ff79c6; background-color: #282a36\">*</span><span style=\"color: #f8f8f2; text-decoration-color: #f8f8f2; background-color: #282a36\"> time_step</span><span style=\"background-color: #282a36\">                                                             </span> │\n",
       "│ <span style=\"color: #f8f8f2; text-decoration-color: #f8f8f2; background-color: #282a36\">    initial_velocity2 </span><span style=\"color: #ff79c6; text-decoration-color: #ff79c6; background-color: #282a36\">+=</span><span style=\"color: #f8f8f2; text-decoration-color: #f8f8f2; background-color: #282a36\"> force2 </span><span style=\"color: #ff79c6; text-decoration-color: #ff79c6; background-color: #282a36\">/</span><span style=\"color: #f8f8f2; text-decoration-color: #f8f8f2; background-color: #282a36\"> mass </span><span style=\"color: #ff79c6; text-decoration-color: #ff79c6; background-color: #282a36\">*</span><span style=\"color: #f8f8f2; text-decoration-color: #f8f8f2; background-color: #282a36\"> time_step</span><span style=\"background-color: #282a36\">                                                             </span> │\n",
       "│ <span style=\"background-color: #282a36\">                                                                                                               </span> │\n",
       "│ <span style=\"color: #f8f8f2; text-decoration-color: #f8f8f2; background-color: #282a36\">    </span><span style=\"color: #6272a4; text-decoration-color: #6272a4; background-color: #282a36\"># Update the positions of the particles</span><span style=\"background-color: #282a36\">                                                                    </span> │\n",
       "│ <span style=\"color: #f8f8f2; text-decoration-color: #f8f8f2; background-color: #282a36\">    initial_position1 </span><span style=\"color: #ff79c6; text-decoration-color: #ff79c6; background-color: #282a36\">+=</span><span style=\"color: #f8f8f2; text-decoration-color: #f8f8f2; background-color: #282a36\"> initial_velocity1 </span><span style=\"color: #ff79c6; text-decoration-color: #ff79c6; background-color: #282a36\">*</span><span style=\"color: #f8f8f2; text-decoration-color: #f8f8f2; background-color: #282a36\"> time_step</span><span style=\"background-color: #282a36\">                                                         </span> │\n",
       "│ <span style=\"color: #f8f8f2; text-decoration-color: #f8f8f2; background-color: #282a36\">    initial_position2 </span><span style=\"color: #ff79c6; text-decoration-color: #ff79c6; background-color: #282a36\">+=</span><span style=\"color: #f8f8f2; text-decoration-color: #f8f8f2; background-color: #282a36\"> initial_velocity2 </span><span style=\"color: #ff79c6; text-decoration-color: #ff79c6; background-color: #282a36\">*</span><span style=\"color: #f8f8f2; text-decoration-color: #f8f8f2; background-color: #282a36\"> time_step</span><span style=\"background-color: #282a36\">                                                         </span> │\n",
       "│ <span style=\"background-color: #282a36\">                                                                                                               </span> │\n",
       "│ <span style=\"color: #f8f8f2; text-decoration-color: #f8f8f2; background-color: #282a36\">    </span><span style=\"color: #6272a4; text-decoration-color: #6272a4; background-color: #282a36\"># Store the positions for later use</span><span style=\"background-color: #282a36\">                                                                        </span> │\n",
       "│ <span style=\"color: #f8f8f2; text-decoration-color: #f8f8f2; background-color: #282a36\">    positions1</span><span style=\"color: #ff79c6; text-decoration-color: #ff79c6; background-color: #282a36\">.</span><span style=\"color: #f8f8f2; text-decoration-color: #f8f8f2; background-color: #282a36\">append(initial_position1)</span><span style=\"background-color: #282a36\">                                                                       </span> │\n",
       "│ <span style=\"color: #f8f8f2; text-decoration-color: #f8f8f2; background-color: #282a36\">    positions2</span><span style=\"color: #ff79c6; text-decoration-color: #ff79c6; background-color: #282a36\">.</span><span style=\"color: #f8f8f2; text-decoration-color: #f8f8f2; background-color: #282a36\">append(initial_position2)</span><span style=\"background-color: #282a36\">                                                                       </span> │\n",
       "│ <span style=\"background-color: #282a36\">                                                                                                               </span> │\n",
       "│ <span style=\"color: #6272a4; text-decoration-color: #6272a4; background-color: #282a36\"># Convert the positions to numpy arrays for easy plotting</span><span style=\"background-color: #282a36\">                                                      </span> │\n",
       "│ <span style=\"color: #f8f8f2; text-decoration-color: #f8f8f2; background-color: #282a36\">positions1 </span><span style=\"color: #ff79c6; text-decoration-color: #ff79c6; background-color: #282a36\">=</span><span style=\"color: #f8f8f2; text-decoration-color: #f8f8f2; background-color: #282a36\"> np</span><span style=\"color: #ff79c6; text-decoration-color: #ff79c6; background-color: #282a36\">.</span><span style=\"color: #f8f8f2; text-decoration-color: #f8f8f2; background-color: #282a36\">array(positions1)</span><span style=\"background-color: #282a36\">                                                                              </span> │\n",
       "│ <span style=\"color: #f8f8f2; text-decoration-color: #f8f8f2; background-color: #282a36\">positions2 </span><span style=\"color: #ff79c6; text-decoration-color: #ff79c6; background-color: #282a36\">=</span><span style=\"color: #f8f8f2; text-decoration-color: #f8f8f2; background-color: #282a36\"> np</span><span style=\"color: #ff79c6; text-decoration-color: #ff79c6; background-color: #282a36\">.</span><span style=\"color: #f8f8f2; text-decoration-color: #f8f8f2; background-color: #282a36\">array(positions2)</span><span style=\"background-color: #282a36\">                                                                              </span> │\n",
       "│ <span style=\"background-color: #282a36\">                                                                                                               </span> │\n",
       "│ <span style=\"color: #6272a4; text-decoration-color: #6272a4; background-color: #282a36\"># Plot the trajectories</span><span style=\"background-color: #282a36\">                                                                                        </span> │\n",
       "│ <span style=\"color: #f8f8f2; text-decoration-color: #f8f8f2; background-color: #282a36\">plt</span><span style=\"color: #ff79c6; text-decoration-color: #ff79c6; background-color: #282a36\">.</span><span style=\"color: #f8f8f2; text-decoration-color: #f8f8f2; background-color: #282a36\">plot(positions1[:, </span><span style=\"color: #ffb86c; text-decoration-color: #ffb86c; background-color: #282a36\">0</span><span style=\"color: #f8f8f2; text-decoration-color: #f8f8f2; background-color: #282a36\">], positions1[:, </span><span style=\"color: #ffb86c; text-decoration-color: #ffb86c; background-color: #282a36\">1</span><span style=\"color: #f8f8f2; text-decoration-color: #f8f8f2; background-color: #282a36\">], color</span><span style=\"color: #ff79c6; text-decoration-color: #ff79c6; background-color: #282a36\">=</span><span style=\"color: #bd93f9; text-decoration-color: #bd93f9; background-color: #282a36\">'blue'</span><span style=\"color: #f8f8f2; text-decoration-color: #f8f8f2; background-color: #282a36\">, label</span><span style=\"color: #ff79c6; text-decoration-color: #ff79c6; background-color: #282a36\">=</span><span style=\"color: #bd93f9; text-decoration-color: #bd93f9; background-color: #282a36\">'Particle 1'</span><span style=\"color: #f8f8f2; text-decoration-color: #f8f8f2; background-color: #282a36\">)</span><span style=\"background-color: #282a36\">                                 </span> │\n",
       "│ <span style=\"color: #f8f8f2; text-decoration-color: #f8f8f2; background-color: #282a36\">plt</span><span style=\"color: #ff79c6; text-decoration-color: #ff79c6; background-color: #282a36\">.</span><span style=\"color: #f8f8f2; text-decoration-color: #f8f8f2; background-color: #282a36\">plot(positions2[:, </span><span style=\"color: #ffb86c; text-decoration-color: #ffb86c; background-color: #282a36\">0</span><span style=\"color: #f8f8f2; text-decoration-color: #f8f8f2; background-color: #282a36\">], positions2[:, </span><span style=\"color: #ffb86c; text-decoration-color: #ffb86c; background-color: #282a36\">1</span><span style=\"color: #f8f8f2; text-decoration-color: #f8f8f2; background-color: #282a36\">], color</span><span style=\"color: #ff79c6; text-decoration-color: #ff79c6; background-color: #282a36\">=</span><span style=\"color: #bd93f9; text-decoration-color: #bd93f9; background-color: #282a36\">'red'</span><span style=\"color: #f8f8f2; text-decoration-color: #f8f8f2; background-color: #282a36\">, label</span><span style=\"color: #ff79c6; text-decoration-color: #ff79c6; background-color: #282a36\">=</span><span style=\"color: #bd93f9; text-decoration-color: #bd93f9; background-color: #282a36\">'Particle 2'</span><span style=\"color: #f8f8f2; text-decoration-color: #f8f8f2; background-color: #282a36\">)</span><span style=\"background-color: #282a36\">                                  </span> │\n",
       "│ <span style=\"color: #f8f8f2; text-decoration-color: #f8f8f2; background-color: #282a36\">plt</span><span style=\"color: #ff79c6; text-decoration-color: #ff79c6; background-color: #282a36\">.</span><span style=\"color: #f8f8f2; text-decoration-color: #f8f8f2; background-color: #282a36\">xlabel(</span><span style=\"color: #bd93f9; text-decoration-color: #bd93f9; background-color: #282a36\">'X position'</span><span style=\"color: #f8f8f2; text-decoration-color: #f8f8f2; background-color: #282a36\">)</span><span style=\"background-color: #282a36\">                                                                                       </span> │\n",
       "│ <span style=\"color: #f8f8f2; text-decoration-color: #f8f8f2; background-color: #282a36\">plt</span><span style=\"color: #ff79c6; text-decoration-color: #ff79c6; background-color: #282a36\">.</span><span style=\"color: #f8f8f2; text-decoration-color: #f8f8f2; background-color: #282a36\">ylabel(</span><span style=\"color: #bd93f9; text-decoration-color: #bd93f9; background-color: #282a36\">'Y position'</span><span style=\"color: #f8f8f2; text-decoration-color: #f8f8f2; background-color: #282a36\">)</span><span style=\"background-color: #282a36\">                                                                                       </span> │\n",
       "│ <span style=\"color: #f8f8f2; text-decoration-color: #f8f8f2; background-color: #282a36\">plt</span><span style=\"color: #ff79c6; text-decoration-color: #ff79c6; background-color: #282a36\">.</span><span style=\"color: #f8f8f2; text-decoration-color: #f8f8f2; background-color: #282a36\">legend()</span><span style=\"background-color: #282a36\">                                                                                                   </span> │\n",
       "│ <span style=\"color: #f8f8f2; text-decoration-color: #f8f8f2; background-color: #282a36\">plt</span><span style=\"color: #ff79c6; text-decoration-color: #ff79c6; background-color: #282a36\">.</span><span style=\"color: #f8f8f2; text-decoration-color: #f8f8f2; background-color: #282a36\">show()</span><span style=\"background-color: #282a36\">                                                                                                     </span> │\n",
       "╰─────────────────────────────────────────────────────────────────────────────────────────────────────────────────╯\n",
       "</pre>\n"
      ],
      "text/plain": [
       "╭───────────────────────────────────────────────────── Code ──────────────────────────────────────────────────────╮\n",
       "│ \u001b[38;2;255;121;198;48;2;40;42;54mimport\u001b[0m\u001b[38;2;248;248;242;48;2;40;42;54m \u001b[0m\u001b[38;2;248;248;242;48;2;40;42;54mmatplotlib\u001b[0m\u001b[38;2;248;248;242;48;2;40;42;54m.\u001b[0m\u001b[38;2;248;248;242;48;2;40;42;54mpyplot\u001b[0m\u001b[38;2;248;248;242;48;2;40;42;54m \u001b[0m\u001b[38;2;255;121;198;48;2;40;42;54mas\u001b[0m\u001b[38;2;248;248;242;48;2;40;42;54m \u001b[0m\u001b[38;2;248;248;242;48;2;40;42;54mplt\u001b[0m\u001b[48;2;40;42;54m                                                                                \u001b[0m │\n",
       "│ \u001b[38;2;255;121;198;48;2;40;42;54mimport\u001b[0m\u001b[38;2;248;248;242;48;2;40;42;54m \u001b[0m\u001b[38;2;248;248;242;48;2;40;42;54mnumpy\u001b[0m\u001b[38;2;248;248;242;48;2;40;42;54m \u001b[0m\u001b[38;2;255;121;198;48;2;40;42;54mas\u001b[0m\u001b[38;2;248;248;242;48;2;40;42;54m \u001b[0m\u001b[38;2;248;248;242;48;2;40;42;54mnp\u001b[0m\u001b[48;2;40;42;54m                                                                                             \u001b[0m │\n",
       "│ \u001b[48;2;40;42;54m                                                                                                               \u001b[0m │\n",
       "│ \u001b[38;2;98;114;164;48;2;40;42;54m# Constants\u001b[0m\u001b[48;2;40;42;54m                                                                                                    \u001b[0m │\n",
       "│ \u001b[38;2;248;248;242;48;2;40;42;54mmass\u001b[0m\u001b[38;2;248;248;242;48;2;40;42;54m \u001b[0m\u001b[38;2;255;121;198;48;2;40;42;54m=\u001b[0m\u001b[38;2;248;248;242;48;2;40;42;54m \u001b[0m\u001b[38;2;255;184;108;48;2;40;42;54m1.0\u001b[0m\u001b[38;2;248;248;242;48;2;40;42;54m  \u001b[0m\u001b[38;2;98;114;164;48;2;40;42;54m# mass of the particles\u001b[0m\u001b[48;2;40;42;54m                                                                            \u001b[0m │\n",
       "│ \u001b[38;2;248;248;242;48;2;40;42;54mtime_step\u001b[0m\u001b[38;2;248;248;242;48;2;40;42;54m \u001b[0m\u001b[38;2;255;121;198;48;2;40;42;54m=\u001b[0m\u001b[38;2;248;248;242;48;2;40;42;54m \u001b[0m\u001b[38;2;255;184;108;48;2;40;42;54m0.01\u001b[0m\u001b[38;2;248;248;242;48;2;40;42;54m  \u001b[0m\u001b[38;2;98;114;164;48;2;40;42;54m# small time step for the simulation\u001b[0m\u001b[48;2;40;42;54m                                                         \u001b[0m │\n",
       "│ \u001b[38;2;248;248;242;48;2;40;42;54mnum_steps\u001b[0m\u001b[38;2;248;248;242;48;2;40;42;54m \u001b[0m\u001b[38;2;255;121;198;48;2;40;42;54m=\u001b[0m\u001b[38;2;248;248;242;48;2;40;42;54m \u001b[0m\u001b[38;2;255;184;108;48;2;40;42;54m1000\u001b[0m\u001b[38;2;248;248;242;48;2;40;42;54m  \u001b[0m\u001b[38;2;98;114;164;48;2;40;42;54m# number of time steps\u001b[0m\u001b[48;2;40;42;54m                                                                       \u001b[0m │\n",
       "│ \u001b[48;2;40;42;54m                                                                                                               \u001b[0m │\n",
       "│ \u001b[38;2;98;114;164;48;2;40;42;54m# Initial conditions\u001b[0m\u001b[48;2;40;42;54m                                                                                           \u001b[0m │\n",
       "│ \u001b[38;2;248;248;242;48;2;40;42;54minitial_position1\u001b[0m\u001b[38;2;248;248;242;48;2;40;42;54m \u001b[0m\u001b[38;2;255;121;198;48;2;40;42;54m=\u001b[0m\u001b[38;2;248;248;242;48;2;40;42;54m \u001b[0m\u001b[38;2;248;248;242;48;2;40;42;54mnp\u001b[0m\u001b[38;2;255;121;198;48;2;40;42;54m.\u001b[0m\u001b[38;2;248;248;242;48;2;40;42;54marray\u001b[0m\u001b[38;2;248;248;242;48;2;40;42;54m(\u001b[0m\u001b[38;2;248;248;242;48;2;40;42;54m[\u001b[0m\u001b[38;2;255;184;108;48;2;40;42;54m0.0\u001b[0m\u001b[38;2;248;248;242;48;2;40;42;54m,\u001b[0m\u001b[38;2;248;248;242;48;2;40;42;54m \u001b[0m\u001b[38;2;255;184;108;48;2;40;42;54m0.0\u001b[0m\u001b[38;2;248;248;242;48;2;40;42;54m]\u001b[0m\u001b[38;2;248;248;242;48;2;40;42;54m)\u001b[0m\u001b[48;2;40;42;54m                                                                       \u001b[0m │\n",
       "│ \u001b[38;2;248;248;242;48;2;40;42;54minitial_position2\u001b[0m\u001b[38;2;248;248;242;48;2;40;42;54m \u001b[0m\u001b[38;2;255;121;198;48;2;40;42;54m=\u001b[0m\u001b[38;2;248;248;242;48;2;40;42;54m \u001b[0m\u001b[38;2;248;248;242;48;2;40;42;54mnp\u001b[0m\u001b[38;2;255;121;198;48;2;40;42;54m.\u001b[0m\u001b[38;2;248;248;242;48;2;40;42;54marray\u001b[0m\u001b[38;2;248;248;242;48;2;40;42;54m(\u001b[0m\u001b[38;2;248;248;242;48;2;40;42;54m[\u001b[0m\u001b[38;2;255;184;108;48;2;40;42;54m1.0\u001b[0m\u001b[38;2;248;248;242;48;2;40;42;54m,\u001b[0m\u001b[38;2;248;248;242;48;2;40;42;54m \u001b[0m\u001b[38;2;255;184;108;48;2;40;42;54m0.0\u001b[0m\u001b[38;2;248;248;242;48;2;40;42;54m]\u001b[0m\u001b[38;2;248;248;242;48;2;40;42;54m)\u001b[0m\u001b[48;2;40;42;54m                                                                       \u001b[0m │\n",
       "│ \u001b[38;2;248;248;242;48;2;40;42;54minitial_velocity1\u001b[0m\u001b[38;2;248;248;242;48;2;40;42;54m \u001b[0m\u001b[38;2;255;121;198;48;2;40;42;54m=\u001b[0m\u001b[38;2;248;248;242;48;2;40;42;54m \u001b[0m\u001b[38;2;248;248;242;48;2;40;42;54mnp\u001b[0m\u001b[38;2;255;121;198;48;2;40;42;54m.\u001b[0m\u001b[38;2;248;248;242;48;2;40;42;54marray\u001b[0m\u001b[38;2;248;248;242;48;2;40;42;54m(\u001b[0m\u001b[38;2;248;248;242;48;2;40;42;54m[\u001b[0m\u001b[38;2;255;184;108;48;2;40;42;54m1.0\u001b[0m\u001b[38;2;248;248;242;48;2;40;42;54m,\u001b[0m\u001b[38;2;248;248;242;48;2;40;42;54m \u001b[0m\u001b[38;2;255;184;108;48;2;40;42;54m0.0\u001b[0m\u001b[38;2;248;248;242;48;2;40;42;54m]\u001b[0m\u001b[38;2;248;248;242;48;2;40;42;54m)\u001b[0m\u001b[48;2;40;42;54m                                                                       \u001b[0m │\n",
       "│ \u001b[38;2;248;248;242;48;2;40;42;54minitial_velocity2\u001b[0m\u001b[38;2;248;248;242;48;2;40;42;54m \u001b[0m\u001b[38;2;255;121;198;48;2;40;42;54m=\u001b[0m\u001b[38;2;248;248;242;48;2;40;42;54m \u001b[0m\u001b[38;2;248;248;242;48;2;40;42;54mnp\u001b[0m\u001b[38;2;255;121;198;48;2;40;42;54m.\u001b[0m\u001b[38;2;248;248;242;48;2;40;42;54marray\u001b[0m\u001b[38;2;248;248;242;48;2;40;42;54m(\u001b[0m\u001b[38;2;248;248;242;48;2;40;42;54m[\u001b[0m\u001b[38;2;255;121;198;48;2;40;42;54m-\u001b[0m\u001b[38;2;255;184;108;48;2;40;42;54m1.0\u001b[0m\u001b[38;2;248;248;242;48;2;40;42;54m,\u001b[0m\u001b[38;2;248;248;242;48;2;40;42;54m \u001b[0m\u001b[38;2;255;184;108;48;2;40;42;54m0.0\u001b[0m\u001b[38;2;248;248;242;48;2;40;42;54m]\u001b[0m\u001b[38;2;248;248;242;48;2;40;42;54m)\u001b[0m\u001b[48;2;40;42;54m                                                                      \u001b[0m │\n",
       "│ \u001b[48;2;40;42;54m                                                                                                               \u001b[0m │\n",
       "│ \u001b[38;2;98;114;164;48;2;40;42;54m# Lists to store the positions over time\u001b[0m\u001b[48;2;40;42;54m                                                                       \u001b[0m │\n",
       "│ \u001b[38;2;248;248;242;48;2;40;42;54mpositions1\u001b[0m\u001b[38;2;248;248;242;48;2;40;42;54m \u001b[0m\u001b[38;2;255;121;198;48;2;40;42;54m=\u001b[0m\u001b[38;2;248;248;242;48;2;40;42;54m \u001b[0m\u001b[38;2;248;248;242;48;2;40;42;54m[\u001b[0m\u001b[38;2;248;248;242;48;2;40;42;54minitial_position1\u001b[0m\u001b[38;2;248;248;242;48;2;40;42;54m]\u001b[0m\u001b[48;2;40;42;54m                                                                               \u001b[0m │\n",
       "│ \u001b[38;2;248;248;242;48;2;40;42;54mpositions2\u001b[0m\u001b[38;2;248;248;242;48;2;40;42;54m \u001b[0m\u001b[38;2;255;121;198;48;2;40;42;54m=\u001b[0m\u001b[38;2;248;248;242;48;2;40;42;54m \u001b[0m\u001b[38;2;248;248;242;48;2;40;42;54m[\u001b[0m\u001b[38;2;248;248;242;48;2;40;42;54minitial_position2\u001b[0m\u001b[38;2;248;248;242;48;2;40;42;54m]\u001b[0m\u001b[48;2;40;42;54m                                                                               \u001b[0m │\n",
       "│ \u001b[48;2;40;42;54m                                                                                                               \u001b[0m │\n",
       "│ \u001b[38;2;98;114;164;48;2;40;42;54m# Simulate the motion of the particles\u001b[0m\u001b[48;2;40;42;54m                                                                         \u001b[0m │\n",
       "│ \u001b[38;2;255;121;198;48;2;40;42;54mfor\u001b[0m\u001b[38;2;248;248;242;48;2;40;42;54m \u001b[0m\u001b[38;2;248;248;242;48;2;40;42;54m_\u001b[0m\u001b[38;2;248;248;242;48;2;40;42;54m \u001b[0m\u001b[38;2;255;121;198;48;2;40;42;54min\u001b[0m\u001b[38;2;248;248;242;48;2;40;42;54m \u001b[0m\u001b[3;38;2;139;233;253;48;2;40;42;54mrange\u001b[0m\u001b[38;2;248;248;242;48;2;40;42;54m(\u001b[0m\u001b[38;2;248;248;242;48;2;40;42;54mnum_steps\u001b[0m\u001b[38;2;248;248;242;48;2;40;42;54m)\u001b[0m\u001b[38;2;248;248;242;48;2;40;42;54m:\u001b[0m\u001b[48;2;40;42;54m                                                                                     \u001b[0m │\n",
       "│ \u001b[38;2;248;248;242;48;2;40;42;54m    \u001b[0m\u001b[38;2;98;114;164;48;2;40;42;54m# Calculate the forces between the particles\u001b[0m\u001b[48;2;40;42;54m                                                               \u001b[0m │\n",
       "│ \u001b[38;2;248;248;242;48;2;40;42;54m    \u001b[0m\u001b[38;2;248;248;242;48;2;40;42;54mforce1\u001b[0m\u001b[38;2;248;248;242;48;2;40;42;54m \u001b[0m\u001b[38;2;255;121;198;48;2;40;42;54m=\u001b[0m\u001b[38;2;248;248;242;48;2;40;42;54m \u001b[0m\u001b[38;2;248;248;242;48;2;40;42;54mmass\u001b[0m\u001b[38;2;248;248;242;48;2;40;42;54m \u001b[0m\u001b[38;2;255;121;198;48;2;40;42;54m*\u001b[0m\u001b[38;2;248;248;242;48;2;40;42;54m \u001b[0m\u001b[38;2;248;248;242;48;2;40;42;54m(\u001b[0m\u001b[38;2;248;248;242;48;2;40;42;54minitial_velocity1\u001b[0m\u001b[38;2;248;248;242;48;2;40;42;54m \u001b[0m\u001b[38;2;255;121;198;48;2;40;42;54m-\u001b[0m\u001b[38;2;248;248;242;48;2;40;42;54m \u001b[0m\u001b[38;2;248;248;242;48;2;40;42;54minitial_velocity2\u001b[0m\u001b[38;2;248;248;242;48;2;40;42;54m)\u001b[0m\u001b[48;2;40;42;54m                                                    \u001b[0m │\n",
       "│ \u001b[38;2;248;248;242;48;2;40;42;54m    \u001b[0m\u001b[38;2;248;248;242;48;2;40;42;54mforce2\u001b[0m\u001b[38;2;248;248;242;48;2;40;42;54m \u001b[0m\u001b[38;2;255;121;198;48;2;40;42;54m=\u001b[0m\u001b[38;2;248;248;242;48;2;40;42;54m \u001b[0m\u001b[38;2;248;248;242;48;2;40;42;54mmass\u001b[0m\u001b[38;2;248;248;242;48;2;40;42;54m \u001b[0m\u001b[38;2;255;121;198;48;2;40;42;54m*\u001b[0m\u001b[38;2;248;248;242;48;2;40;42;54m \u001b[0m\u001b[38;2;248;248;242;48;2;40;42;54m(\u001b[0m\u001b[38;2;248;248;242;48;2;40;42;54minitial_velocity2\u001b[0m\u001b[38;2;248;248;242;48;2;40;42;54m \u001b[0m\u001b[38;2;255;121;198;48;2;40;42;54m-\u001b[0m\u001b[38;2;248;248;242;48;2;40;42;54m \u001b[0m\u001b[38;2;248;248;242;48;2;40;42;54minitial_velocity1\u001b[0m\u001b[38;2;248;248;242;48;2;40;42;54m)\u001b[0m\u001b[48;2;40;42;54m                                                    \u001b[0m │\n",
       "│ \u001b[48;2;40;42;54m                                                                                                               \u001b[0m │\n",
       "│ \u001b[38;2;248;248;242;48;2;40;42;54m    \u001b[0m\u001b[38;2;98;114;164;48;2;40;42;54m# Update the velocities of the particles\u001b[0m\u001b[48;2;40;42;54m                                                                   \u001b[0m │\n",
       "│ \u001b[38;2;248;248;242;48;2;40;42;54m    \u001b[0m\u001b[38;2;248;248;242;48;2;40;42;54minitial_velocity1\u001b[0m\u001b[38;2;248;248;242;48;2;40;42;54m \u001b[0m\u001b[38;2;255;121;198;48;2;40;42;54m+\u001b[0m\u001b[38;2;255;121;198;48;2;40;42;54m=\u001b[0m\u001b[38;2;248;248;242;48;2;40;42;54m \u001b[0m\u001b[38;2;248;248;242;48;2;40;42;54mforce1\u001b[0m\u001b[38;2;248;248;242;48;2;40;42;54m \u001b[0m\u001b[38;2;255;121;198;48;2;40;42;54m/\u001b[0m\u001b[38;2;248;248;242;48;2;40;42;54m \u001b[0m\u001b[38;2;248;248;242;48;2;40;42;54mmass\u001b[0m\u001b[38;2;248;248;242;48;2;40;42;54m \u001b[0m\u001b[38;2;255;121;198;48;2;40;42;54m*\u001b[0m\u001b[38;2;248;248;242;48;2;40;42;54m \u001b[0m\u001b[38;2;248;248;242;48;2;40;42;54mtime_step\u001b[0m\u001b[48;2;40;42;54m                                                             \u001b[0m │\n",
       "│ \u001b[38;2;248;248;242;48;2;40;42;54m    \u001b[0m\u001b[38;2;248;248;242;48;2;40;42;54minitial_velocity2\u001b[0m\u001b[38;2;248;248;242;48;2;40;42;54m \u001b[0m\u001b[38;2;255;121;198;48;2;40;42;54m+\u001b[0m\u001b[38;2;255;121;198;48;2;40;42;54m=\u001b[0m\u001b[38;2;248;248;242;48;2;40;42;54m \u001b[0m\u001b[38;2;248;248;242;48;2;40;42;54mforce2\u001b[0m\u001b[38;2;248;248;242;48;2;40;42;54m \u001b[0m\u001b[38;2;255;121;198;48;2;40;42;54m/\u001b[0m\u001b[38;2;248;248;242;48;2;40;42;54m \u001b[0m\u001b[38;2;248;248;242;48;2;40;42;54mmass\u001b[0m\u001b[38;2;248;248;242;48;2;40;42;54m \u001b[0m\u001b[38;2;255;121;198;48;2;40;42;54m*\u001b[0m\u001b[38;2;248;248;242;48;2;40;42;54m \u001b[0m\u001b[38;2;248;248;242;48;2;40;42;54mtime_step\u001b[0m\u001b[48;2;40;42;54m                                                             \u001b[0m │\n",
       "│ \u001b[48;2;40;42;54m                                                                                                               \u001b[0m │\n",
       "│ \u001b[38;2;248;248;242;48;2;40;42;54m    \u001b[0m\u001b[38;2;98;114;164;48;2;40;42;54m# Update the positions of the particles\u001b[0m\u001b[48;2;40;42;54m                                                                    \u001b[0m │\n",
       "│ \u001b[38;2;248;248;242;48;2;40;42;54m    \u001b[0m\u001b[38;2;248;248;242;48;2;40;42;54minitial_position1\u001b[0m\u001b[38;2;248;248;242;48;2;40;42;54m \u001b[0m\u001b[38;2;255;121;198;48;2;40;42;54m+\u001b[0m\u001b[38;2;255;121;198;48;2;40;42;54m=\u001b[0m\u001b[38;2;248;248;242;48;2;40;42;54m \u001b[0m\u001b[38;2;248;248;242;48;2;40;42;54minitial_velocity1\u001b[0m\u001b[38;2;248;248;242;48;2;40;42;54m \u001b[0m\u001b[38;2;255;121;198;48;2;40;42;54m*\u001b[0m\u001b[38;2;248;248;242;48;2;40;42;54m \u001b[0m\u001b[38;2;248;248;242;48;2;40;42;54mtime_step\u001b[0m\u001b[48;2;40;42;54m                                                         \u001b[0m │\n",
       "│ \u001b[38;2;248;248;242;48;2;40;42;54m    \u001b[0m\u001b[38;2;248;248;242;48;2;40;42;54minitial_position2\u001b[0m\u001b[38;2;248;248;242;48;2;40;42;54m \u001b[0m\u001b[38;2;255;121;198;48;2;40;42;54m+\u001b[0m\u001b[38;2;255;121;198;48;2;40;42;54m=\u001b[0m\u001b[38;2;248;248;242;48;2;40;42;54m \u001b[0m\u001b[38;2;248;248;242;48;2;40;42;54minitial_velocity2\u001b[0m\u001b[38;2;248;248;242;48;2;40;42;54m \u001b[0m\u001b[38;2;255;121;198;48;2;40;42;54m*\u001b[0m\u001b[38;2;248;248;242;48;2;40;42;54m \u001b[0m\u001b[38;2;248;248;242;48;2;40;42;54mtime_step\u001b[0m\u001b[48;2;40;42;54m                                                         \u001b[0m │\n",
       "│ \u001b[48;2;40;42;54m                                                                                                               \u001b[0m │\n",
       "│ \u001b[38;2;248;248;242;48;2;40;42;54m    \u001b[0m\u001b[38;2;98;114;164;48;2;40;42;54m# Store the positions for later use\u001b[0m\u001b[48;2;40;42;54m                                                                        \u001b[0m │\n",
       "│ \u001b[38;2;248;248;242;48;2;40;42;54m    \u001b[0m\u001b[38;2;248;248;242;48;2;40;42;54mpositions1\u001b[0m\u001b[38;2;255;121;198;48;2;40;42;54m.\u001b[0m\u001b[38;2;248;248;242;48;2;40;42;54mappend\u001b[0m\u001b[38;2;248;248;242;48;2;40;42;54m(\u001b[0m\u001b[38;2;248;248;242;48;2;40;42;54minitial_position1\u001b[0m\u001b[38;2;248;248;242;48;2;40;42;54m)\u001b[0m\u001b[48;2;40;42;54m                                                                       \u001b[0m │\n",
       "│ \u001b[38;2;248;248;242;48;2;40;42;54m    \u001b[0m\u001b[38;2;248;248;242;48;2;40;42;54mpositions2\u001b[0m\u001b[38;2;255;121;198;48;2;40;42;54m.\u001b[0m\u001b[38;2;248;248;242;48;2;40;42;54mappend\u001b[0m\u001b[38;2;248;248;242;48;2;40;42;54m(\u001b[0m\u001b[38;2;248;248;242;48;2;40;42;54minitial_position2\u001b[0m\u001b[38;2;248;248;242;48;2;40;42;54m)\u001b[0m\u001b[48;2;40;42;54m                                                                       \u001b[0m │\n",
       "│ \u001b[48;2;40;42;54m                                                                                                               \u001b[0m │\n",
       "│ \u001b[38;2;98;114;164;48;2;40;42;54m# Convert the positions to numpy arrays for easy plotting\u001b[0m\u001b[48;2;40;42;54m                                                      \u001b[0m │\n",
       "│ \u001b[38;2;248;248;242;48;2;40;42;54mpositions1\u001b[0m\u001b[38;2;248;248;242;48;2;40;42;54m \u001b[0m\u001b[38;2;255;121;198;48;2;40;42;54m=\u001b[0m\u001b[38;2;248;248;242;48;2;40;42;54m \u001b[0m\u001b[38;2;248;248;242;48;2;40;42;54mnp\u001b[0m\u001b[38;2;255;121;198;48;2;40;42;54m.\u001b[0m\u001b[38;2;248;248;242;48;2;40;42;54marray\u001b[0m\u001b[38;2;248;248;242;48;2;40;42;54m(\u001b[0m\u001b[38;2;248;248;242;48;2;40;42;54mpositions1\u001b[0m\u001b[38;2;248;248;242;48;2;40;42;54m)\u001b[0m\u001b[48;2;40;42;54m                                                                              \u001b[0m │\n",
       "│ \u001b[38;2;248;248;242;48;2;40;42;54mpositions2\u001b[0m\u001b[38;2;248;248;242;48;2;40;42;54m \u001b[0m\u001b[38;2;255;121;198;48;2;40;42;54m=\u001b[0m\u001b[38;2;248;248;242;48;2;40;42;54m \u001b[0m\u001b[38;2;248;248;242;48;2;40;42;54mnp\u001b[0m\u001b[38;2;255;121;198;48;2;40;42;54m.\u001b[0m\u001b[38;2;248;248;242;48;2;40;42;54marray\u001b[0m\u001b[38;2;248;248;242;48;2;40;42;54m(\u001b[0m\u001b[38;2;248;248;242;48;2;40;42;54mpositions2\u001b[0m\u001b[38;2;248;248;242;48;2;40;42;54m)\u001b[0m\u001b[48;2;40;42;54m                                                                              \u001b[0m │\n",
       "│ \u001b[48;2;40;42;54m                                                                                                               \u001b[0m │\n",
       "│ \u001b[38;2;98;114;164;48;2;40;42;54m# Plot the trajectories\u001b[0m\u001b[48;2;40;42;54m                                                                                        \u001b[0m │\n",
       "│ \u001b[38;2;248;248;242;48;2;40;42;54mplt\u001b[0m\u001b[38;2;255;121;198;48;2;40;42;54m.\u001b[0m\u001b[38;2;248;248;242;48;2;40;42;54mplot\u001b[0m\u001b[38;2;248;248;242;48;2;40;42;54m(\u001b[0m\u001b[38;2;248;248;242;48;2;40;42;54mpositions1\u001b[0m\u001b[38;2;248;248;242;48;2;40;42;54m[\u001b[0m\u001b[38;2;248;248;242;48;2;40;42;54m:\u001b[0m\u001b[38;2;248;248;242;48;2;40;42;54m,\u001b[0m\u001b[38;2;248;248;242;48;2;40;42;54m \u001b[0m\u001b[38;2;255;184;108;48;2;40;42;54m0\u001b[0m\u001b[38;2;248;248;242;48;2;40;42;54m]\u001b[0m\u001b[38;2;248;248;242;48;2;40;42;54m,\u001b[0m\u001b[38;2;248;248;242;48;2;40;42;54m \u001b[0m\u001b[38;2;248;248;242;48;2;40;42;54mpositions1\u001b[0m\u001b[38;2;248;248;242;48;2;40;42;54m[\u001b[0m\u001b[38;2;248;248;242;48;2;40;42;54m:\u001b[0m\u001b[38;2;248;248;242;48;2;40;42;54m,\u001b[0m\u001b[38;2;248;248;242;48;2;40;42;54m \u001b[0m\u001b[38;2;255;184;108;48;2;40;42;54m1\u001b[0m\u001b[38;2;248;248;242;48;2;40;42;54m]\u001b[0m\u001b[38;2;248;248;242;48;2;40;42;54m,\u001b[0m\u001b[38;2;248;248;242;48;2;40;42;54m \u001b[0m\u001b[38;2;248;248;242;48;2;40;42;54mcolor\u001b[0m\u001b[38;2;255;121;198;48;2;40;42;54m=\u001b[0m\u001b[38;2;189;147;249;48;2;40;42;54m'\u001b[0m\u001b[38;2;189;147;249;48;2;40;42;54mblue\u001b[0m\u001b[38;2;189;147;249;48;2;40;42;54m'\u001b[0m\u001b[38;2;248;248;242;48;2;40;42;54m,\u001b[0m\u001b[38;2;248;248;242;48;2;40;42;54m \u001b[0m\u001b[38;2;248;248;242;48;2;40;42;54mlabel\u001b[0m\u001b[38;2;255;121;198;48;2;40;42;54m=\u001b[0m\u001b[38;2;189;147;249;48;2;40;42;54m'\u001b[0m\u001b[38;2;189;147;249;48;2;40;42;54mParticle 1\u001b[0m\u001b[38;2;189;147;249;48;2;40;42;54m'\u001b[0m\u001b[38;2;248;248;242;48;2;40;42;54m)\u001b[0m\u001b[48;2;40;42;54m                                 \u001b[0m │\n",
       "│ \u001b[38;2;248;248;242;48;2;40;42;54mplt\u001b[0m\u001b[38;2;255;121;198;48;2;40;42;54m.\u001b[0m\u001b[38;2;248;248;242;48;2;40;42;54mplot\u001b[0m\u001b[38;2;248;248;242;48;2;40;42;54m(\u001b[0m\u001b[38;2;248;248;242;48;2;40;42;54mpositions2\u001b[0m\u001b[38;2;248;248;242;48;2;40;42;54m[\u001b[0m\u001b[38;2;248;248;242;48;2;40;42;54m:\u001b[0m\u001b[38;2;248;248;242;48;2;40;42;54m,\u001b[0m\u001b[38;2;248;248;242;48;2;40;42;54m \u001b[0m\u001b[38;2;255;184;108;48;2;40;42;54m0\u001b[0m\u001b[38;2;248;248;242;48;2;40;42;54m]\u001b[0m\u001b[38;2;248;248;242;48;2;40;42;54m,\u001b[0m\u001b[38;2;248;248;242;48;2;40;42;54m \u001b[0m\u001b[38;2;248;248;242;48;2;40;42;54mpositions2\u001b[0m\u001b[38;2;248;248;242;48;2;40;42;54m[\u001b[0m\u001b[38;2;248;248;242;48;2;40;42;54m:\u001b[0m\u001b[38;2;248;248;242;48;2;40;42;54m,\u001b[0m\u001b[38;2;248;248;242;48;2;40;42;54m \u001b[0m\u001b[38;2;255;184;108;48;2;40;42;54m1\u001b[0m\u001b[38;2;248;248;242;48;2;40;42;54m]\u001b[0m\u001b[38;2;248;248;242;48;2;40;42;54m,\u001b[0m\u001b[38;2;248;248;242;48;2;40;42;54m \u001b[0m\u001b[38;2;248;248;242;48;2;40;42;54mcolor\u001b[0m\u001b[38;2;255;121;198;48;2;40;42;54m=\u001b[0m\u001b[38;2;189;147;249;48;2;40;42;54m'\u001b[0m\u001b[38;2;189;147;249;48;2;40;42;54mred\u001b[0m\u001b[38;2;189;147;249;48;2;40;42;54m'\u001b[0m\u001b[38;2;248;248;242;48;2;40;42;54m,\u001b[0m\u001b[38;2;248;248;242;48;2;40;42;54m \u001b[0m\u001b[38;2;248;248;242;48;2;40;42;54mlabel\u001b[0m\u001b[38;2;255;121;198;48;2;40;42;54m=\u001b[0m\u001b[38;2;189;147;249;48;2;40;42;54m'\u001b[0m\u001b[38;2;189;147;249;48;2;40;42;54mParticle 2\u001b[0m\u001b[38;2;189;147;249;48;2;40;42;54m'\u001b[0m\u001b[38;2;248;248;242;48;2;40;42;54m)\u001b[0m\u001b[48;2;40;42;54m                                  \u001b[0m │\n",
       "│ \u001b[38;2;248;248;242;48;2;40;42;54mplt\u001b[0m\u001b[38;2;255;121;198;48;2;40;42;54m.\u001b[0m\u001b[38;2;248;248;242;48;2;40;42;54mxlabel\u001b[0m\u001b[38;2;248;248;242;48;2;40;42;54m(\u001b[0m\u001b[38;2;189;147;249;48;2;40;42;54m'\u001b[0m\u001b[38;2;189;147;249;48;2;40;42;54mX position\u001b[0m\u001b[38;2;189;147;249;48;2;40;42;54m'\u001b[0m\u001b[38;2;248;248;242;48;2;40;42;54m)\u001b[0m\u001b[48;2;40;42;54m                                                                                       \u001b[0m │\n",
       "│ \u001b[38;2;248;248;242;48;2;40;42;54mplt\u001b[0m\u001b[38;2;255;121;198;48;2;40;42;54m.\u001b[0m\u001b[38;2;248;248;242;48;2;40;42;54mylabel\u001b[0m\u001b[38;2;248;248;242;48;2;40;42;54m(\u001b[0m\u001b[38;2;189;147;249;48;2;40;42;54m'\u001b[0m\u001b[38;2;189;147;249;48;2;40;42;54mY position\u001b[0m\u001b[38;2;189;147;249;48;2;40;42;54m'\u001b[0m\u001b[38;2;248;248;242;48;2;40;42;54m)\u001b[0m\u001b[48;2;40;42;54m                                                                                       \u001b[0m │\n",
       "│ \u001b[38;2;248;248;242;48;2;40;42;54mplt\u001b[0m\u001b[38;2;255;121;198;48;2;40;42;54m.\u001b[0m\u001b[38;2;248;248;242;48;2;40;42;54mlegend\u001b[0m\u001b[38;2;248;248;242;48;2;40;42;54m(\u001b[0m\u001b[38;2;248;248;242;48;2;40;42;54m)\u001b[0m\u001b[48;2;40;42;54m                                                                                                   \u001b[0m │\n",
       "│ \u001b[38;2;248;248;242;48;2;40;42;54mplt\u001b[0m\u001b[38;2;255;121;198;48;2;40;42;54m.\u001b[0m\u001b[38;2;248;248;242;48;2;40;42;54mshow\u001b[0m\u001b[38;2;248;248;242;48;2;40;42;54m(\u001b[0m\u001b[38;2;248;248;242;48;2;40;42;54m)\u001b[0m\u001b[48;2;40;42;54m                                                                                                     \u001b[0m │\n",
       "╰─────────────────────────────────────────────────────────────────────────────────────────────────────────────────╯\n"
      ]
     },
     "metadata": {},
     "output_type": "display_data"
    }
   ],
   "source": [
    "display_nl2code_sample(record)"
   ]
  },
  {
   "cell_type": "code",
   "execution_count": 5,
   "metadata": {},
   "outputs": [
    {
     "name": "stdout",
     "output_type": "stream",
     "text": [
      "2024-09-04 11:39:56.908 - INFO - 🏷️ Generating domains\n",
      "2024-09-04 11:39:58.279 - INFO - 🏷️ Generating topics for each domain\n",
      "2024-09-04 11:40:04.601 - INFO - 🏷️ Generating levels of Python complexity\n"
     ]
    }
   ],
   "source": [
    "tags = tasks.generate_contextual_tags(\n",
    "    num_domains=3,\n",
    "    num_topics_per_domain=5,\n",
    "    num_complexity_levels=4,\n",
    ")"
   ]
  },
  {
   "cell_type": "code",
   "execution_count": 6,
   "metadata": {},
   "outputs": [
    {
     "data": {
      "text/plain": [
       "ContextualTags({\n",
       "    \"domain_and_topics\": {\n",
       "        \"Financial Technology\": [\n",
       "            \"Payment Processing\",\n",
       "            \"Fraud Detection\",\n",
       "            \"Investment Management\",\n",
       "            \"Risk Modeling\",\n",
       "            \"Data Security\"\n",
       "        ],\n",
       "        \"Healthcare Analytics\": [\n",
       "            \"Patient Records Analysis\",\n",
       "            \"Disease Prediction Models\",\n",
       "            \"Clinical Trial Data Analysis\",\n",
       "            \"Medication Adherence Tracking\",\n",
       "            \"Public Health Surveillance\"\n",
       "        ],\n",
       "        \"Geographic Information Systems\": [\n",
       "            \"Spatial Data Analysis\",\n",
       "            \"Cartography\",\n",
       "            \"Geocoding\",\n",
       "            \"Remote Sensing\",\n",
       "            \"GIS Database Design\"\n",
       "        ]\n",
       "    },\n",
       "    \"complexity_levels\": [\n",
       "        \"Novice: Simple scripts and basic logic\",\n",
       "        \"Intermediate: Data structures and algorithms\",\n",
       "        \"Advanced: Concurrency and parallelism\",\n",
       "        \"Expert: Distributed systems and performance optimization\"\n",
       "    ]\n",
       "})"
      ]
     },
     "execution_count": 6,
     "metadata": {},
     "output_type": "execute_result"
    }
   ],
   "source": [
    "tags"
   ]
  },
  {
   "cell_type": "code",
   "execution_count": 7,
   "metadata": {},
   "outputs": [
    {
     "data": {
      "text/plain": [
       "PromptTemplateSuite(\n",
       "    domains: ('num_domains',)\n",
       "    topics_from_domains: ('num_topics', 'domain')\n",
       "    complexity: ('num_levels',)\n",
       "    python_natural_language: ('nl_type_description', 'nl_type', 'complexity', 'nl_type', 'domain', 'topic')\n",
       "    python_code_generation: ('python_natural_language', 'complexity', 'domain', 'topic', 'suggested_packages')\n",
       "    python_suggested_packages: ('domain', 'max_dependencies', 'domain')\n",
       ")"
      ]
     },
     "execution_count": 7,
     "metadata": {},
     "output_type": "execute_result"
    }
   ],
   "source": [
    "prompt_templates = load_prompt_template_suite(\"python\")\n",
    "\n",
    "prompt_templates"
   ]
  },
  {
   "cell_type": "code",
   "execution_count": 8,
   "metadata": {},
   "outputs": [
    {
     "name": "stdout",
     "output_type": "stream",
     "text": [
      "Create a list of 3 unique industries where you expect to find software engineers who code in Python. \n",
      "\n",
      "### Instructions:\n",
      "    * Do not use abbreviations.\n",
      "    * Keep each industry name to 1-5 words, preferring concise names.\n",
      "    * List the industries in a valid JSON array.\n",
      "\n"
     ]
    }
   ],
   "source": [
    "print(prompt_templates.domains(num_domains=3))"
   ]
  }
 ],
 "metadata": {
  "kernelspec": {
   "display_name": "monogretel-dev",
   "language": "python",
   "name": "python3"
  },
  "language_info": {
   "codemirror_mode": {
    "name": "ipython",
    "version": 3
   },
   "file_extension": ".py",
   "mimetype": "text/x-python",
   "name": "python",
   "nbconvert_exporter": "python",
   "pygments_lexer": "ipython3",
   "version": "3.9.16"
  }
 },
 "nbformat": 4,
 "nbformat_minor": 2
}
