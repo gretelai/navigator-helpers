{
 "cells": [
  {
   "cell_type": "code",
   "execution_count": 2,
   "id": "8e43db24-efe0-44b4-84fd-aba06527c235",
   "metadata": {},
   "outputs": [],
   "source": [
    "import os\n",
    "import yaml\n",
    "from getpass import getpass\n",
    "\n",
    "from navigator_helpers import PiiDocsPipeline"
   ]
  },
  {
   "cell_type": "code",
   "execution_count": 3,
   "id": "8f0b52fe",
   "metadata": {},
   "outputs": [],
   "source": [
    "llm_config = \"\"\"\n",
    "- model_name: gretelai-mistral-nemo-2407\n",
    "  litellm_params:\n",
    "    model: gretelai/gpt-mistral-nemo-2407\n",
    "    api_key: os.environ/GRETEL_PROD_API_KEY\n",
    "    api_base: https://api.gretel.ai\n",
    "  tags:\n",
    "  - open_license\n",
    "  - nl\n",
    "  - judge\n",
    "  - code\n",
    "\"\"\"\n",
    "\n",
    "# Save the configuration to a local YAML file\n",
    "llm_config_path = \"llm_config.yaml\"\n",
    "with open(llm_config_path, \"w\") as file:\n",
    "    yaml.dump(yaml.safe_load(llm_config), file, default_flow_style=False)"
   ]
  },
  {
   "cell_type": "code",
   "execution_count": 4,
   "id": "1cb9c7c2-f28e-4c0b-87fa-871a1debda84",
   "metadata": {},
   "outputs": [],
   "source": [
    "pii_doc_config = \"\"\"\n",
    "doc_lang: pii_doc\n",
    "llm_suite_type: open_license\n",
    "\n",
    "num_domains: 3\n",
    "num_doctypes_per_domain: 10\n",
    "\n",
    "entity_validation: true\n",
    "\"\"\""
   ]
  },
  {
   "cell_type": "code",
   "execution_count": null,
   "id": "f37e952e",
   "metadata": {},
   "outputs": [],
   "source": [
    "# Set the Gretel API key as an environment variable\n",
    "os.environ[\"GRETEL_PROD_API_KEY\"] = getpass(\"Enter your Gretel API key: \")\n",
    "\n",
    "pipe = PiiDocsPipeline(pii_doc_config, llm_config=llm_config_path)"
   ]
  },
  {
   "cell_type": "code",
   "execution_count": 6,
   "id": "18a77c21",
   "metadata": {},
   "outputs": [],
   "source": [
    "contextual_tags = {\n",
    "    \"domain_and_doctypes\": {\n",
    "        \"healthcare\": None,\n",
    "        \"e-commerce\": None,\n",
    "        \"education\": None\n",
    "    },\n",
    "}"
   ]
  },
  {
   "cell_type": "code",
   "execution_count": null,
   "id": "44a13092",
   "metadata": {},
   "outputs": [],
   "source": [
    "pipe.set_contextual_tags(contextual_tags)\n",
    "pipe.show_contextual_tags()"
   ]
  },
  {
   "cell_type": "code",
   "execution_count": null,
   "id": "7384e462",
   "metadata": {},
   "outputs": [],
   "source": [
    "results = pipe.run(num_samples=5, max_workers=1)"
   ]
  },
  {
   "cell_type": "code",
   "execution_count": null,
   "id": "05b101d2",
   "metadata": {},
   "outputs": [],
   "source": [
    "results.display_sample()"
   ]
  }
 ],
 "metadata": {
  "kernelspec": {
   "display_name": "venv",
   "language": "python",
   "name": "venv"
  },
  "language_info": {
   "codemirror_mode": {
    "name": "ipython",
    "version": 3
   },
   "file_extension": ".py",
   "mimetype": "text/x-python",
   "name": "python",
   "nbconvert_exporter": "python",
   "pygments_lexer": "ipython3",
   "version": "3.11.9"
  }
 },
 "nbformat": 4,
 "nbformat_minor": 5
}
