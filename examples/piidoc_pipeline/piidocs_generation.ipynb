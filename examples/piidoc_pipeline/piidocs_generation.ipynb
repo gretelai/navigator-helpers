{
 "cells": [
  {
   "cell_type": "code",
   "execution_count": 2,
   "id": "8e43db24-efe0-44b4-84fd-aba06527c235",
   "metadata": {},
   "outputs": [],
   "source": [
    "import os\n",
    "import yaml\n",
    "from getpass import getpass\n",
    "\n",
    "from navigator_helpers import PiiDocsPipeline"
   ]
  },
  {
   "cell_type": "code",
   "execution_count": 3,
   "id": "8f0b52fe",
   "metadata": {},
   "outputs": [],
   "source": [
    "llm_config = \"\"\"\n",
    "- model_name: gretelai-mistral-nemo-2407\n",
    "  litellm_params:\n",
    "    model: gretelai/gpt-mistral-nemo-2407\n",
    "    api_key: os.environ/GRETEL_PROD_API_KEY\n",
    "    api_base: https://api.gretel.ai\n",
    "  tags:\n",
    "  - open_license\n",
    "  - nl\n",
    "  - judge\n",
    "  - code\n",
    "\"\"\"\n",
    "\n",
    "# Save the configuration to a local YAML file\n",
    "llm_config_path = \"llm_config.yaml\"\n",
    "with open(llm_config_path, \"w\") as file:\n",
    "    yaml.dump(yaml.safe_load(llm_config), file, default_flow_style=False)"
   ]
  },
  {
   "cell_type": "code",
   "execution_count": 4,
   "id": "1cb9c7c2-f28e-4c0b-87fa-871a1debda84",
   "metadata": {},
   "outputs": [],
   "source": [
    "pii_doc_config = \"\"\"\n",
    "doc_lang: pii_doc\n",
    "llm_suite_type: open_license\n",
    "\n",
    "num_domains: 3\n",
    "num_doctypes_per_domain: 10\n",
    "\n",
    "entity_validation: true\n",
    "\"\"\""
   ]
  },
  {
   "cell_type": "code",
   "execution_count": 5,
   "id": "f37e952e",
   "metadata": {},
   "outputs": [
    {
     "name": "stdout",
     "output_type": "stream",
     "text": [
      "2024-10-17 12:35:11.991 - INFO - ⚙️ Setting up Synthetic Data Pipeline\n",
      "2024-10-17 12:35:11.995 - INFO - 🦜 Initializing LLM suite\n",
      "2024-10-17 12:35:11.996 - INFO - 📖 Natural language LLM: gretelai-mistral-nemo-2407\n",
      "2024-10-17 12:35:11.997 - INFO - 💻 Code LLM: gretelai-mistral-nemo-2407\n",
      "2024-10-17 12:35:11.998 - INFO - ⚖️ Judge LLM: gretelai-mistral-nemo-2407\n",
      "2024-10-17 12:35:11.998 - INFO - 📦 Artifact path: pipeline-artifacts/pii_doc\n"
     ]
    }
   ],
   "source": [
    "# Set the Gretel API key as an environment variable\n",
    "os.environ[\"GRETEL_PROD_API_KEY\"] = getpass(\"Enter your Gretel API key: \")\n",
    "\n",
    "pipe = PiiDocsPipeline(pii_doc_config, llm_config=llm_config_path)"
   ]
  },
  {
   "cell_type": "code",
   "execution_count": 6,
   "id": "18a77c21",
   "metadata": {},
   "outputs": [],
   "source": [
    "contextual_tags = {\n",
    "    \"domain_and_doctypes\": {\n",
    "        \"healthcare\": None,\n",
    "        \"e-commerce\": None,\n",
    "        \"education\": None\n",
    "    },\n",
    "}"
   ]
  },
  {
   "cell_type": "code",
   "execution_count": null,
   "id": "44a13092",
   "metadata": {},
   "outputs": [],
   "source": [
    "pipe.set_contextual_tags(contextual_tags)\n",
    "pipe.show_contextual_tags()"
   ]
  },
  {
   "cell_type": "code",
   "execution_count": null,
   "id": "7384e462",
   "metadata": {},
   "outputs": [],
   "source": [
    "results = pipe.run(num_samples=5, max_workers=1)"
   ]
  },
  {
   "cell_type": "code",
   "execution_count": 11,
   "id": "05b101d2",
   "metadata": {},
   "outputs": [
    {
     "data": {
      "text/html": [
       "<pre style=\"white-space:pre;overflow-x:auto;line-height:normal;font-family:Menlo,'DejaVu Sans Mono',consolas,'Courier New',monospace\"><span style=\"font-style: italic\">                                                  Contextual Tags                                                  </span>\n",
       "┏━━━━━━━━━━━┳━━━━━━━━━━━━━━━━━┳━━━━━━━━━━━━━━━━━━━━━━━━━━━━━━━━━━━━━━━━━━━━━━━━━━━━━━━━━━━━━━━━━━━━━━━━━━━━━━━━━━━┓\n",
       "┃<span style=\"font-weight: bold\"> Domain    </span>┃<span style=\"font-weight: bold\"> Document Type   </span>┃<span style=\"font-weight: bold\"> Document Description                                                              </span>┃\n",
       "┡━━━━━━━━━━━╇━━━━━━━━━━━━━━━━━╇━━━━━━━━━━━━━━━━━━━━━━━━━━━━━━━━━━━━━━━━━━━━━━━━━━━━━━━━━━━━━━━━━━━━━━━━━━━━━━━━━━━┩\n",
       "│ education │ EducationPolicy │ An EducationPolicy document is typically a PDF or Word file, outlining            │\n",
       "│           │                 │ institutional rules, standards, and guidelines, containing sections like Policy   │\n",
       "│           │                 │ Statement, Purpose, Scope, Definitions, Policy, and Responsibilities, with        │\n",
       "│           │                 │ content comprising text, tables, and occasionally hyperlinks.                     │\n",
       "└───────────┴─────────────────┴───────────────────────────────────────────────────────────────────────────────────┘\n",
       "</pre>\n"
      ],
      "text/plain": [
       "\u001b[3m                                                  Contextual Tags                                                  \u001b[0m\n",
       "┏━━━━━━━━━━━┳━━━━━━━━━━━━━━━━━┳━━━━━━━━━━━━━━━━━━━━━━━━━━━━━━━━━━━━━━━━━━━━━━━━━━━━━━━━━━━━━━━━━━━━━━━━━━━━━━━━━━━┓\n",
       "┃\u001b[1m \u001b[0m\u001b[1mDomain   \u001b[0m\u001b[1m \u001b[0m┃\u001b[1m \u001b[0m\u001b[1mDocument Type  \u001b[0m\u001b[1m \u001b[0m┃\u001b[1m \u001b[0m\u001b[1mDocument Description                                                             \u001b[0m\u001b[1m \u001b[0m┃\n",
       "┡━━━━━━━━━━━╇━━━━━━━━━━━━━━━━━╇━━━━━━━━━━━━━━━━━━━━━━━━━━━━━━━━━━━━━━━━━━━━━━━━━━━━━━━━━━━━━━━━━━━━━━━━━━━━━━━━━━━┩\n",
       "│ education │ EducationPolicy │ An EducationPolicy document is typically a PDF or Word file, outlining            │\n",
       "│           │                 │ institutional rules, standards, and guidelines, containing sections like Policy   │\n",
       "│           │                 │ Statement, Purpose, Scope, Definitions, Policy, and Responsibilities, with        │\n",
       "│           │                 │ content comprising text, tables, and occasionally hyperlinks.                     │\n",
       "└───────────┴─────────────────┴───────────────────────────────────────────────────────────────────────────────────┘\n"
      ]
     },
     "metadata": {},
     "output_type": "display_data"
    },
    {
     "data": {
      "text/html": [
       "<pre style=\"white-space:pre;overflow-x:auto;line-height:normal;font-family:Menlo,'DejaVu Sans Mono',consolas,'Courier New',monospace\">╭───────────────────────────────────────────────── Document Text ─────────────────────────────────────────────────╮\n",
       "│ All employees must update their personal information annually. Employee ID EMP335535, SSN ZZ 505140 T, and date │\n",
       "│ of birth 1940-08-28 on file. Address: 6254 Booth Burgs Suite 769.                                               │\n",
       "╰─────────────────────────────────────────────────────────────────────────────────────────────────────────────────╯\n",
       "</pre>\n"
      ],
      "text/plain": [
       "╭───────────────────────────────────────────────── Document Text ─────────────────────────────────────────────────╮\n",
       "│ All employees must update their personal information annually. Employee ID EMP335535, SSN ZZ 505140 T, and date │\n",
       "│ of birth 1940-08-28 on file. Address: 6254 Booth Burgs Suite 769.                                               │\n",
       "╰─────────────────────────────────────────────────────────────────────────────────────────────────────────────────╯\n"
      ]
     },
     "metadata": {},
     "output_type": "display_data"
    },
    {
     "data": {
      "text/html": [
       "<pre style=\"white-space:pre;overflow-x:auto;line-height:normal;font-family:Menlo,'DejaVu Sans Mono',consolas,'Courier New',monospace\"><span style=\"font-style: italic\">              Document Entities               </span>\n",
       "┏━━━━━━━━━━━━━━━┳━━━━━━━━━━━━━━━━━━━━━━━━━━━━┓\n",
       "┃<span style=\"font-weight: bold\"> Types         </span>┃<span style=\"font-weight: bold\"> Entity                     </span>┃\n",
       "┡━━━━━━━━━━━━━━━╇━━━━━━━━━━━━━━━━━━━━━━━━━━━━┩\n",
       "│<span style=\"color: #800080; text-decoration-color: #800080\"> employee_id   </span>│<span style=\"color: #008080; text-decoration-color: #008080\"> EMP335535                  </span>│\n",
       "│<span style=\"color: #800080; text-decoration-color: #800080\"> ssn           </span>│<span style=\"color: #008080; text-decoration-color: #008080\"> ZZ 505140 T                </span>│\n",
       "│<span style=\"color: #800080; text-decoration-color: #800080\"> date_of_birth </span>│<span style=\"color: #008080; text-decoration-color: #008080\"> 1940-08-28                 </span>│\n",
       "│<span style=\"color: #800080; text-decoration-color: #800080\"> address       </span>│<span style=\"color: #008080; text-decoration-color: #008080\"> 6254 Booth Burgs Suite 769 </span>│\n",
       "└───────────────┴────────────────────────────┘\n",
       "</pre>\n"
      ],
      "text/plain": [
       "\u001b[3m              Document Entities               \u001b[0m\n",
       "┏━━━━━━━━━━━━━━━┳━━━━━━━━━━━━━━━━━━━━━━━━━━━━┓\n",
       "┃\u001b[1m \u001b[0m\u001b[1mTypes        \u001b[0m\u001b[1m \u001b[0m┃\u001b[1m \u001b[0m\u001b[1mEntity                    \u001b[0m\u001b[1m \u001b[0m┃\n",
       "┡━━━━━━━━━━━━━━━╇━━━━━━━━━━━━━━━━━━━━━━━━━━━━┩\n",
       "│\u001b[35m \u001b[0m\u001b[35memployee_id  \u001b[0m\u001b[35m \u001b[0m│\u001b[36m \u001b[0m\u001b[36mEMP335535                 \u001b[0m\u001b[36m \u001b[0m│\n",
       "│\u001b[35m \u001b[0m\u001b[35mssn          \u001b[0m\u001b[35m \u001b[0m│\u001b[36m \u001b[0m\u001b[36mZZ 505140 T               \u001b[0m\u001b[36m \u001b[0m│\n",
       "│\u001b[35m \u001b[0m\u001b[35mdate_of_birth\u001b[0m\u001b[35m \u001b[0m│\u001b[36m \u001b[0m\u001b[36m1940-08-28                \u001b[0m\u001b[36m \u001b[0m│\n",
       "│\u001b[35m \u001b[0m\u001b[35maddress      \u001b[0m\u001b[35m \u001b[0m│\u001b[36m \u001b[0m\u001b[36m6254 Booth Burgs Suite 769\u001b[0m\u001b[36m \u001b[0m│\n",
       "└───────────────┴────────────────────────────┘\n"
      ]
     },
     "metadata": {},
     "output_type": "display_data"
    },
    {
     "data": {
      "text/html": [
       "<pre style=\"white-space:pre;overflow-x:auto;line-height:normal;font-family:Menlo,'DejaVu Sans Mono',consolas,'Courier New',monospace\">┏━━━━━━━━━━━━━━━━━━━┓\n",
       "┃<span style=\"font-weight: bold\"> Entity Validation </span>┃\n",
       "┡━━━━━━━━━━━━━━━━━━━┩\n",
       "│            PASSED │\n",
       "└───────────────────┘\n",
       "</pre>\n"
      ],
      "text/plain": [
       "┏━━━━━━━━━━━━━━━━━━━┓\n",
       "┃\u001b[1m \u001b[0m\u001b[1mEntity Validation\u001b[0m\u001b[1m \u001b[0m┃\n",
       "┡━━━━━━━━━━━━━━━━━━━┩\n",
       "│            PASSED │\n",
       "└───────────────────┘\n"
      ]
     },
     "metadata": {},
     "output_type": "display_data"
    }
   ],
   "source": [
    "results.display_sample()"
   ]
  }
 ],
 "metadata": {
  "kernelspec": {
   "display_name": "venv",
   "language": "python",
   "name": "venv"
  },
  "language_info": {
   "codemirror_mode": {
    "name": "ipython",
    "version": 3
   },
   "file_extension": ".py",
   "mimetype": "text/x-python",
   "name": "python",
   "nbconvert_exporter": "python",
   "pygments_lexer": "ipython3",
   "version": "3.11.9"
  }
 },
 "nbformat": 4,
 "nbformat_minor": 5
}
